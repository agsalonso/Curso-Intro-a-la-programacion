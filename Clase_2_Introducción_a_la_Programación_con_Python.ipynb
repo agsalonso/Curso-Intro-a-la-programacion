{
  "nbformat": 4,
  "nbformat_minor": 0,
  "metadata": {
    "colab": {
      "name": "Copy of Clase 2 - Introducción a la Programación con Python.ipynb",
      "provenance": [],
      "collapsed_sections": [],
      "toc_visible": true,
      "include_colab_link": true
    },
    "kernelspec": {
      "name": "python3",
      "display_name": "Python 3"
    }
  },
  "cells": [
    {
      "cell_type": "markdown",
      "metadata": {
        "id": "view-in-github",
        "colab_type": "text"
      },
      "source": [
        "<a href=\"https://colab.research.google.com/github/agsalonso/Curso-Intro-a-la-programacion/blob/main/Clase_2_Introducci%C3%B3n_a_la_Programaci%C3%B3n_con_Python.ipynb\" target=\"_parent\"><img src=\"https://colab.research.google.com/assets/colab-badge.svg\" alt=\"Open In Colab\"/></a>"
      ]
    },
    {
      "cell_type": "markdown",
      "metadata": {
        "id": "sDTOm9ITssL_"
      },
      "source": [
        "#Clase 2\n",
        "\n",
        "##Introducción\n",
        "\n",
        "Antes de poder empezar a crear aplicaciones más prácticas con nuestro código, debemos primero aprender algunas cosas más acerca del funcionamiento de Python en lo que refiere a tipos y estructuras de datos. Este conocimiento será esencial para poder crear aplicaciones de cierta complejidad.\n",
        "\n",
        "Cuando se desarrolla un programa es usual la necesidad de trabajar con información, como fue visto en la clase anterior.\n",
        "Es natural pensar que una computadora debe saber cómo es la información que tiene almacenada.\n",
        "\n",
        "&ensp;*¿Es un número? ¿Es una letra? ¿Es una palabra? ¿Es una lista de cosas?*\n",
        "\n",
        "<img src=\"https://raw.githubusercontent.com/IEEESBITBA/Curso-Python/master/_assets/Data_Type_Word_Art.png\" alt = \"Wordcloud con tipos de datos comunes\" height = 350 title=\"Objects y structures son un conjunto de subtipos\">\n",
        "\n",
        "\n",
        "En esta ocasión vamos a profundizar sobre un aspecto en particular de dicha información, el cual es llamado su \"tipo\". \n",
        "Mencionamos anteriormente que las variables son una forma de asignarle un nombre a un porción de la memoria de la computadora que se utiliza para guardar algún dato.\n",
        "\n",
        "&ensp;*¿Cómo es que algunas variables representan números y otras texto?*\n",
        "\n",
        "&ensp;*¿Cualquier porción de la memoria sirve para guardar texto o números?*\n",
        "\n",
        "&ensp;*¿Otro tipo de información como imágenes y música se guardan en distintos lugares de la memoria?*\n",
        "\n",
        "La memoria en una computadora en realidad funciona toda de la misma manera. De una forma muy resumida, se puede pensar a la memoria de una computadora como una larga lista de casilleros que pueden guardar números:\n",
        "\n",
        "<br />\n",
        "\n",
        "![Memoria diagrama 1](https://raw.githubusercontent.com/IEEESBITBA/Curso-Python/master/_assets/memoria_diagrama0.png)\n",
        "\n",
        "<br />\n",
        "\n",
        "Cada vez que se crea una variable, el sistema reserva algunos casilleros para guardar su información, y cada vez que se modifique el valor de la variable lo que va a suceder es que los números guardados en esos casilleros van a cambiar acordemente:\n",
        "\n",
        "<br />\n",
        "\n",
        "![Memoria diagrama 2](https://raw.githubusercontent.com/IEEESBITBA/Curso-Python/master/_assets/memoria_diagrama1.png)\n",
        "\n",
        "<br />\n",
        "\n",
        "&ensp;*¿Pero cómo podemos guardar datos que no son números?*\n",
        "\n",
        "Ya que todas las porciones de la memoria funcionan de la misma manera, entonces debemos ser nosotros los que le den un significado distinto a los diferentes tipos de información que deseamos guardar. Para guardar texto se puede asociar cada letra y símbolo a un número distinto, de esta forma uso un \"casillero de memoria\" para cada letra y guardo allí el número correspondiente a la letra deseada. Para guardar colores, lo más usual es representarlo mediante la mezcla de los [colores primarios de la luz](https://es.wikipedia.org/wiki/Color_primario#Colores_primarios_en_la_luz_(RGB)), de forma que uso 3 números para indicar cuánto \"mezclar\" de cada color. De esta manera, cada tipo de información se almacena en la memoria usando una representación numérica, la cuál será distinta en cada caso:\n",
        "\n",
        "<br />\n",
        "\n",
        "![Memoria diagrama 3](https://raw.githubusercontent.com/IEEESBITBA/Curso-Python/master/_assets/memoria_diagrama2.png)\n",
        "\n",
        "<br />\n",
        "\n",
        "&ensp;*¿Cómo puedo saber si un \"casillero\" almacena un número, una letra, u otro tipo de información?*\n",
        "\n",
        "Acá es donde entran en juego los \"tipos\" de variable. Cada variable tiene asociado un \"tipo\", que indica qué significan los números almacenados en la memoria bajo ese nombre, y cómo interpretarlos. De esta forma se pueden tener variables de tipo numérico, de tipo string (texto) y de muchos más que veremos más adelante. Gracias a los tipos es que puedo usar la instrucción **print()** con una variable de tipo string y la interpreta correctamente como texto, en lugar de mostrar los números que se encuentran almacenados en la memoria.\n",
        "\n",
        "Distintos lenguajes de programación trabajan de diversas formas este aspecto de la información. En Python en particular, no se debe aclarar explícitamente cuál es el tipo de dato de una variable: el lenguaje de programación nos entiende y asume cuál debe ser dicho tipo. Por ejemplo, si creo la variable `x = 5`, no hace falta aclarar que `x` es de tipo numérico, se entiende implícitamente. También, a diferencia de muchos lenguajes, en Python las variables no tienen un único tipo y pueden ir cambiando a lo largo de la ejecución del programa, por esta razón se suele decir que Python es un lenguaje de *tipado dinámico*.\n",
        "\n",
        "Incluímos un anexo al final de esta clase con algunos detalles más técnicos y sutilezas acerca de este tema. No es necesario leerlo, es sólo para aquel que quiera conocer más acerca del funcionamiento de la memoria.\n",
        "\n",
        "A continuación mostraremos ejemplos con el uso de distintos tipos de datos en Python\n",
        "\n",
        "\n"
      ]
    },
    {
      "cell_type": "code",
      "metadata": {
        "id": "-0wlmQ3lsv0v",
        "colab": {
          "base_uri": "https://localhost:8080/",
          "height": 471
        },
        "outputId": "949545d1-2430-4bc9-ae9a-90ba794ce56a"
      },
      "source": [
        "# Link a Youtube: https://youtu.be/pnMgaRrl7jE\n",
        "# Tema: Tipos de datos.\n",
        "\n",
        "from IPython.display import YouTubeVideo\n",
        "YouTubeVideo('pnMgaRrl7jE', width=800, height=450)       "
      ],
      "execution_count": null,
      "outputs": [
        {
          "output_type": "execute_result",
          "data": {
            "text/html": [
              "\n",
              "        <iframe\n",
              "            width=\"800\"\n",
              "            height=\"450\"\n",
              "            src=\"https://www.youtube.com/embed/pnMgaRrl7jE\"\n",
              "            frameborder=\"0\"\n",
              "            allowfullscreen\n",
              "        ></iframe>\n",
              "        "
            ],
            "text/plain": [
              "<IPython.lib.display.YouTubeVideo at 0x7ff5f51b8c90>"
            ],
            "image/jpeg": "[encoded data removed]"
          },
          "metadata": {
            "tags": []
          },
          "execution_count": 1
        }
      ]
    },
    {
      "cell_type": "markdown",
      "metadata": {
        "id": "KKRX73Ig0Fo0"
      },
      "source": [
        "##Tipos de datos"
      ]
    },
    {
      "cell_type": "markdown",
      "metadata": {
        "id": "8L6F_M5JtFnN"
      },
      "source": [
        "### Tipos numéricos"
      ]
    },
    {
      "cell_type": "code",
      "metadata": {
        "id": "RWX-iMOOtHbo",
        "colab": {
          "base_uri": "https://localhost:8080/",
          "height": 471
        },
        "outputId": "aec6318c-bb35-4be8-e381-adb69d34b57b"
      },
      "source": [
        "# Link a Youtube: https://youtu.be/Gng0TTHdmD0\n",
        "# Tema: Tipos de datos numericos, int, float y bool.\n",
        "\n",
        "from IPython.display import YouTubeVideo\n",
        "YouTubeVideo('Gng0TTHdmD0', width=800, height=450)       #Video Clase 2.1"
      ],
      "execution_count": null,
      "outputs": [
        {
          "output_type": "execute_result",
          "data": {
            "text/html": [
              "\n",
              "        <iframe\n",
              "            width=\"800\"\n",
              "            height=\"450\"\n",
              "            src=\"https://www.youtube.com/embed/Gng0TTHdmD0\"\n",
              "            frameborder=\"0\"\n",
              "            allowfullscreen\n",
              "        ></iframe>\n",
              "        "
            ],
            "text/plain": [
              "<IPython.lib.display.YouTubeVideo at 0x7ff5f2f6dfd0>"
            ],
            "image/jpeg": "[encoded data removed]"
          },
          "metadata": {
            "tags": []
          },
          "execution_count": 2
        }
      ]
    },
    {
      "cell_type": "markdown",
      "metadata": {
        "id": "-Lr8w9PGtYoG"
      },
      "source": [
        "#### int\n",
        "Es el tipo de dato más básico, con el que pueden almacenarse números enteros:"
      ]
    },
    {
      "cell_type": "code",
      "metadata": {
        "id": "PSUbMfmatdKX",
        "colab": {
          "base_uri": "https://localhost:8080/"
        },
        "outputId": "ec35cf82-e3fd-4153-fb5d-f5d5504b0df9"
      },
      "source": [
        "dias = 5\n",
        "print(dias)"
      ],
      "execution_count": null,
      "outputs": [
        {
          "output_type": "stream",
          "text": [
            "5\n"
          ],
          "name": "stdout"
        }
      ]
    },
    {
      "cell_type": "markdown",
      "metadata": {
        "id": "CAWY7u0Btdkt"
      },
      "source": [
        "A veces operando con datos enteros podemos obtener números racionales, por ejemplo:"
      ]
    },
    {
      "cell_type": "code",
      "metadata": {
        "id": "GHS0R23Htf3Z",
        "colab": {
          "base_uri": "https://localhost:8080/"
        },
        "outputId": "415f7aba-7a17-46ee-cf63-991558f402b7"
      },
      "source": [
        "x = int(input(\"Ingrese dividendo:\"))\n",
        "y = int(input(\"Ingrese divisor:\"))\n",
        "print(\"Resultado:\", x/y) "
      ],
      "execution_count": null,
      "outputs": [
        {
          "output_type": "stream",
          "text": [
            "Ingrese dividendo:6\n",
            "Ingrese divisor:3\n",
            "Resultado: 2.0\n"
          ],
          "name": "stdout"
        }
      ]
    },
    {
      "cell_type": "markdown",
      "metadata": {
        "id": "uuleyjPNtii1"
      },
      "source": [
        "Para evitar esto podemos usar el operador **división entera //** para obtener la parte entera del resultado de la división:"
      ]
    },
    {
      "cell_type": "code",
      "metadata": {
        "id": "fvduu-NLtjv9",
        "colab": {
          "base_uri": "https://localhost:8080/"
        },
        "outputId": "ac5e284d-6212-4b5d-bec0-12030ddc8a70"
      },
      "source": [
        "x = int(input(\"Ingrese dividendo:\"))\n",
        "y = int(input(\"Ingrese divisor:\"))\n",
        "print(\"Resultado división entera:\", x//y) "
      ],
      "execution_count": null,
      "outputs": [
        {
          "output_type": "stream",
          "text": [
            "Ingrese dividendo:2\n",
            "Ingrese divisor:2\n",
            "Resultado división entera: 1\n"
          ],
          "name": "stdout"
        }
      ]
    },
    {
      "cell_type": "markdown",
      "metadata": {
        "id": "Kbs2um--t5BO"
      },
      "source": [
        "\n",
        "Si queremos saber el resto de la división entera, usamos el operador **módulo %** que fue explicado previamente:"
      ]
    },
    {
      "cell_type": "code",
      "metadata": {
        "id": "9rb7KRh5uKbu",
        "colab": {
          "base_uri": "https://localhost:8080/"
        },
        "outputId": "d2655c68-6b5f-4492-a27f-a9e9e57047bc"
      },
      "source": [
        "x = int(input(\"Ingrese dividendo:\"))\n",
        "y = int(input(\"Ingrese divisor:\"))\n",
        "print(\"División entera=\", x // y) # Redondea division hacia abajo\n",
        "print(\"Resto =\",x % y)            # Operación Módulo\n",
        "\n",
        "#Se pueden mostrar varias cosas juntas si se separan con coma dentro de print()\n",
        "print(x // y, \"*\", y, \"+\", x%y,\"=\", x)"
      ],
      "execution_count": null,
      "outputs": [
        {
          "output_type": "stream",
          "text": [
            "Ingrese dividendo:2\n",
            "Ingrese divisor:2\n",
            "División entera= 1\n",
            "Resto = 0\n",
            "1 * 2 + 0 = 2\n"
          ],
          "name": "stdout"
        }
      ]
    },
    {
      "cell_type": "markdown",
      "metadata": {
        "id": "h2T32iBduZ7c"
      },
      "source": [
        "#### float\n",
        "Este tipo de dato es utilizado para almacenar números reales que pueden contener decimales."
      ]
    },
    {
      "cell_type": "code",
      "metadata": {
        "id": "xgv0kSbOuhaF",
        "colab": {
          "base_uri": "https://localhost:8080/"
        },
        "outputId": "5a8c55af-8508-4e8e-ee55-8f912a7b2288"
      },
      "source": [
        "pi = 3.14\n",
        "x = 3.    # Se indica que es un numero real con el . \n",
        "z = 3     # Este será un número entero\n",
        "print(\"x =\", x)\n",
        "print(\"z =\", z)"
      ],
      "execution_count": null,
      "outputs": [
        {
          "output_type": "stream",
          "text": [
            "x = 3.0\n",
            "z = 3\n"
          ],
          "name": "stdout"
        }
      ]
    },
    {
      "cell_type": "markdown",
      "metadata": {
        "id": "i79Mn2y1uoGe"
      },
      "source": [
        "Si queremos saber la parte entera de un **float**, podemos simplemente convertirlo a **int**. Esto hará la siguiente operacion:\n",
        "\n",
        "$$x \\leftarrow \\lfloor y \\rfloor $$\n",
        "\n",
        "La acción de convertir una variable de un tipo a otro diferente se conoce como **cast**. \n",
        "\n"
      ]
    },
    {
      "cell_type": "code",
      "metadata": {
        "id": "a8oZwJ5Hup0u",
        "colab": {
          "base_uri": "https://localhost:8080/"
        },
        "outputId": "6f88b55f-0609-44e3-da62-e29a332fbeb0"
      },
      "source": [
        "y = 3.14\n",
        "x = int(y)\n",
        "print(\"x =\", x)"
      ],
      "execution_count": null,
      "outputs": [
        {
          "output_type": "stream",
          "text": [
            "x = 3\n"
          ],
          "name": "stdout"
        }
      ]
    },
    {
      "cell_type": "markdown",
      "metadata": {
        "id": "07AfU39huz44"
      },
      "source": [
        "Para que el usuario ingrese un número real (de tipo float) usando *input()* debemos realizar un **cast** con la instrucción **float()**"
      ]
    },
    {
      "cell_type": "code",
      "metadata": {
        "id": "vyNuj9ZWu0aG",
        "colab": {
          "base_uri": "https://localhost:8080/"
        },
        "outputId": "299b6d16-b12d-43b2-bab4-c9f39f55dc08"
      },
      "source": [
        "real = float( input() )\n",
        "print(\"El doble del numero ingresado =\", real*2)"
      ],
      "execution_count": null,
      "outputs": [
        {
          "output_type": "stream",
          "text": [
            "2\n",
            "El doble del numero ingresado = 4.0\n"
          ],
          "name": "stdout"
        }
      ]
    },
    {
      "cell_type": "markdown",
      "metadata": {
        "id": "XYtNZ0FBu9o1"
      },
      "source": [
        "Es importante tener en cuenta que los *float* no pueden ser infinitamente precisos. Cada variable que usamos se guarda en memoria, pero... *¡Para infinita precisión necesitaríamos infinita memoria!* Es entonces que los números con decimales suelen tener una diferencia muy pequeña con el valor que realmente deseamos.\n",
        "\n",
        "Por esto suele ser preferible cuando trabajamos con *floats*, realizar comparaciones del tipo `>` ó `<`, en lugar de `==` ó `!=` porque pueden surgir problemas.\n",
        "\n",
        "¿Cuál es el problema de estos programas?"
      ]
    },
    {
      "cell_type": "code",
      "metadata": {
        "id": "sd2hTplhvhqX",
        "colab": {
          "base_uri": "https://localhost:8080/"
        },
        "outputId": "6037fa8c-ba1d-4793-e009-90f9e610c86d"
      },
      "source": [
        "a = 1/3\n",
        "b = 2/3\n",
        "c = a + b\n",
        "\n",
        "print(c-b == a)"
      ],
      "execution_count": null,
      "outputs": [
        {
          "output_type": "stream",
          "text": [
            "False\n"
          ],
          "name": "stdout"
        }
      ]
    },
    {
      "cell_type": "code",
      "metadata": {
        "id": "wCT94JoLvh_D"
      },
      "source": [
        "# Nunca va a terminar. Usar con cuidado!\n",
        "\n",
        "var = 0.11\n",
        "while var is not 0:\n",
        "    print(var)\n",
        "    var -= 0.01"
      ],
      "execution_count": null,
      "outputs": []
    },
    {
      "cell_type": "markdown",
      "metadata": {
        "id": "BNd1z6mJvwN7"
      },
      "source": [
        "Muchas veces es necesario redondear un número decimal, ya sea para obtener un número entero o un número con menor cantidad de decimales. Esto se puede lograr con el comando **round()**, el cual permite indicar la cantidad de decimales a redondear. Si no se indica la cantidad de decimales asume por defecto que el resultado será un número entero."
      ]
    },
    {
      "cell_type": "code",
      "metadata": {
        "id": "4I5e1XNHvwyd"
      },
      "source": [
        "x = round(1234.56)\n",
        "y = round(1234.56789, 2)\n",
        "z = int(8.9)\n",
        "\n",
        "print(x, y, z)"
      ],
      "execution_count": null,
      "outputs": []
    },
    {
      "cell_type": "markdown",
      "metadata": {
        "id": "4Fg-XdUtv_99"
      },
      "source": [
        "##### *$\\color{\\green}\\checkmark$* **Mini-desafío:** floats\n",
        "Crear: \n",
        "*   Una función que convierta grados **Celsius** a grados **Farenheit** (https://es.wikipedia.org/wiki/Grado_Fahrenheit)\n",
        "*   Una función que convierta grados **Celsius** a grados **Kelvin** (https://es.wikipedia.org/wiki/Kelvin)\n",
        "\n",
        "\\\n",
        "<img height=\"200\" src=\"https://raw.githubusercontent.com/IEEESBITBA/Curso-Python/master/_assets/termometro.png\">\n",
        "\n",
        "\n",
        "El usuario debe ingresar una temperatura en grados Celsius y el programa debe mostrar las conversiones a Farenheit y Kelvin utilizando las funciones. Si la temperatura ingresada es inferior al [cero absoluto](https://es.wikipedia.org/wiki/Cero_absoluto), el programa debe mostrar un mensaje de advertencia.\n",
        "\n",
        "Pueden leer [aquí](https://en.wikipedia.org/wiki/Conversion_of_units_of_temperature) sobre como hacer las conversiones."
      ]
    },
    {
      "cell_type": "code",
      "metadata": {
        "id": "Bsh8CthTwBnX"
      },
      "source": [
        "temp=float(input(\"Grados celsius: \"))\n",
        "\n",
        "if temp<(-273.15):\n",
        "  print(\"GUARDA QUE ES UNA TEMPERATURA IMPOSIBLE BRO\")\n",
        "else:\n",
        "  print(\"Farenheit\", ((9/5)*temp + 32))\n",
        "  print(\"Kelvin\", temp + 273.15)"
      ],
      "execution_count": null,
      "outputs": []
    },
    {
      "cell_type": "markdown",
      "metadata": {
        "id": "8-0NMMRIwEuu"
      },
      "source": [
        "#### boolean\n",
        "Es un tipo de dato que puede tomar dos valores distintos, **True** (Verdadero) o **False** (Falso)"
      ]
    },
    {
      "cell_type": "code",
      "metadata": {
        "id": "vkkoJe_kwMas"
      },
      "source": [
        "llueve = False\n",
        "soleado = True\n",
        "print(not llueve == soleado)"
      ],
      "execution_count": null,
      "outputs": []
    },
    {
      "cell_type": "markdown",
      "metadata": {
        "id": "bjdrCAPRwS4Y"
      },
      "source": [
        "Ya veníamos usando este tipo de datos implícitamente: las comparaciones devuelven booleanos.\n",
        "\n",
        "Prácticamente cualquier dato puede *cast-earse* (convertirse) a boolean. Para los números, 0 es False y cualquier otro es True. Para otros datos, en general son False si están \"vacíos\" y True en los demás casos."
      ]
    },
    {
      "cell_type": "code",
      "metadata": {
        "id": "8ocXx_MVwVmV"
      },
      "source": [
        "print(bool(4))\n",
        "print(bool(6435645))\n",
        "\n",
        "print(bool(\"hola\"))\n",
        "print(bool(\"\"))\n",
        "\n",
        "print(int(True))\n",
        "print(int(False))\n",
        "\n",
        "\n",
        "palabraTrue = str(True)\n",
        "palabraFalse = str(False)\n",
        "print(palabraTrue)\n",
        "print(palabraFalse)"
      ],
      "execution_count": null,
      "outputs": []
    },
    {
      "cell_type": "markdown",
      "metadata": {
        "id": "Jh28cs99wWqM"
      },
      "source": [
        "###Tipo texto: string"
      ]
    },
    {
      "cell_type": "code",
      "metadata": {
        "id": "Y3pbbwrRyZRT"
      },
      "source": [
        "# Link a Youtube: https://youtu.be/qpIA2D7Zj5s\n",
        "# Tema: Strings, qué son, operaciones y sus métodos.\n",
        "\n",
        "from IPython.display import YouTubeVideo\n",
        "YouTubeVideo('qpIA2D7Zj5s', width=800, height=450)       #Video Clase 2.2"
      ],
      "execution_count": null,
      "outputs": []
    },
    {
      "cell_type": "markdown",
      "metadata": {
        "id": "hRbWkgxcb5Sg"
      },
      "source": [
        "Los strings son un tipo de dato utilizado para guardar letras, palabras, oraciones, texto, etc."
      ]
    },
    {
      "cell_type": "code",
      "metadata": {
        "id": "gLI0GOXcwZDU"
      },
      "source": [
        "nombre = \"Juan\"\n",
        "apellido = 'Lopez'"
      ],
      "execution_count": null,
      "outputs": []
    },
    {
      "cell_type": "markdown",
      "metadata": {
        "id": "_-LZ47LlwblE"
      },
      "source": [
        "¡También podemos convertir strings a números y viceversa! Así podemos operar con ellos. "
      ]
    },
    {
      "cell_type": "code",
      "metadata": {
        "id": "yor-inD4wf4M"
      },
      "source": [
        "nombre = \"3\"\n",
        "numero = 3\n",
        "\n",
        "print(nombre == numero)\n",
        "print(nombre == str(numero))\n",
        "print(nombre * 4)\n",
        "print(numero * 4)"
      ],
      "execution_count": null,
      "outputs": []
    },
    {
      "cell_type": "markdown",
      "metadata": {
        "id": "5Md7wh51wgYl"
      },
      "source": [
        "Vale la pena notar cómo un operador puede realizar una operación para un tipo de dato y otra para otro tipo. Como se ve en el ejemplo anterior, cuando se multiplican enteros se realiza lo que naturalmente conocemos como multiplicación. En cambio, si multiplicamos un string por un número lo que se hace es concatenar la string tantas veces como lo indique el multiplicador."
      ]
    },
    {
      "cell_type": "markdown",
      "metadata": {
        "id": "P4IMFxBOxnAD"
      },
      "source": [
        "#### Operaciones con strings\n",
        "\n",
        "Se pueden realizar muchas operaciones con strings que serán se suma utilidad, por ejemplo:\n",
        "\n",
        "- **x+y**: En esta operacion se agrega al final de la string x el contenido de y."
      ]
    },
    {
      "cell_type": "code",
      "metadata": {
        "id": "2yW3x_d-xvMN"
      },
      "source": [
        "x = 'ho'\n",
        "y = 'la'\n",
        "print(x + y)\n",
        "print(y + x)"
      ],
      "execution_count": null,
      "outputs": []
    },
    {
      "cell_type": "markdown",
      "metadata": {
        "id": "x9ffIB8UxxtM"
      },
      "source": [
        " - **len**( $string$ ): Obtiene el tamaño de un string."
      ]
    },
    {
      "cell_type": "code",
      "metadata": {
        "id": "f1eLRvKFxy3L"
      },
      "source": [
        "x = \"Hola\"\n",
        "y = 'Adios'\n",
        "\n",
        "print( len(x) )\n",
        "print( len(y) )"
      ],
      "execution_count": null,
      "outputs": []
    },
    {
      "cell_type": "markdown",
      "metadata": {
        "id": "oM3BbN7rmweR"
      },
      "source": [
        "- *stringA* **in** *stringB*: Pregunta si un string aparece dentro de otro (si es un **substring**)."
      ]
    },
    {
      "cell_type": "code",
      "metadata": {
        "id": "UWAH7Qe9nfXM"
      },
      "source": [
        "vocales = \"aeiou\"\n",
        "print(\"a\" in vocales)\n",
        "print(\"eio\" in vocales)\n",
        "print(\"eoi\" in vocales)\n",
        "print(\"z\" in vocales)\n",
        "print(vocales in vocales)"
      ],
      "execution_count": null,
      "outputs": []
    },
    {
      "cell_type": "markdown",
      "metadata": {
        "id": "z4J4XTKSx1RT"
      },
      "source": [
        " - **.startswith**( $algo$ ): Le preguntamos a la string si empieza con cierto texto."
      ]
    },
    {
      "cell_type": "code",
      "metadata": {
        "id": "A4WAKHMpx3DT"
      },
      "source": [
        "x = 'hola'\n",
        "print(x.startswith('h'))\n",
        "print(x.startswith('x'))"
      ],
      "execution_count": null,
      "outputs": []
    },
    {
      "cell_type": "markdown",
      "metadata": {
        "id": "WYYEsRQKx4wE"
      },
      "source": [
        " - **.endswith**( $algo$ ): Le preguntamos a la string si termina con cierto texto."
      ]
    },
    {
      "cell_type": "code",
      "metadata": {
        "id": "b-yjwlABkc22"
      },
      "source": [
        "x = 'hola'\n",
        "print(x.endswith('h'))\n",
        "print(x.endswith('a'))"
      ],
      "execution_count": null,
      "outputs": []
    },
    {
      "cell_type": "markdown",
      "metadata": {
        "id": "uFlMcXbHCqGL"
      },
      "source": [
        " - **[ *índice* ]**: Se pueden obtener letras de un string. Entre corchetes se indica el *índice* de la letra deseada, empezando a contar desde cero."
      ]
    },
    {
      "cell_type": "code",
      "metadata": {
        "id": "sC06bXpZyDiU"
      },
      "source": [
        "x = 'hola'\n",
        "\n",
        "print(x[0])\n",
        "print(x[1])\n",
        "print(x[2])\n",
        "print(x[3])\n",
        "\n",
        "print(x[3]+x[2]+x[1]+x[0]+x[3])"
      ],
      "execution_count": null,
      "outputs": []
    },
    {
      "cell_type": "markdown",
      "metadata": {
        "id": "iahISYxOKTuT"
      },
      "source": [
        "* **.replace**(*string_viejo*, *string_nuevo*, *cantidad*): Cada vez que aparece el *string_viejo* dentro del texto, se reemplaza por el *string_nuevo*. Adicionalmente se puede especificar la *cantidad* de veces que se realizará un reemplazo."
      ]
    },
    {
      "cell_type": "code",
      "metadata": {
        "id": "b99JYlT8LDUq"
      },
      "source": [
        "x = \"acalambrar\"\n",
        "y = x.replace('a', 'e', 2)\n",
        "z = x.replace('a', 'e')\n",
        "print(y)\n",
        "print(z)"
      ],
      "execution_count": null,
      "outputs": []
    },
    {
      "cell_type": "markdown",
      "metadata": {
        "id": "W7UlG1m2Dpxj"
      },
      "source": [
        " - **[ *comienzo* : *fin* ]**: Se puede obtener una secuencia consecutiva de letras de un string. Entre corchetes se indica el índice de la primer letra deseada, luego dos puntos, luego el índice de la última letra (la última letra no será incluída)."
      ]
    },
    {
      "cell_type": "code",
      "metadata": {
        "id": "nzb4sBk0yNns"
      },
      "source": [
        "x = 'programacion'\n",
        "\n",
        "# Ayudín:\n",
        "#  p   r   o   g   r   a   m   a   c   i   o   n\n",
        "#  0   1   2   3   4   5   6   7   8   9   10  11\n",
        "# -12 -11 -10 -9  -8  -7  -6  -5  -4  -3  -2  -1\n",
        "\n",
        "print( x[0:8] )\n",
        "print( x[4:8] )\n",
        "\n",
        "# Se pueden usar signos negativos para referir los índices desde el final para atras\n",
        "print( x[-7:-4] )\n",
        "\n",
        "# Se puede omitir el parametro de fin para seguir hasta el final\n",
        "print( x[8: ])\n",
        "\n",
        "# Se puede omitir el parametro de inicio para comenzar desde el principio\n",
        "print( x[ :8])"
      ],
      "execution_count": null,
      "outputs": []
    },
    {
      "cell_type": "markdown",
      "metadata": {
        "id": "4fDilixlFOv5"
      },
      "source": [
        " - **[ *comienzo* : *fin* : *salto* ]**: Se puede obtener una secuencia de letras a una separación regular de un string. Entre corchetes se indica el índice de la primer letra deseada, luego dos puntos, luego el índice de la última letra, luego 2 puntos, luego el salto entre letra y letra (la última letra no será incluída)."
      ]
    },
    {
      "cell_type": "code",
      "metadata": {
        "id": "Dzdj3MeGyT-2"
      },
      "source": [
        "x = 'Curso de Python'\n",
        "\n",
        "print( x[0:5:2] )\n",
        "\n",
        "# Se pueden usar signos negativos para referir los índices desde el final para atras\n",
        "# Se puede omitir el parametro de inicio para comenzar desde el principio\n",
        "# Se puede omitir el parametro de fin para seguir hasta el final\n",
        "print( x[0: :3] )\n",
        "\n",
        "# Se puede usar un salto negativo para recorrer el string en sentido inverso\n",
        "print( x[11:1:-2] )\n",
        "# Se puede invertir un string de la siguiente forma\n",
        "print( x[ : :-1] )"
      ],
      "execution_count": null,
      "outputs": []
    },
    {
      "cell_type": "markdown",
      "metadata": {
        "id": "mdVTVfnAWc7P"
      },
      "source": [
        "#### for sobre un string\n",
        "La estructura *for* que vimos la clase pasada tiene una gran versatilidad ya que como veremos, no está limitada a recorrer los valores generados por *range()*. También es posible recorrer los caracteres de un string usando *for* como se muestra a continuación:"
      ]
    },
    {
      "cell_type": "code",
      "metadata": {
        "id": "RFlqJpczyX07"
      },
      "source": [
        "texto = \"Curso de Python\"\n",
        "vocales = 0\n",
        "for c in texto:\n",
        "  if c == 'a' or c == 'e' or c == 'i' or c == 'o' or c == 'u':\n",
        "    vocales += 1\n",
        "\n",
        "print(\"Vocales: \", vocales)"
      ],
      "execution_count": null,
      "outputs": []
    },
    {
      "cell_type": "markdown",
      "metadata": {
        "id": "L_4r67VRUpNC"
      },
      "source": [
        "##### *$\\color{\\green}\\checkmark$* **Mini-desafío:** Operaciones con strings\n",
        "Hacer un programa que permita ingresar un nombre y un apellido usando dos veces la función input( ). Luego debe crear la variable *nombre_y_apellido* que contenga ambos datos separados por un espacio. Un fabricante de tarjetas admite la impresión de hasta 26 caracteres para el nombre del dueño de la tarjeta, el programa debe imprimir \"Nombre admitido\" si *nombre_y_apellido* cumple con esta restricción y \"Nombre no admitido\" en caso contrario (el espacio cuenta como uno de los 26 caracteres disponibles).\n",
        "\n",
        "\\\n",
        "<img height=\"150\" src=\"https://raw.githubusercontent.com/IEEESBITBA/Curso-Python/master/_assets/credit_cards.png\">\n",
        "\n",
        "\n",
        "**Para un desafío mayor:** Si *nombre_y_apellido* cumple la restricción, mostrar el nombre y apellido. En caso contrario *nombre_y_apellido* debe valer la inicial del nombre y luego el apellido separado por un espacio. Si todavía no se cumple la restricción entonces el valor será la inicial del nombre y las primeras 24 letras del apellido. Mostrar el nombre resultante."
      ]
    },
    {
      "cell_type": "code",
      "metadata": {
        "id": "t9N4SIOcyeUk"
      },
      "source": [
        "nombre =str(input(\"Nombre?: \"))\n",
        "apellido=str(input(\"Apellido?: \"))\n",
        "nombre_y_apellido=nombre+\" \"+apellido\n",
        "\n",
        "if len(nombre_y_apellido)<=26:\n",
        "  print(\"Nombre Admitido\")\n",
        "else: print(\"Nombre No Admitido\")"
      ],
      "execution_count": null,
      "outputs": []
    },
    {
      "cell_type": "markdown",
      "metadata": {
        "id": "Cd8qsFnaLdHn"
      },
      "source": [
        "#### Métodos\n",
        "\n",
        "Podemos observar que algunas de las operaciones con strings que vimos funcionan de una manera diferente a las que usamos hasta ahora. Por ejemplo, para usar **.startswith( )** debemos escribir la instrucción separada por un punto luego de la variable:\n",
        "\n",
        "```python\n",
        "nombre = \"juan\"\n",
        "print( nombre.startswith('j') )\n",
        "```\n",
        "\n",
        "Este tipo de instrucción se la denomina un *método* (se utiliza con un punto luego de un objeto). La diferencia entre este y una función es sutil, el concepto es que un método es aplicado *sobre* un elemento. Tengo un elemento, como puede ser una variable de tipo string, y sobre ese elemento efectúo cierta acción. Los métodos pueden recibir parámetros, como es en el caso anterior la letra a evaluar.\n",
        "\n",
        "Es normal que todavía no quede clara realmente la diferencia con las funciones, pero a medida que avanza el curso se encontrarán con más métodos e irán adquiriendo este criterio de a poco.\n",
        "\n",
        "Python nos provee de muchos métodos distintos para todos los tipos de variables. Nadie conoce todos, ni siquiera los que programaron en Python toda su carrera, por lo cual nunca teman buscar qué métodos existen ya que puede ser que haya uno que resuelva perfectamente su problema.\n",
        "\n",
        "Esta es una lista de los métodos que existen para strings: https://docs.python.org/3/library/stdtypes.html#string-methods"
      ]
    },
    {
      "cell_type": "markdown",
      "metadata": {
        "id": "3tipHbU_OHnQ"
      },
      "source": [
        "##Estructuras de datos\n",
        "\n",
        "Utilizando variables de los distintos tipos de datos se pueden armar programas con una complejidad notable. Sin embargo, hay un límite en la versatilidad del programa si sólo utilizamos los tipos de datos que vimos hasta ahora.\n",
        "\n",
        "<img src=\"https://raw.githubusercontent.com/IEEESBITBA/Curso-Python/master/_assets/data_structures.png\" alt = \"Visualización básica de una data structure\" height = 280 title=\"Las estructuras de datos son un concepto muy importante para cualquier lenguaje de programacion\">\n",
        "\n",
        "\n",
        "Se suele llamar \"estructura de datos\" a cierta clase de tipos de datos más complejos, los cuales nos permiten organizar la información de manera más efectiva. \n",
        "\n",
        "En particular, nos permiten agrupar datos (cada uno de ellos con su tipo), e interactuar con ellos de la forma más apropiada. \n",
        "\n",
        "A continuación mostraremos la estructura de datos más sencilla (¡pero útil!) que Python nos ofrece, y en la próxima clase veremos otras estructuras algo más complejas."
      ]
    },
    {
      "cell_type": "markdown",
      "metadata": {
        "id": "JeRM9nSZztck"
      },
      "source": [
        "### Listas\n"
      ]
    },
    {
      "cell_type": "code",
      "metadata": {
        "id": "SwdZJvE7zxhK"
      },
      "source": [
        "# Link a Youtube: https://youtu.be/Sg87zXkq_HI\n",
        "# Tema: Listas, cómo estan construidas, operaciones y métodos.\n",
        "\n",
        "from IPython.display import YouTubeVideo\n",
        "YouTubeVideo('Sg87zXkq_HI', width=800, height=450)       #Video Clase 2.1"
      ],
      "execution_count": null,
      "outputs": []
    },
    {
      "cell_type": "markdown",
      "metadata": {
        "id": "MfnKbbeBPjpJ"
      },
      "source": [
        "Las listas nos permiten almacenar elementos de manera secuencial, los cuales pueden ser accedidos mediante el conocimiento de su posición en la lista. Estas las creamos usando corchetes de la siguiente manera:\n",
        "\n",
        "> a = **[** $ a_{0}, a_{1}, a_{2}, \\dots $ **]**\n",
        "\n",
        "A continuación se mostrara un ejemplo sencillo con listas:"
      ]
    },
    {
      "cell_type": "code",
      "metadata": {
        "id": "MGRg4fSa0iMg"
      },
      "source": [
        "# Creamos una lista con elementos\n",
        "a = [ 13, 40, 10, 30, 67 ] \n",
        "print(a)\n",
        "\n",
        "# Creamos una lista vacía\n",
        "b = []\n",
        "print(b)\n",
        "\n",
        "# Creamos una lista vacía\n",
        "c = list()\n",
        "print(c)"
      ],
      "execution_count": null,
      "outputs": []
    },
    {
      "cell_type": "markdown",
      "metadata": {
        "id": "BYiMd8IzlhNO"
      },
      "source": [
        "Para acceder a un elemento de una lista se utiliza `lista[índice]` de forma similar a como funcionan los strings.\n",
        "Podemos modificar el elemento asignándole un valor.\n",
        "\n",
        "Al igual que los strings, las listas permiten hacer **slicing**. Esto significa obtener una sub-lista a partir de valores de comienzo, fin y step indicados entre corchetes y separados por dos puntos."
      ]
    },
    {
      "cell_type": "code",
      "metadata": {
        "id": "FDI5fX6u0sF7"
      },
      "source": [
        "a = [5, 6, 7, 8]\n",
        "print('a =', a)\n",
        "print('a[0] =', a[0]) \n",
        "print('a[2] =', a[2])\n",
        "\n",
        "a[2] = 0\n",
        "print('a =', a)"
      ],
      "execution_count": null,
      "outputs": []
    },
    {
      "cell_type": "code",
      "metadata": {
        "id": "fJsQmSIm6BZm"
      },
      "source": [
        "# Se pueden intercambiar dos elementos de una lista de la siguiente forma\n",
        "a[0], a[1] = a[1], a[0]\n",
        "print('a =', a)"
      ],
      "execution_count": null,
      "outputs": []
    },
    {
      "cell_type": "code",
      "metadata": {
        "id": "5tmgmGyY6EM5"
      },
      "source": [
        "# Se pueden usar signos negativos para referir los índices desde el final para atras\n",
        "print('a[-1] =', a[-1]) "
      ],
      "execution_count": null,
      "outputs": []
    },
    {
      "cell_type": "code",
      "metadata": {
        "id": "U5yLn4qM6Gkx"
      },
      "source": [
        "# Slicing\n",
        "print('a[1:3] =', a[1:3])    \n",
        "\n",
        "# Se puede omitir el parametro de inicio para comenzar desde el principio\n",
        "# Se puede omitir el parametro de fin para seguir hasta el final\n",
        "# Se puede usar un salto negativo para recorrer la lista en sentido inverso\n",
        "# Se puede invertir una lista de la siguiente forma\n",
        "print('a[ : :-1] =', a[ : :-1] )"
      ],
      "execution_count": null,
      "outputs": []
    },
    {
      "cell_type": "markdown",
      "metadata": {
        "id": "njU7dNS8l9FL"
      },
      "source": [
        "Notar que, a diferencia de lo que diría el sentido común, el primer elemento de la lista se accede con el índice $0$. Esto sucede en muchos lenguajes de programación hoy en día y una vez que uno se acostumbra resulta muy práctico empezar a contar desde $0$ para aplicaciones de programación.\n",
        "\n",
        "Otro tema a tener en cuenta es que no es posible ponerle el nombre *list* a una lista, ya que es una palabra reservada. Esta es una función para generar una lista a partir de otro objeto, como un string. Por ejemplo:"
      ]
    },
    {
      "cell_type": "code",
      "metadata": {
        "id": "dACHK9WkQoo8"
      },
      "source": [
        "texto = \"Hola\"\n",
        "lista = list(texto)\n",
        "\n",
        "print(texto)\n",
        "print(lista)"
      ],
      "execution_count": null,
      "outputs": []
    },
    {
      "cell_type": "markdown",
      "metadata": {
        "id": "UlcBp_8UvehI"
      },
      "source": [
        "Una forma alternativa de generar una lista es utilizando la instrucción *for* dentro de los corchetes de la siguiente manera:\n",
        "\n",
        "> b = **[** x **for** x **in** **range**(N) **]**"
      ]
    },
    {
      "cell_type": "code",
      "metadata": {
        "id": "VZuy59Xq0kp7"
      },
      "source": [
        "b = [x for x in range(10)]\n",
        "print(b)"
      ],
      "execution_count": null,
      "outputs": []
    },
    {
      "cell_type": "markdown",
      "metadata": {
        "id": "3NnBGiXYKoFd"
      },
      "source": [
        "\n",
        "Podemos también aplicar una operación a la variable x\n",
        "> a = **[** (operacion con x) **for** x **in** **range**(N) **]**"
      ]
    },
    {
      "cell_type": "code",
      "metadata": {
        "id": "8LvqTi2q0nVC"
      },
      "source": [
        "a = [x for x in range(0, 101)]\n",
        "print(a)\n",
        "\n",
        "b = [2 * x for x in range(15)]\n",
        "print(b)"
      ],
      "execution_count": null,
      "outputs": []
    },
    {
      "cell_type": "markdown",
      "metadata": {
        "id": "LizEOjo0yQr3"
      },
      "source": [
        "También es posible utilizar un objeto iterable, en lugar de usar **range( )**."
      ]
    },
    {
      "cell_type": "code",
      "metadata": {
        "id": "EBSP69wmyZIq"
      },
      "source": [
        "c = [3 * letra for letra in \"hola\"]\n",
        "print(c)\n",
        "\n",
        "d = [10 + n for n in [1, 2, 3, 4]]\n",
        "print(d)"
      ],
      "execution_count": null,
      "outputs": []
    },
    {
      "cell_type": "markdown",
      "metadata": {
        "id": "ANXKLdYnzVzK"
      },
      "source": [
        "##### *$\\color{\\green}\\checkmark$* **Mini-desafío:** Listas\n",
        "1. Crear una lista con los números pares menores a 50 ¿Hay diferentes formas de lograr esto?\n",
        "2. Crear un programa en el cual el usuario ingresa un *string* y dos índices numéricos. El programa debe crear una lista a partir de las letras del string, luego intercambiar dos letras de lugar a partir de los índices indicados por el usuario. Por último debe combinar las letras de la lista nuevamente en un *string* e imprimir el resultado. Si los índices son inválidos mostrar un mensaje de error.\n",
        "\n",
        " **Tips**:\n",
        " - Usando `list( mi_string )` pueden obtener una lista que contiene las letras de `mi_string`.\n",
        " - Usando el método [str.join()](https://docs.python.org/3/library/stdtypes.html#str.join) pueden unir las letras o strings de una lista dentro de un mismo string:\n",
        " ```python\n",
        " lista = [\"Uno\", \"Dos\", \"Tres\"]\n",
        " texto = \"\".join( lista )\n",
        " ```\n",
        " A la izquierda del `.join()` se indica el string con el cual unir los elementos como por ejemplo `\", \"`. Si utilizamos un string vacío no intercala ningún caracter entre los elementos.\n"
      ]
    },
    {
      "cell_type": "code",
      "metadata": {
        "id": "fveNC7SI0uiK"
      },
      "source": [
        "# Parte 1\n",
        "pares=[]\n",
        "for i in range(1,50):\n",
        "  if i%2==0:\n",
        "    pares.append(i)\n",
        "  \n",
        "print(pares)"
      ],
      "execution_count": null,
      "outputs": []
    },
    {
      "cell_type": "code",
      "metadata": {
        "id": "gH440e5p2w8v"
      },
      "source": [
        "# Parte 2\n",
        "a=str(input())\n",
        "b=int(input())\n",
        "c=int(input())\n",
        "\n",
        "a=list(a)\n",
        "if b<=len(a) and c<=len(a):\n",
        "  letra=a[b-1]\n",
        "  a[b-1]=a[c-1]\n",
        "  a[c-1]=letra\n",
        "  print(\"\".join(a))\n",
        "else: print(\"Error. Índices inválidos\")\n",
        "\n"
      ],
      "execution_count": null,
      "outputs": []
    },
    {
      "cell_type": "markdown",
      "metadata": {
        "id": "QSB8OdyDw1i7"
      },
      "source": [
        "#### Operaciones sobre una lista\n",
        "Podemos realizar múltiples operaciones sobre una lista:\n",
        "\n",
        "- **a+b**: Al igual que los strings se agrega el contenido de **b** al final de **a**."
      ]
    },
    {
      "cell_type": "code",
      "metadata": {
        "id": "dSYKydfFxTSr"
      },
      "source": [
        "a = [1,2]\n",
        "b = [3,4]\n",
        "z = a+b\n",
        "print(z)"
      ],
      "execution_count": null,
      "outputs": []
    },
    {
      "cell_type": "markdown",
      "metadata": {
        "id": "EomkxLecMMj3"
      },
      "source": [
        "- **len**( $lista$ ) Obtiene el largo de una lista."
      ]
    },
    {
      "cell_type": "code",
      "metadata": {
        "id": "4tCnGdcTMTvz"
      },
      "source": [
        "a = [1,2,3,4]\n",
        "print(len(a))"
      ],
      "execution_count": null,
      "outputs": []
    },
    {
      "cell_type": "markdown",
      "metadata": {
        "id": "DsZxDU1wVuuv"
      },
      "source": [
        "- **.sort**(): Ordena los elementos de la lista."
      ]
    },
    {
      "cell_type": "code",
      "metadata": {
        "id": "xSqtP2NxV-SY"
      },
      "source": [
        "a = [\"Hola\", \"Adios\", \"Como esta\", \"Buen día\" ]\n",
        "a.sort()\n",
        "print(a)\n",
        "\n",
        "b = [1, 2, 3, 123, 23, 12]\n",
        "b.sort()\n",
        "print(b)\n",
        "\n",
        "# Es posible hacer un orden inverso indicando reverse=True\n",
        "b.sort(reverse=True)\n",
        "print(b)"
      ],
      "execution_count": null,
      "outputs": []
    },
    {
      "cell_type": "markdown",
      "metadata": {
        "id": "-CLWt4-gYtaR"
      },
      "source": [
        "Es posible definir una regla de ordenamiento personalizada. Se debe definir una función, la cuál será evaluada en cada elemento de la lista, y el resultado de esta función se usa como criterio de orden. En la función *sort* se debe ingresar como parámetro *key=nombre_de_funcion*."
      ]
    },
    {
      "cell_type": "code",
      "metadata": {
        "id": "Xnj4b8_p1ZkR"
      },
      "source": [
        "# En este ejemplo la regla es la longitud del elemento\n",
        "def mi_orden1(e):\n",
        "  return len(e)\n",
        "\n",
        "a = [\"Hola\", \"Adios\", \"Como esta\", \"Buen día\" ]\n",
        "a.sort(key=mi_orden1)\n",
        "print(\"Orden final:\", a)\n",
        "\n",
        "# En este ejemplo se analiza el segundo valor de cada elemento\n",
        "def mi_orden2(e):\n",
        "  return e[1]\n",
        "\n",
        "area = [ [\"Argentina\", 2.78], [\"Brazil\", 8.51], [\"Mexico\", 1.96] ]\n",
        "area.sort(key=mi_orden2)\n",
        "print(\"Orden final:\", area)"
      ],
      "execution_count": null,
      "outputs": []
    },
    {
      "cell_type": "markdown",
      "metadata": {
        "id": "4hht8kbW3Qvv"
      },
      "source": [
        "- **.append**($algo$): Permite agregar un elemento al final de la lista."
      ]
    },
    {
      "cell_type": "code",
      "metadata": {
        "id": "v3puF40n1ciS"
      },
      "source": [
        "mensaje = \"Hola como estas\"\n",
        "v = [50, mensaje, 150.5, True]\n",
        "print(v)\n",
        "\n",
        "# Agrego al final de la lista un elemento que vale 200 (tipo int)\n",
        "v.append(200)      \n",
        "\n",
        "# Agrego una lista de elementos\n",
        "# Los elementos de la lista no son agregados individualmente\n",
        "# En cambio, la lista se agrega como un elemento en sí misma\n",
        "v.append([\"Uno\", \"Dos\", \"Tres\"]) \n",
        "print(v)"
      ],
      "execution_count": null,
      "outputs": []
    },
    {
      "cell_type": "markdown",
      "metadata": {
        "id": "kSMm3FS5a4fN"
      },
      "source": [
        "- **.extend**($lista$): Permite agregar elementos de una lista al final de otra. Es muy similar a la suma de listas."
      ]
    },
    {
      "cell_type": "code",
      "metadata": {
        "id": "nEfG08UnbFDH"
      },
      "source": [
        "v = [1, 2, 3]\n",
        "v.extend([\"Uno\", \"Dos\", \"Tres\"]) \n",
        "print(v)"
      ],
      "execution_count": null,
      "outputs": []
    },
    {
      "cell_type": "markdown",
      "metadata": {
        "id": "kZjHeYw3xpu7"
      },
      "source": [
        "- **.pop**(): Permite remover el ultimo elemento de la lista."
      ]
    },
    {
      "cell_type": "code",
      "metadata": {
        "id": "UDWAtoERNfCw"
      },
      "source": [
        "v = [\"Uno\", 2, \"Tres\", 4, \"Cinco\"]\n",
        "v.pop() # Quito el ultimo elemento \n",
        "print(v)"
      ],
      "execution_count": null,
      "outputs": []
    },
    {
      "cell_type": "markdown",
      "metadata": {
        "id": "xuJGzxm_30Vu"
      },
      "source": [
        "- **.remove**($valor$): Remueve el primer elemento de la lista cuyo valor sea el indicado."
      ]
    },
    {
      "cell_type": "code",
      "metadata": {
        "id": "rHDPAGdHNwlH"
      },
      "source": [
        "v = [1,2,1,2]\n",
        "v.remove(2) # elimino el primer valor igual a 2\n",
        "print(v)\n",
        "v.remove(2) # elimino el primer valor igual a 2\n",
        "print(v)"
      ],
      "execution_count": null,
      "outputs": []
    },
    {
      "cell_type": "markdown",
      "metadata": {
        "id": "5fLZ42t4zKbG"
      },
      "source": [
        "- **del** lista**[*índice*]**: Para eliminar un elemento en una posición determinada."
      ]
    },
    {
      "cell_type": "code",
      "metadata": {
        "id": "yTvsT5UazWN0"
      },
      "source": [
        "a = [\"hola\",\"como\",\"estas\"]\n",
        "del a[1]\n",
        "print(a)"
      ],
      "execution_count": null,
      "outputs": []
    },
    {
      "cell_type": "markdown",
      "metadata": {
        "id": "JBxjC81WznRe"
      },
      "source": [
        "- $algo$ **in** lista: Muchas veces es necesario saber si un elemento esta dentro de una lista, para ello utilizamos esta estructura.\n"
      ]
    },
    {
      "cell_type": "code",
      "metadata": {
        "id": "TcAgoTD-Ocvz"
      },
      "source": [
        "x = [1,2,3]\n",
        "if 5 in x:\n",
        "    x.remove(5)\n",
        "else:\n",
        "  print(5,'no esta en la lista')\n",
        "  \n",
        "print(x)"
      ],
      "execution_count": null,
      "outputs": []
    },
    {
      "cell_type": "markdown",
      "metadata": {
        "id": "43Iii4tDURbR"
      },
      "source": [
        "- **max**($lista$): Obtiene el valor más alto de la lista."
      ]
    },
    {
      "cell_type": "code",
      "metadata": {
        "id": "Ku7CPEj3UeE2"
      },
      "source": [
        "valor = max( [1, 2, 3, 4, 5, 4, 3, 2, 1] )\n",
        "print(valor)\n",
        "\n",
        "valor = max( [\"Curso\", \"De\", \"Python\"] )\n",
        "print(valor)"
      ],
      "execution_count": null,
      "outputs": []
    },
    {
      "cell_type": "markdown",
      "metadata": {
        "id": "cr5nalpjUoej"
      },
      "source": [
        "- **min**($lista$): Obtiene el valor más bajo de la lista."
      ]
    },
    {
      "cell_type": "code",
      "metadata": {
        "id": "ipo8qR46Uoej"
      },
      "source": [
        "valor = min( [1, 2, 3, 4, 5, 4, 3, 2, 1] )\n",
        "print(valor)\n",
        "\n",
        "valor = min( [\"Curso\", \"De\", \"Python\"] )\n",
        "print(valor)"
      ],
      "execution_count": null,
      "outputs": []
    },
    {
      "cell_type": "markdown",
      "metadata": {
        "id": "BTmbR7mx1460"
      },
      "source": [
        "#### for sobre una lista\n",
        "Al igual que con strings, la instrucción *for* puede ir avanzando sobre todos los elementos de una lista:"
      ]
    },
    {
      "cell_type": "code",
      "metadata": {
        "id": "QutQLV0J16-7"
      },
      "source": [
        "lista = [1, 10, 100, 1000, [5, 6, 7], 5, \"hola\"]\n",
        "\n",
        "for elemento in lista:\n",
        "    print(elemento)"
      ],
      "execution_count": null,
      "outputs": []
    },
    {
      "cell_type": "markdown",
      "metadata": {
        "id": "Mlq1Zfzn176K"
      },
      "source": [
        "##### *$\\color{\\green}\\checkmark$* **Mini-desafío:** Operaciones sobre una lista\n",
        "Realizar un programa que ordena nombres alfabéticamente. Primero debe pedir al usuario que ingrese un número: la cantidad de nombres que serán ingresados. Luego debe pedir al usuario que ingrese un nombre y repetir ese pedido la cantidad de veces indicada. Los nombres se deben ir agregando a una lista. Por último, ordenar la lista alfabéticamente y mostrar en pantalla de a uno por vez los nombres ordenados (usando un for)."
      ]
    },
    {
      "cell_type": "code",
      "metadata": {
        "id": "nBVjxMim2DCH"
      },
      "source": [
        "cant=int(input())\n",
        "nombres=[]\n",
        "\n",
        "for i in range(cant):\n",
        "  name=str(input(\"Nombre: \"))\n",
        "  nombres.append(name)\n",
        "\n",
        "nombres.sort()\n",
        "for i in nombres:\n",
        "  print(i)"
      ],
      "execution_count": null,
      "outputs": []
    },
    {
      "cell_type": "markdown",
      "metadata": {
        "id": "tbTd_kht2GAJ"
      },
      "source": [
        "### Para pensar: ¿Cómo se podría hacer una matriz usando listas?"
      ]
    },
    {
      "cell_type": "code",
      "metadata": {
        "id": "TZ-4N3LH2LtZ"
      },
      "source": [
        "x = [[1,2,3],\n",
        "     [4,5,6],\n",
        "     [7,8,9]]\n",
        "\n",
        "print(x[1][2])"
      ],
      "execution_count": null,
      "outputs": []
    },
    {
      "cell_type": "markdown",
      "metadata": {
        "id": "KAi_nmoo2PHF"
      },
      "source": [
        "### Nota final\n",
        "Es importante observar que en las listas los elementos se almacenan en un orden bien definido, es decir: siempre hay un elemento que está antes y otro que está después. Esto no será siempre cierto con otras estructuras de datos. \n",
        "\n",
        "Otro detalle es que es posible crear listas con elementos de cualquier tipo de dato, o con cualquier estructura de datos. De forma que se pueden crear listas de listas, o cualquier otra combinación de las estructuras que veremos más adelante.\n",
        "\n",
        "Más información acerca de los métodos de una lista: https://docs.python.org/3/tutorial/datastructures.html#more-on-lists\n"
      ]
    },
    {
      "cell_type": "markdown",
      "metadata": {
        "id": "RhnuEXhvHgK2"
      },
      "source": [
        "## Manipulación de archivos de texto\n",
        "\n",
        "\n",
        "La manipulación de archivos es muy común en el ámbito de la programación. En esta ocasión comenzaremos a manipular archivos de texto, dado que son simples y muy usados. En otros cursos más avanzados se manipulan archivos más complejos, como hojas de datos, por lo cual esta explicación les puede servir como una introducción que les será de utilidad en el futuro.\n",
        "\n",
        "<img src=\"https://icons-for-free.com/iconfiles/png/512/document+file+page+paper+programming+icon-1320165844326114116.png\" height=200>\n",
        "\n",
        "A veces es necesario realizar un programa que pueda procesar información que se encuentra en un formato \"particular\", en tales casos necesitamos realizar un programa especializado. El análisis de un texto es un ejemplo de un archivo para el cual necesitamos realizar una lectura en modo \"manual\". \n",
        "\n"
      ]
    },
    {
      "cell_type": "markdown",
      "metadata": {
        "id": "38LOcMcKGKx4"
      },
      "source": [
        "### Lectura de archivos"
      ]
    },
    {
      "cell_type": "code",
      "metadata": {
        "id": "vzAo-UE54rKq"
      },
      "source": [
        "# Link a Youtube: https://youtu.be/88fS3hbKV-Q\n",
        "# Tema: Lectura de archivos de texto.\n",
        "\n",
        "from IPython.display import YouTubeVideo\n",
        "YouTubeVideo('88fS3hbKV-Q', width=800, height=450) "
      ],
      "execution_count": null,
      "outputs": []
    },
    {
      "cell_type": "markdown",
      "metadata": {
        "id": "mj0twLv6Grdv"
      },
      "source": [
        "Imaginemos que se necesita leer un archivo **.txt** con una noticia del diario y analizar su contenido. \n",
        "\n",
        "<img src=\"http://www.harfordcountyhealth.com/wp-content/uploads/2015/01/Newspaper.jpg\" width=300>\n",
        "\n",
        "A continuación mostraremos un ejemplo donde se accede a la información de un archivo llamado **noticia.txt**. Normalmente desde nuestra computadora podremos acceder a los archivos *locales* conociendo su ubicación en el disco, es decir que en tanto se conozca la carpeta donde se ubique el archivo este se podrá abrir. Colab requiere cargar los archivos a su entorno online antes de poder usarlos, lo cual se puede realizar mediante el siguiente comando, que descarga un archivo de internet y lo carga al entorno de Colab:"
      ]
    },
    {
      "cell_type": "code",
      "metadata": {
        "id": "pJqU8NbcdnFh"
      },
      "source": [
        "# Comando wget. Sólo para maquinas Linux. Google Colab usa Linux!\n",
        "! wget \"https://raw.githubusercontent.com/IEEESBITBA/Curso-Python/master/Curso_Introductorio_Datos/noticia.txt\""
      ],
      "execution_count": null,
      "outputs": []
    },
    {
      "cell_type": "code",
      "metadata": {
        "id": "1SFRHNgPq9j8"
      },
      "source": [
        "# Si no estamos en un entorno linux podemos definir nuestra propia wget\n",
        "# Esta función nos ayuda a descargar archivos desde la web, no es necesaria para archivos locales\n",
        "# No es necesario entender cómo funciona, se las mostramos sólo por si alguno llega a necesitarla\n",
        "\n",
        "# Importamos la libreria requests (luego veremos qué es una librería)\n",
        "import requests\n",
        "\n",
        "def wget(url):\n",
        "    r = requests.get(url, allow_redirects=True)\n",
        "    with open(url[url.rfind('/') + 1::], 'wb') as f:\n",
        "        f.write(r.content)\n",
        "\n",
        "wget(\"https://raw.githubusercontent.com/IEEESBITBA/Curso-Python/master/Curso_Introductorio_Datos/noticia.txt\")"
      ],
      "execution_count": null,
      "outputs": []
    },
    {
      "cell_type": "markdown",
      "metadata": {
        "id": "NM3Fc5ImWOWz"
      },
      "source": [
        "En este caso abriremos el archivo con el comando **open( )** de Python y guardamos el contenido \"en bruto\" en una lista de strings, separando por renglones. Si el archivo se encuentra en la misma carpeta que el programa en Python alcanza con indicar el nombre del archivo. En caso contrario, es necesario indicar la ubicación del mismo entre los paréntesis de **open( )**.\n",
        "\n",
        "Para obtener una lista de renglones en el archivo utilizamos un *método* llamado **readlines( )**.\n",
        "\n",
        "Pueden encontrar otros métodos útiles en [este link](https://www.w3schools.com/python/python_ref_file.asp)."
      ]
    },
    {
      "cell_type": "code",
      "metadata": {
        "id": "SZJ9SYxBWQCb"
      },
      "source": [
        "file = open(\"noticia.txt\") # Guardamos el contenido del archivo en una variable\n",
        "\n",
        "contenido = file.readlines() # Obtenemos una lista de renglones\n",
        "print(contenido)\n",
        "\n",
        "for line in contenido: \n",
        "    print(line) # Mostramos renglón a renglón"
      ],
      "execution_count": null,
      "outputs": []
    },
    {
      "cell_type": "markdown",
      "metadata": {
        "id": "ZKs68NfOX2JM"
      },
      "source": [
        "Luego de poder almacenar el contenido, lo separaremos por palabras utilizando el método **.split()**"
      ]
    },
    {
      "cell_type": "code",
      "metadata": {
        "id": "LCNVL9hVWb0i"
      },
      "source": [
        "palabras = []\n",
        "\n",
        "for line in contenido:\n",
        "    \n",
        "    palabras_linea = line.split(' ') # Separamos por espacios\n",
        "    \n",
        "    for palabra in palabras_linea:   # por cada \"string\" separado por espacios\n",
        "        palabras.append(palabra)\n",
        "\n",
        "print(palabras)"
      ],
      "execution_count": null,
      "outputs": []
    },
    {
      "cell_type": "markdown",
      "metadata": {
        "id": "idd9lVBFYInK"
      },
      "source": [
        "¡Podemos observar que algunos carácteres no deseados se filtran entre las palabras (como `\\n` ó `\"`)! Es habitual que cuando analicemos un archivo a mano de manera \"personalizada\" ocurran esta clase de problemas, los cuales debemos resolver con algunos parches a nuestro programa. En este caso los caracteres no deseados que podemos observar a simple vista son: `\\n` `\"` `,` `.`. Los caracteres que tienen la barra invertida *\\* son llamados '*secuencias de escape*' o '*escape characters*' y se utilizan para definir ciertos caracteres especiales dentro de strings, por ejemplo `\\n` es el caracter de nueva línea, esto vendría a ser lo que se almacena en memoria cuando apreto la tecla *Enter*. Los filtraremos utilizando el comando [replace](https://www.geeksforgeeks.org/python-string-replace/) de python:"
      ]
    },
    {
      "cell_type": "code",
      "metadata": {
        "id": "Q_mvfMWgYK3z"
      },
      "source": [
        "palabras = []\n",
        "\n",
        "for line in contenido:\n",
        "    \n",
        "    # eliminamos los distintos carácteres no deseados uno por uno\n",
        "    line = line.replace('\\n','')\n",
        "    line = line.replace('\"','')\n",
        "    line = line.replace(',','')\n",
        "    line = line.replace('.','')\n",
        "   \n",
        "    palabras_linea = line.split(' ') # separamos por espacios \n",
        "    \n",
        "    for palabra in palabras_linea: # por cada \"string\" separado por espacios\n",
        "      if palabra != '':\n",
        "        palabras.append(palabra)\n",
        "\n",
        "print(palabras)"
      ],
      "execution_count": null,
      "outputs": []
    },
    {
      "cell_type": "markdown",
      "metadata": {
        "id": "RIyBwATppoN3"
      },
      "source": [
        "Podríamos hacer el código un poco más simple con una lista de caracteres indeseados. Una idea muy útil es pasar todo el texto a mayúsculas para poder analizar el texto de manera más simple. Por ejemplo, si quiero buscar una palabra no tendré que analizar la posibilidad de que la primera letra sea mayúscula y el resto no."
      ]
    },
    {
      "cell_type": "code",
      "metadata": {
        "id": "dIXbRM7Epnrs"
      },
      "source": [
        "palabras = []\n",
        "no_deseado = ['\\n', '\"', ',', '.']\n",
        "\n",
        "for line in contenido:\n",
        "    \n",
        "    # eliminamos los distintos carácteres no deseados uno por uno\n",
        "    for caracter in no_deseado:\n",
        "      line = line.replace(caracter,'')\n",
        "   \n",
        "    palabras_linea = line.split(' ') # separamos por espacios \n",
        "    \n",
        "    for palabra in palabras_linea: # por cada \"string\" separado por espacios\n",
        "      if palabra != '':\n",
        "        palabras.append(palabra.upper()) # convertimos todo a mayuscula\n",
        "\n",
        "print(palabras)"
      ],
      "execution_count": null,
      "outputs": []
    },
    {
      "cell_type": "markdown",
      "metadata": {
        "id": "BsOiRz0V5RrZ"
      },
      "source": [
        "#####  *$\\color{\\green}\\checkmark$* **Mini-desafío:** Archivos de texto\n",
        "Encontrar la cantidad de ocurrencias de la palabras \"**cráter**\" y \"**que**\" en el texto de la noticia."
      ]
    },
    {
      "cell_type": "code",
      "metadata": {
        "id": "7PKAzS5Y5SxQ"
      },
      "source": [
        "palabras = []\n",
        "no_deseado = ['\\n', '\"', ',', '.']\n",
        "\n",
        "for line in contenido:\n",
        "    \n",
        "    # eliminamos los distintos carácteres no deseados uno por uno\n",
        "    for caracter in no_deseado:\n",
        "      line = line.replace(caracter,'')\n",
        "   \n",
        "    palabras_linea = line.split(' ') # separamos por espacios \n",
        "    \n",
        "    for palabra in palabras_linea: # por cada \"string\" separado por espacios\n",
        "      if palabra != '':\n",
        "        palabras.append(palabra.upper()) # convertimos todo a mayuscula\n",
        "\n",
        "print(palabras.count(\"CRÁTER\"))\n",
        "print(palabras.count(\"QUE\"))"
      ],
      "execution_count": null,
      "outputs": []
    },
    {
      "cell_type": "markdown",
      "metadata": {
        "id": "3MzR3XSTGnJo"
      },
      "source": [
        "### Escritura de archivos"
      ]
    },
    {
      "cell_type": "code",
      "metadata": {
        "id": "5ePqmp87GhOs"
      },
      "source": [
        "# Link a Youtube: https://youtu.be/AGw1A4L3Bhs\n",
        "# Tema: Escritura de archivos de texto.\n",
        "\n",
        "from IPython.display import YouTubeVideo\n",
        "YouTubeVideo('AGw1A4L3Bhs', width=800, height=450) "
      ],
      "execution_count": null,
      "outputs": []
    },
    {
      "cell_type": "markdown",
      "metadata": {
        "id": "EOkmetzV9_dh"
      },
      "source": [
        "El comando **open( )** tiene la posibilidad de recibir un segundo parámetro indicando el *modo* en el que abre el archivo:\n",
        "\n",
        "- `\"r\"` - Read (valor por defecto). Abre el archivo para ser leído y produce un error si el archivo no existe.\n",
        "\n",
        "- `\"a\"` - Append - Abre el archivo para 'concatenar', es decir agregar nuevo contenido al final de lo que ya existe, y crea un archivo nuevo si no existe.\n",
        "\n",
        "- `\"w\"` - Write - Abre el archivo para escritura, y crea un archivo nuevo si no existe.\n",
        "\n",
        "- `\"x\"` - Create - Crea el archivo especificado, y produce un error si el archivo ya existe.\n",
        "\n",
        "Existen otros modos como `\"r+\"`, `\"rb\"`, `\"w+\"`, `\"wb\"` los cuales pueden encontrar en la documentación de Python.\n",
        "\n",
        "Es una buena práctica \"cerrar\" el archivo luego de que haya sido abierto. Esto se logra con el método **close( )** y se debería utilizar siempre que el archivo termine de ser usado."
      ]
    },
    {
      "cell_type": "code",
      "metadata": {
        "id": "cUnIFOno_AIs"
      },
      "source": [
        "file = open(\"nuevo_archivo.txt\", \"w\")\n",
        "file.write(\"Uno \")\n",
        "file.write(\"Dos \")\n",
        "file.write(\"Tres!\")\n",
        "file.close()\n",
        "\n",
        "file = open(\"nuevo_archivo.txt\", \"r\")\n",
        "print( file.readlines() )\n",
        "file.close()"
      ],
      "execution_count": null,
      "outputs": []
    },
    {
      "cell_type": "markdown",
      "metadata": {
        "id": "sIgCI3EaADU8"
      },
      "source": [
        "En Google Colab el archivo queda guardado en la pestaña *Archivos*. Si usan un entorno de desarrollo distinto el archivo será guardado en su disco de la computadora. Para ver el archivo generado pueden seguir los siguientes pasos:\n",
        "\n",
        "<img src=\"https://raw.githubusercontent.com/IEEESBITBA/Curso-Python/master/_assets/colab_archivos_2.png\" width=400>\n",
        "\n"
      ]
    },
    {
      "cell_type": "markdown",
      "metadata": {
        "id": "9TFumFsGAm_x"
      },
      "source": [
        "Como mencionamos brevemente, existen *caracteres de escape* especiales. Por ejemplo `\\n` representa lo que hace la tecla 'Enter', crear una nueva línea. Al momento de crear un archivo podemos utilizar este caracter para escribir en diferentes renglones:"
      ]
    },
    {
      "cell_type": "code",
      "metadata": {
        "id": "9HvRSPagBDdH"
      },
      "source": [
        "file = open(\"renglones.txt\", \"w\")\n",
        "file.write(\"Este es el primer renglón.\\n\")\n",
        "file.write(\"Este es el segundo renglón.\\n\")\n",
        "file.write(\"Este es el tercer renglón.\\n\")\n",
        "file.write(\"Adiós!\\n\")\n",
        "file.close()\n",
        "\n",
        "file = open(\"renglones.txt\", \"r\")\n",
        "\n",
        "for renglon in file.readlines():\n",
        "  print(renglon)\n",
        "  \n",
        "file.close()"
      ],
      "execution_count": null,
      "outputs": []
    },
    {
      "cell_type": "markdown",
      "metadata": {
        "id": "gzCt3zuh1Fmx"
      },
      "source": [
        "Al final de la clase podrán encontrar, a modo de anexo, fragmentos de transmisiones en vivo de años anteriores que podrían ser de su interés.\n",
        "\n",
        "La lectura de los Anexos es **100% opcional** y NO es un requisito para continuar con el curso."
      ]
    },
    {
      "cell_type": "markdown",
      "metadata": {
        "id": "6uTBAyPfDHYy"
      },
      "source": [
        "#  *$\\color{\\green}\\checkmark$* $\\color{\\green}\\blacktriangleright$ Desafío a Entregar: Ahorcado\n",
        "\n",
        "*Los desafíos se entregan mediante [esta página](https://www.hackerrank.com/2021-1c-curso-introductorio-de-python) de HackerRank. Pueden ver un instructivo acerca del uso de la plataforma en [este link](https://youtu.be/pqYSwABnS_k).*\n",
        "\n",
        "Les proponemos programar el famoso juego \"Ahorcado\" donde un jugador ingresa una palabra y otro jugador intenta adivinarla. En cada turno, el segundo jugador indica una letra que cree que se encuentra en la palabra elegida.\n",
        "\n",
        "Una vez que el segundo jugador adivina todas las letras que se encuentran en la palabra, el juego termina y se muestra la cantidad de intentos que fueron necesarios. En esta versión del juego, si se adivina una letra que aparece varias veces en la palabra, todas las ocurrencias cuentan como adivinadas.\n",
        "\n",
        "**Formato del input:**\n",
        "\n",
        "* Primero se recibe la palabra que se debe adivinar (por defecto vendrá en mayúsculas)\n",
        "* Luego se reciben cierta cantidad de letras, una por línea, sin repetir. (por defecto vendrán en mayúsculas)\n",
        "\n",
        "Una vez que se haya adivinado la palabra del ahorcado, ya no se recibirán más letras. Su tarea es determinar la cantidad de intentos que fueron necesarios para adivinar la palabra completa, e imprimir ese número.\n",
        "\n",
        "**Ejemplos:**\n",
        "\n",
        "* Ejemplo 1\n",
        "\n",
        "  *Input:*\n",
        " \n",
        "  ```python\n",
        "  PYTHON\n",
        "  A\n",
        "  B\n",
        "  C\n",
        "  P\n",
        "  Y\n",
        "  T\n",
        "  H\n",
        "  O\n",
        "  N\n",
        "  ```\n",
        " *Output:*\n",
        "  ```python\n",
        "  9\n",
        "  ```\n",
        "  El programa imprime la cantidad de turnos que se tardaron en adivinar la palabra, a pesar de que tuvo tres intentos erróneos (```'A','B' y 'C'```)\n",
        "  \n",
        "* Ejemplo 2:\n",
        "\n",
        "  *Input:*\n",
        " \n",
        "  ```python\n",
        "  IEEE\n",
        "  X\n",
        "  Y\n",
        "  E\n",
        "  I\n",
        "  ```\n",
        " *Output:*\n",
        "  ```python\n",
        "  4\n",
        "  ```\n",
        "  La palabra original tiene letras repetidas, por lo cual al adivinar las letras ```'I' y 'E'``` alcanza para completar la palabra.\n",
        "\n",
        "\\\n",
        "\n",
        "**Tip:** Pueden eliminar todas las ocurrencias de cierto caracter en un string utilizando el método **.replace()**:\n",
        "\n",
        "```python\n",
        "palabra = palabra.replace( \"A\", \"\" )\n",
        "```\n",
        "\n"
      ]
    },
    {
      "cell_type": "code",
      "metadata": {
        "id": "QYiGBeWB5yW2"
      },
      "source": [
        "palabra=str(input())\n",
        "palabra=list(palabra)\n",
        "i=0\n",
        "\n",
        "while len(palabra)>0:\n",
        "  a=str(input())\n",
        "  \n",
        "  try:\n",
        "    q=palabra.count(a)\n",
        "    for j in range(q):\n",
        "      palabra.remove(a)\n",
        "  except:\n",
        "    p=0\n",
        "  i+=1\n",
        "\n",
        "print(i)"
      ],
      "execution_count": null,
      "outputs": []
    },
    {
      "cell_type": "markdown",
      "metadata": {
        "id": "MXjqS4PyhVTV"
      },
      "source": [
        "*$\\color{\\green}\\checkmark$* $\\medio$ *Challenge (No se entrega en la corrección automática)*:\n",
        "\n",
        " * Agregar una condición de perder, en el caso de que se haya superado cierta cantidad de intentos.\n",
        " * Mostrar un contador de letras incorrectas, incrementarlo si la letra no esta en la palabra.\n",
        " * Mostrar la palabra con guiones bajo ```_``` en donde haya una letra que el jugador todavía no adivinó y mostrar las letras que sí adivinó. Por ejemplo, para la palabra *AHORCADO* debe mostrar: ```A _ O _ _ A _ O ``` si el jugador ya ingreso las letras `A`, `O` y `P`.    \n",
        " * Armar una representación de la persona ahorcada del juego usando [Arte ASCII](https://es.wikipedia.org/wiki/Arte_ASCII), si prefieren pueden usar los dibujos ya creados por otras personas en internet."
      ]
    },
    {
      "cell_type": "code",
      "metadata": {
        "id": "1cXFuXGEL_Oq"
      },
      "source": [
        "palabra=str(input())\n",
        "WORD=list(palabra)\n",
        "mostrar=list(\"_ \"*len(palabra))\n",
        "\n",
        "print(\"\".join(mostrar), end=\"\\n\\n\")\n",
        "mostrar=list(\"_\"*len(palabra))\n",
        "palabra=list(palabra)\n",
        "i=0\n",
        "error=0\n",
        "\n",
        "\n",
        "while len(palabra)>0 and error<6:\n",
        "  a=str(input())\n",
        "  \n",
        "  if palabra.count(a)!=0:\n",
        "    q=palabra.count(a)\n",
        "    for j in range(q):\n",
        "\n",
        "      c=0\n",
        "      c=WORD.index(a,c,len(WORD))\n",
        "\n",
        "      if q>1:\n",
        "        for j in range(q):\n",
        "          mostrar[c]=a\n",
        "          if c<(len(WORD)-1):\n",
        "            c=WORD.index(a,c+1,len(WORD))\n",
        "          \n",
        "          \n",
        "      else: \n",
        "        mostrar[c]=a\n",
        "      \n",
        "\n",
        "      palabra.remove(a)\n",
        "    print(\" \".join(mostrar))\n",
        "\n",
        "\n",
        "  else:\n",
        "    error+=1\n",
        "    print(\"Errores:\",error)\n",
        "    ascii=[\" O \"]\n",
        "\n",
        "    #otro dibujito del tipito ahorcado\n",
        "    if error==2: ascii=[\" O \",\" | \"]\n",
        "    elif error==3: ascii=[\" O \",\"/| \"]\n",
        "    elif error==4: ascii=[\" O \",\"/|\\\\ \"]\n",
        "    elif error==5: ascii=[\" O \",\"/|\\\\\", \"/\"]\n",
        "    elif error==6: ascii=[\" Ø \",\"/|\\\\\", \"/ \\\\\"]\n",
        "\n",
        "    if error==2: ascii=[\"  O \",\"  | \"]\n",
        "    elif error==3: ascii=[\"  O \",\" /|\\\\ \"]\n",
        "    elif error==4: ascii=[\"  O \",\" /|\\\\\", \"  — \"]\n",
        "    elif error==5: ascii=[\"  O \",\" /|\\\\\", \"  — \", \" / \\\\\"]\n",
        "    elif error==6: ascii=[\"  Ø \",\" /|\\\\\", \"  — \", \" / \\\\\", \"-   -\"]\n",
        "                          \n",
        "    for p in ascii:\n",
        "      print(p)\n",
        "\n",
        "  print()\n",
        "  i+=1\n",
        "\n",
        "if error>=5:\n",
        "  print(\"ALTO LOSER, PERDISTE BRO\")\n",
        "else: \n",
        "  print(\"Bien ahiii! la palabra era:\", \"\".join(WORD))\n",
        "  print(\"La adivinaste después de:\", i, \"intentos.\")\n",
        "\n"
      ],
      "execution_count": null,
      "outputs": []
    },
    {
      "cell_type": "markdown",
      "metadata": {
        "id": "J2FkAJt9-h5D"
      },
      "source": [
        "# Ejercitación integradora $\\newcommand{\\dif}{\\bigstar}$$\\newcommand{\\facil}{\\color{\\green}{\\dif}}$ $\\newcommand{\\pieceofcake}{\\color{\\cyan}{\\dif}}$$\\newcommand{\\medio}{\\color{\\yellow}{\\dif\\dif}}$$\\newcommand{\\media}{\\medio}$$\\newcommand{\\normal}{\\medio}$  $\\newcommand{\\dificil}{\\color{\\orange}{\\dif\\dif\\dif}}$ $\\newcommand{\\imposible}{\\color{\\red}{\\dif\\dif\\dif\\dif}}$\n",
        "$\\newcommand{\\tarc}{\\large\\frown}$\n",
        "$\\newcommand{\\arc}[1]{\\stackrel{\\tarc}{#1}}$\n",
        "<head>\n",
        "<style type=\"text/css\">\n",
        "  .img{ \n",
        "    display: block;\n",
        "    margin-left:auto;\n",
        "    margin-right:auto;\n",
        "  }\n",
        "  </style>\n",
        "  </head>\n",
        "\n",
        "A continuación les proponemos resolver algunos ejercicios integradores, este contenido servirá para poder practicar lo aprendido y de a poco acercarse a lo que podría ser una aplicación real. No se preocupen si no llegan a terminar todos, o si les cuestan más que los desafíos de la clase, es cuestión de tomarse el tiempo de leer, pensar, y probar diferentes ideas hasta que encuentren una posible solución al problema.\n",
        "\n",
        "Luego de una semana les enviaremos una copia de las soluciones que se nos ocurrieron a nosotros para resolver estos problemas y así puedan comparar en caso de que lo deseen."
      ]
    },
    {
      "cell_type": "markdown",
      "metadata": {
        "id": "VdjoihjT2axr"
      },
      "source": [
        "### *$\\color{\\green}\\checkmark$* $\\facil$ Call me $\\frac{\\partial}{\\partial x}$, or $\\mathrm{diff}$ for short\n",
        "Una operacion muy común al manejar datos es la derivada\n",
        "\n",
        "$$ \\frac{d }{dt} (\\mathrm{Datos}) $$\n",
        "\n",
        "Escribir una función que reciba una lista de precios diarios de las acciones de una compañía. Llamemos $n$ a la cantidad de elementos en esta lista. Debe devolver una lista de tamaño $n-1$ con los valores de la *derivada discreta* de la lista recibida.\n",
        "\n",
        "La *derivada discreta* corresponde a la diferencia entre un elemento y su anterior, podemos usar la siguiente definición:\n",
        "* $\\mathrm{derivada}[i]=x[i+1]-x[i]$ \n",
        "\n",
        "Indicar el día en el cual se produjo el mayor salto positivo en el precio de las acciones, y el día en el cual se produjo el mayor salto negativo.\n",
        "\n",
        "**Tip:** Las instrucciones **max()**, **min()**, y **.index()** les pueden ser de gran utilidad."
      ]
    },
    {
      "cell_type": "code",
      "metadata": {
        "id": "-rAB4nDF2875"
      },
      "source": [
        "def derivada(x):\n",
        "  list=[]\n",
        "\n",
        "  for i in range(len(x)-1):\n",
        "    list.append(x[i+1]-x[i])\n",
        "\n",
        "  return(list)\n",
        "\n",
        "datos=[]\n",
        "n=int(input(\"Días a ingresar: \"))\n",
        "for i in range(n):\n",
        "  datos.append(int(input(\"Precio: \")))\n",
        "\n",
        "deriv=derivada(datos)\n",
        "print(\"Máximo salto positivo el día:\", deriv.index(max(deriv))+1)\n",
        "print(\"Máximo salto negativo el día:\", deriv.index(min(deriv))+1)"
      ],
      "execution_count": null,
      "outputs": []
    },
    {
      "cell_type": "markdown",
      "metadata": {
        "id": "r0WDu6POoM0e"
      },
      "source": [
        "### *$\\color{\\green}\\checkmark$* $\\facil$ ¿Acaso hubo búhos aca?\n",
        "\n",
        "Definir una función que detecte si una palabra es un [palíndromo](https://es.wikipedia.org/wiki/Pal%C3%ADndromo) y devuelva `True` ó `False`.\n",
        "\n",
        "**Ejemplos:**\n",
        "\n",
        "`palindromo( \"python\" )` → `False`\n",
        "\n",
        "`palindromo( \"reconocer\" )` → `True`\n",
        "\n",
        "`palindromo( \"Neuquén\" )` → `False` (La tilde y la N mayúscula hacen que el resultado sea falso)\n",
        "\n",
        "\\\n",
        "\n",
        "*$\\color{\\green}\\checkmark$* $\\medio$ *Challenge*: Modificar la función para ignorar espacios, signos de puntuación, y que no haga distinción entre mayúsculas y minúsculas (pueden usar [str.lower](https://docs.python.org/3/library/stdtypes.html?highlight=str.lower#str.lower) o [str.upper](https://docs.python.org/3/library/stdtypes.html?highlight=str.lower#str.upper)). Sugerimos usar el nombre del desafío como un palíndromo de ejemplo:\n",
        "\n",
        "  `palindromo( \"¿Acaso hubo búhos aca?\" )` → `True`\n"
      ]
    },
    {
      "cell_type": "code",
      "metadata": {
        "id": "9h0bN1fD2r8h"
      },
      "source": [
        "def sacarCosas(word):\n",
        "  palabras = []\n",
        "  no_deseado = ['\\n', '\"', ',', '.']\n",
        "\n",
        "  for line in word:\n",
        "    \n",
        "    # eliminamos los distintos carácteres no deseados uno por uno\n",
        "    for caracter in no_deseado:\n",
        "      line = line.replace(caracter,'')\n",
        "   \n",
        "    palabras_linea = line.split(' ') # separamos por espacios \n",
        "    \n",
        "    for palabra in palabras_linea: # por cada \"string\" separado por espacios\n",
        "      if palabra != '':\n",
        "        palabras.append(palabra.upper()) # convertimos todo a mayuscula\n",
        "  return(palabras)\n",
        "\n",
        "\n",
        "def palindromo(word):\n",
        "  word=sacarCosas(word)\n",
        "  c=len(word)\n",
        "  i=0\n",
        "  a=word[i]\n",
        "  b=word[c-1-i]\n",
        "\n",
        "  while a==b and i!=(c//2):\n",
        "    i+=1\n",
        "    a=word[i]\n",
        "    b=word[c-1-i]\n",
        "\n",
        "  if i==(c//2): return(True)\n",
        "  elif a!=b: return(False)\n",
        "\n",
        "print(palindromo(str(input(\"Insertá frase o palabra que quieras analizar: \"))))"
      ],
      "execution_count": null,
      "outputs": []
    },
    {
      "cell_type": "markdown",
      "metadata": {
        "id": "iX-8n_Y2Mthx"
      },
      "source": [
        "### *$\\color{\\green}\\checkmark$* $\\facil$ Entre Paréntesis\n",
        "\n",
        "En este desafío deben programar un [linter](https://en.wikipedia.org/wiki/Lint_(software)) que verifique la correcta utilización de los paréntesis en un texto.\n",
        "\n",
        "La entrada del programa será un texto, que puede contener paréntesis `()` además de cualquier otra letra o símbolo. Su tarea es determinar que el texto sea válido, lo cual en este caso quiere decir que la utilización de paréntesis es correcta, cada símbolo de apertura se corresponde con uno de cierre. Se debe imprimir `True` o `False` en función de si el texto es válido o no.\n",
        "\n",
        "**Ejemplos:**\n",
        "\n",
        "- Cada paréntesis se cierra en el orden correcto:\n",
        "\n",
        "  ```python\n",
        "  esCorrecto( \"Yo (Juan) quiero (necesito) café.\" ) → True\n",
        "  ```\n",
        "\n",
        "- Falta cerrar el paréntesis ``)``:\n",
        "\n",
        "  ```python\n",
        "  esCorrecto( \" (1*(2+3) \" ) → False\n",
        "  ```\n",
        "\n",
        "- Falta abrir el paréntesis ``(``:\n",
        "\n",
        "  ```python\n",
        "  esCorrecto( \" )(()) \" ) → False\n",
        "  ```\n",
        "\n",
        "- Se cierran en el orden incorrecto:\n",
        "\n",
        "  ```python\n",
        "  esCorrecto( \" ( ) ) ( ( ) \" ) → False\n",
        "  ```"
      ]
    },
    {
      "cell_type": "code",
      "metadata": {
        "id": "DcPQNyNrMyit"
      },
      "source": [
        "def esCorrecto(string):\n",
        "\n",
        "  texto=list(string)\n",
        "  warn=False \n",
        "  a=0 #contador de parentesis abiertos (( == a=2\n",
        "\n",
        "  l=0 #left (\n",
        "  r=0 #right )\n",
        "\n",
        "  for i in texto:\n",
        "    if i==\"(\": \n",
        "      l+=1\n",
        "      a+=1\n",
        "    elif i==\")\": \n",
        "      r+=1\n",
        "      a-=1\n",
        "    if a<0: warn=True #situación ejemplo-> ( ) ) \n",
        "\n",
        "  if l!=r or a!=0 or warn==True: return(False)\n",
        "  elif a==0:return(True)\n",
        "\n",
        "\n"
      ],
      "execution_count": null,
      "outputs": []
    },
    {
      "cell_type": "markdown",
      "metadata": {
        "id": "3YitqSp9Z3sD"
      },
      "source": [
        "### *$\\color{\\green}\\checkmark$* $\\medio$ Las naranjas de Miguel \n",
        "Miguel vive en un pueblo frutero con su hermana en el valle de Oz. Todos los días cosecha bananas y naranjas de su campo. Como son abundantes, suele darle 2 bananas y 1 naranja a su hermana. No obstante Miguel siempre quiere quedarse con por lo menos una naranja, por lo cual le da una naranja a su hermana sólo cuando se cosechan al menos 2 naranjas.\n",
        "\n",
        "Miguel ahora quiere modernizarse, compró una cinta transportadora que detecta cada fruta que la atraviesa y te pide ayuda para  escribir un programa que reciba el código generado por la máquina y *devuelva la cantidad de bananas y naranjas que le quedarán* luego de quitar las frutas que le dará a su hermana.\n",
        "\n",
        "```python\n",
        "ejemploCodigoDePedido = \"BBBBBNNNNNNNN\"\n",
        "```\n",
        "\n",
        "Cada `N` representa una naranja y cada `B` representa una banana.\n",
        "\n",
        "**Ejemplos:**\n",
        "\n",
        " * Miguel tenía 5 bananas y 8 naranjas y le da 2 bananas y 1 naranja a su hermana:\n",
        "\n",
        " `miguelito( \"BBBBBNNNNNNNN\" )` → `3 Bananas y 7 Naranjas`\n",
        " \n",
        " * Miguel le da su única banana a la hermana pero no está dispuesto a quedarse sin naranjas:\n",
        "\n",
        " `miguelito( \"BN\" )` → `0 Bananas y 1 Naranja`"
      ]
    },
    {
      "cell_type": "code",
      "metadata": {
        "id": "nclHdRjM29sZ",
        "colab": {
          "base_uri": "https://localhost:8080/"
        },
        "outputId": "e6a4aeab-8402-40a0-cc6f-6afaa9a451b6"
      },
      "source": [
        "def miguelito(pedido):\n",
        "  codigo=list(pedido.upper())\n",
        "  \n",
        "  #codigo=list(str(input()).upper())\n",
        "  #si tiene mas de 2 le da 1 a su hermana-> se queda con 1 naranja al menos\n",
        "  n=0\n",
        "  b=0\n",
        "  for i in codigo:\n",
        "    if i==\"B\": b+=1\n",
        "    elif i==\"N\": n+=1\n",
        "\n",
        "  if n>=2: nm=n-1\n",
        "  elif n==1: nm=1\n",
        "  else: nm=0\n",
        "\n",
        "  if b>=2: bm=b-2\n",
        "  else: bm=0\n",
        "\n",
        "  print(bm, \"bananas y\", nm, \"naranjas\")\n",
        "\n",
        "\n"
      ],
      "execution_count": null,
      "outputs": [
        {
          "output_type": "stream",
          "text": [
            "bbbbn\n",
            "2 bananas y 1 naranjas\n"
          ],
          "name": "stdout"
        }
      ]
    },
    {
      "cell_type": "markdown",
      "metadata": {
        "id": "q0PZRmkdHBlV"
      },
      "source": [
        "###$\\normal$ Dame una señal\n",
        "\n",
        "En este ejercicio se analizarán los datos **reales** de un filtro electrónico pasa-altos (atenúa las frecuencias bajas).\n",
        "\n",
        "**No es necesario** saber nada acerca de este tema para lograr hacer el análisis, este conjunto de datos se manipula simplemente como cualquier otro.\n",
        "\n",
        "Para obtener los datos, se construyó el circuito y se midió el *voltaje* en la entrada del sistema y el *voltaje* en la salida del sistema utilizando un instrumento de medición llamado *osciloscopio*:\n",
        "\n",
        "<img src=\"https://raw.githubusercontent.com/IEEESBITBA/Curso-Python/master/_assets/osciloscopio.jpg\" alt = \"Foto de un osciloscopio\" height = 200>\n",
        "\n",
        "Este instrumento tiene la funcionalidad de exportar los datos en un formato llamado **CSV**.\n",
        "\n",
        "**CSV** (valores separados por comas) es un formato de archivo usado frecuentemente para almacenar datos en forma de tabla. Cada renglón corresponde a una fila, y en cada fila se separan las columnas usando comas. Una pequeña limitación es que dado que se usan para delimitar columnas, no admite el uso de comas como parte del contenido de los elementos.\n",
        "\n",
        "- Importar el archivo **mediciones.csv**"
      ]
    },
    {
      "cell_type": "code",
      "metadata": {
        "id": "8TYxjS27HHEl",
        "colab": {
          "base_uri": "https://localhost:8080/"
        },
        "outputId": "b4f57cda-bf23-4fe9-e150-d76db02e20a1"
      },
      "source": [
        "! wget \"https://raw.githubusercontent.com/IEEESBITBA/Curso-Python/master/Curso_Introductorio_Datos/mediciones.csv\""
      ],
      "execution_count": null,
      "outputs": [
        {
          "output_type": "stream",
          "text": [
            "--2021-08-18 18:15:05--  https://raw.githubusercontent.com/IEEESBITBA/Curso-Python/master/Curso_Introductorio_Datos/mediciones.csv\n",
            "Resolving raw.githubusercontent.com (raw.githubusercontent.com)... 185.199.108.133, 185.199.109.133, 185.199.110.133, ...\n",
            "Connecting to raw.githubusercontent.com (raw.githubusercontent.com)|185.199.108.133|:443... connected.\n",
            "HTTP request sent, awaiting response... 200 OK\n",
            "Length: 282015 (275K) [text/plain]\n",
            "Saving to: ‘mediciones.csv’\n",
            "\n",
            "mediciones.csv      100%[===================>] 275.41K  --.-KB/s    in 0.03s   \n",
            "\n",
            "2021-08-18 18:15:05 (8.35 MB/s) - ‘mediciones.csv’ saved [282015/282015]\n",
            "\n"
          ],
          "name": "stdout"
        }
      ]
    },
    {
      "cell_type": "markdown",
      "metadata": {
        "id": "aG-Tjm1GHmLS"
      },
      "source": [
        "Si descargan este archivo y lo abren con el *bloc de notas* o algún otro editor de texto, verán que las primeras lineas comienzan con '**#**', ya que se tratan de comentarios que se pueden ignorar. Luego hay una línea vacía, y a continuación aparecen los nombres de cada columna. A partir de entonces, cada renglón contiene 3 números separados por comas.\n",
        "\n",
        "Los nombres de las columnas son:\n",
        "- Time (s)\n",
        "- Channel 1 (V)\n",
        "- Channel 2 (V)\n",
        "\n",
        "La primer columna contiene el instante de tiempo en el cual se efectuó cada medición, la segunda columna contiene los valores de la señal de entrada del sistema, y la tercer columna contiene los valores de la señal de salida del sistema. A continuación se representan estos mismos datos mediante un gráfico en función del tiempo:\n",
        "\n",
        "<img src=\"https://raw.githubusercontent.com/IEEESBITBA/Curso-Python/master/_assets/highpass.png\" alt = \"Gráfico del filtro pasa-bajos\" height = 250>\n",
        "\n",
        "*Este gráfico se generó utilizando Python y matplotlib, esta herramienta se explica en otro curso que ofrecemos en IEEE-ITBA.*\n",
        "\n",
        "\\\n",
        "\n",
        "**Identificar y mostrar en pantalla:**\n",
        "- El valor más alto de cada columna\n",
        "- El valor más bajo de cada columna\n",
        "- El valor promedio de cada columna\n",
        "\n",
        "$\\dificil$ *Challenge*:\n",
        "- Los instantes de tiempo en los cual la señal *Channel 1* pasa de un valor negativo a un valor positivo\n",
        "- El intervalo de tiempo entre cada uno de estos sucesos (el periodo de la señal)\n"
      ]
    },
    {
      "cell_type": "code",
      "metadata": {
        "id": "EbMW7MOXHLsm",
        "colab": {
          "base_uri": "https://localhost:8080/",
          "height": 36
        },
        "outputId": "e871935c-f6cc-4158-dae0-33352be919a4"
      },
      "source": [
        "file = open(\"mediciones.csv\") # cargamos el archivo a la variable file\n",
        "contenido = file.readlines() # obtenemos todas las lineas\n",
        "\n",
        "contenido[]"
      ],
      "execution_count": null,
      "outputs": [
        {
          "output_type": "execute_result",
          "data": {
            "application/vnd.google.colaboratory.intrinsic+json": {
              "type": "string"
            },
            "text/plain": [
              "'#Device Name: EExplorer\\n'"
            ]
          },
          "metadata": {
            "tags": []
          },
          "execution_count": 21
        }
      ]
    },
    {
      "cell_type": "markdown",
      "metadata": {
        "id": "lN2eWxUlGNAp"
      },
      "source": [
        "###$\\normal$ El código secreto\n",
        "<img class=\"img\" src=\"https://raw.githubusercontent.com/IEEESBITBA/Curso-python/master/_assets/vacas.jpg\" height=\"250\" alt = \"Vacas y toros\" title = \"Vacas\">\n",
        "\n",
        "En un país desconocido los agentes secretos se comunican mediante un código numérico. La característica principal del código es que el transmisor no puede decir el número, sino que, con un conjunto de reglas, el receptor debe adivinar el número.\n",
        "\n",
        "Cada vez que el agente indique un número con el objetivo de adivinar, el segundo agente debe indicar:\n",
        "  * Como **correctos** la cantidad de dígitos que aparecen en su propio número y en el del otro agente, en las **mismas posiciones**.\n",
        "  * Indica como **mal ubicados** la cantidad de dígitos que aparecen en ambos números, pero no en las mismas posiciones. \n",
        "\n",
        "La idea de este ejercicio es programar lo que sería el agente emisor del mensaje. Para ello, el programa deberá elegir de forma aleatoria un número de 5 cifras y, cada vez que el usuario le ingrese un número por consola, deberá indicar la cantidad de **correctos** y **mal ubicados**. \n",
        "El programa termina cuando el usuario adivina el número. \n",
        "\n",
        "**Ejemplos**:\n",
        "- Supongamos que la máquina eligió el número `39541` y el usuario dijo `19421`. Entonces la máquina debería responder 2 **correctos** ( el último \"1\" y el \"9\") y 2 **mal ubicados** (el \"4\" y el primer \"1\").\n",
        "\n",
        "- Supongamos que la máquina eligió el número `9955` y el usuario dijo `9559`. Entonces la máquina debería responder 2 **correctos** (por el primer \"9\" y el segundo \"5\") y 2 **mal ubicados** (por el primer \"5\" y por el segundo \"9\").\n",
        "\n",
        "***********************************************\n",
        "\n",
        "Programar un juego en el que la computadora elige un número de 5 dígitos que el usuario debe adivinar. Para ello, por cada ronda el usuario indica un número y la máquina:\n",
        "* Indica como **vacas** la cantidad de dígitos que aparecen en el número del usuario y de la máquina, en las mismas posiciones.\n",
        "* Indica como **toros** la cantidad de dígitos que aparecen en ambos números, pero no en las mismas posiciones. \n",
        "\n",
        "El juego termina cuando el usuario adivina el número.\n",
        "\n",
        "**Ejemplos**:\n",
        "- Supongamos que la máquina eligió el número `39541` y el usuario dijo `19421`. Entonces la máquina debería responder 2 vacas (\"1\" y \"9\") y 2 toros (\"4\" y \"1\").\n",
        "\n",
        "- Supongamos que la máquina eligió el número `9955` y el usuario dijo `9559`. Entonces la máquina debería responder 2 vacas (por el primer \"9\" y el segundo \"5\") y 2 toros (por el primer \"5\" y por el segundo \"9\").\n",
        "\n",
        "**Tips:**\n",
        "- Convertir todos los números a *string* o a *list* puede ayudarlos a realizar comparaciones:\n",
        " ```python\n",
        " texto = str(123456)\n",
        " lista = list(texto)\n",
        " ```\n",
        "\n",
        "- Pueden elegir el número original de la forma que prefieran. Una alternativa que todavía no se explicó en el curso es usando [librerías](https://docs.python.org/3/library/random.html#random.randint):\n",
        "\n",
        " ```python\n",
        " import random\n",
        " numero = random.randint(10000, 99999)\n",
        " ```\n"
      ]
    },
    {
      "cell_type": "code",
      "metadata": {
        "id": "8cnUbEpaGTJm",
        "colab": {
          "base_uri": "https://localhost:8080/"
        },
        "outputId": "2bda8306-1cb8-438b-8d39-db0752cdfde0"
      },
      "source": [
        "num=list(\"39541\")\n",
        "user=list(input())\n",
        "vacas=0\n",
        "toros=0\n",
        "\n",
        "for i in range(len(num)):\n",
        "  if num[i]==user[i]: vacas+=1\n",
        "  else:\n",
        "    for j in user:\n",
        "      if j==num[i]: toros+=1\n",
        "\n",
        "if num==user: print(\"Si\")\n",
        "else: print(vacas,\"vacas y\", toros, \"toros\")"
      ],
      "execution_count": null,
      "outputs": [
        {
          "output_type": "stream",
          "text": [
            "19421\n",
            "2 vacas y 1 toros\n"
          ],
          "name": "stdout"
        }
      ]
    },
    {
      "cell_type": "markdown",
      "metadata": {
        "id": "XpuHDVjCXkR2"
      },
      "source": [
        "### $\\dificil$ Análisis estadístico de fallas en lotes de producción\n",
        "\n",
        "Una planta de producción de botellas plásticas fabrica 1000 lotes de botellas por día. Debido al proceso de fabricación algunas de las botellas salen falladas, estos fallos son detectados automáticamente durante el proceso de control de calidad y se cargan en una base de datos que registra la cantidad de productos fallados que fueron detectados por cada lote. El departamento de control de calidad sospecha que la cantidad de fallos por lote sigue una distribución de *Poisson*, pero todavía no conocen la media y la varianza.\n",
        "\n",
        "Se pide importar los datos de los últimos 30 días (en total son 30000 datos) y calcular la *media*, la *varianza*, la *moda* y la *mediana* de la distribución de datos medidos (sin utilizar librerías de estadística). Los datos se encuentran en el archivo *ControlCalidadBotellas.csv* bajo la columna *Fallas*, recomendamos hacer *print()* del contenido del archivo o abrir el archivo con un editor de texto para comprender mejor el formato en el que se encuentran los datos.\n",
        "\n",
        "**Definiciones:**\n",
        "- **Media:** El valor promedio:\n",
        "\n",
        "  $\\mu=\\frac{X_1+X_2+X_3+\\cdots+X_n}{n}$\n",
        "\n",
        "- **Varianza:** El promedio de las distancias al cuadrado entre cada valor y la media:\n",
        "\n",
        "  $\\sigma^2=\\frac{(X_1-\\mu)^2+(X_2-\\mu)^2+\\cdots+(X_n-\\mu)^2}{n}$\n",
        "\n",
        "- **Moda:** El valor que ocurre con mayor frecuencia.\n",
        "\n",
        "- **Mediana:** El valor que cumple la propiedad que la mitad de las veces el valor medido es menor a la mediana y la otra mitad de las veces es mayor.\n",
        "\n",
        "Si las sospechas acerca de la distribución fueran correctas, entonces de acuerdo a las propiedades de la distribución de Poisson la media y la varianza deberían ser iguales, además la moda sería $\\lceil{\\mu}\\rceil-1$\n",
        "¿Esta sospecha les parece acertada?\n",
        "\n",
        "\\\n",
        "\n",
        "**Tip:**\n",
        "- ¡Usando las librerías numpy y scipy se pueden realizar todo tipo de análisis de estadística sin tener que programar todo a mano! Este es sólo un ejercicio para practicar la manipulación de datos."
      ]
    },
    {
      "cell_type": "code",
      "metadata": {
        "id": "H8YZTOZuS8Vg"
      },
      "source": [
        "! wget \"https://raw.githubusercontent.com/IEEESBITBA/Curso-Python/master/Curso_Introductorio_Datos/ControlCalidadBotellas.csv\""
      ],
      "execution_count": null,
      "outputs": []
    },
    {
      "cell_type": "code",
      "metadata": {
        "id": "IJ1WFX5zqvHN"
      },
      "source": [
        ""
      ],
      "execution_count": null,
      "outputs": []
    },
    {
      "cell_type": "markdown",
      "metadata": {
        "id": "gD49-WKM2_L5"
      },
      "source": [
        "###$\\dificil$ Convirtiendo números\n",
        "\n",
        "Después de usar tantas veces la instrucción ``int()`` para realizar conversiones, uno empieza a preguntarse ¿Será muy complicado convertir textos a números?\n",
        "\n",
        "Para poner esto a prueba, les proponemos crear su propio ``int()``. Para lograrlo deben definir una funcion ``text2number()`` que reciba como parámetro una variable de tipo *string* y devuelva un número entero correspondiente a la conversión, tal como funciona ``int()``. Los requisitos que debe cumplir la entrada para ser considerada válida son:\n",
        " - Al inicio puede contener o no cierta cantidad de espacios ``' '``.\n",
        " - Luego puede o no tener 1 caracter de signo: ``'+'`` ó ``'-'``.\n",
        " - Luego tiene cierta cantidad de caracteres numéricos: entre ``'0'`` y ``'9'``.\n",
        " - Por último puede contener o no cierta cantidad de espacios ``' '``.\n",
        "\n",
        "Como buena práctica de programación, les recomendamos considerar diferentes casos límites para verificar que el código logra manejarlos adecuadamente, además de ejemplos válidos también comprobar donde las condiciones no se cumplen o estan en el límite de cumplirse. De esa forma pueden asegurarse de que su código hace lo que esperaban en todo tipo de situaciones.\n",
        "\n",
        "Quedará a su criterio definir lo que hace la función cuando la entrada no se considera válida.\n",
        "\n",
        "**Tips:**\n",
        "* Al igual que las listas, los strings son \"iterables\". Los tipos de datos \"iterables\" permiten, entre otras cosas, realizar un *for* que recorre todos sus elementos:\n",
        "```python\n",
        "texto = \"Hola Mundo!\"\n",
        "for letra in texto:\n",
        "    print(letra)\n",
        "```\n",
        "* Usando el comando ``ord()`` se obtiene el [código ASCII](https://es.wikipedia.org/wiki/ASCII) de un caracter, y restando ``ord('0')`` se obtiene el valor numérico de un caracter entre ``'0'`` y ``'9'``:\n",
        "```python\n",
        "caracter = '5'\n",
        "numero = ord(caracter) - ord('0')\n",
        "```"
      ]
    },
    {
      "cell_type": "code",
      "metadata": {
        "id": "DOxAv_1c3YJd"
      },
      "source": [
        ""
      ],
      "execution_count": null,
      "outputs": []
    },
    {
      "cell_type": "markdown",
      "metadata": {
        "id": "onGW8gNX9mDa"
      },
      "source": [
        "###$\\imposible$ TicTacToe\n",
        "\n",
        "<img class=\"img\" src=\"https://raw.githubusercontent.com/IEEESBITBA/Curso-python/master/_assets/tictactoe.png\" height=\"200\" alt = \"TicTacToe\" title = \"TicTacToe\">\n",
        "\n",
        "\n",
        "\n",
        "Desarrollar un juego Ta-Te-Ti en el cual dos usuarios se enfrenten. Por cada turno, un usuario (al que le corresponda) deberá indicar por consola con un número del 1 (casilla superior izquierda) al 9 (casilla inferior derecha) en función de la casilla en que quiere colocar su ficha. El juego termina cuando un jugador coloca 3 fichas en línea o ya no se pueden colocar más fichas. Al finalizar la partida, indicar qué jugador ganó o si hubo empate.\n",
        "\n",
        "**Ayuda**: Facilitamos la función ```drawboard``` para poder mostrar el tablero en pantalla.\n",
        "\n",
        "**Recomendación**: Modularizar el programa en diferentes módulos, por ejemplo: uno que revise si hay un jugador ganador o no, otro que gestione los datos que ingresan los jugadores y los guarde en la lista, etc."
      ]
    },
    {
      "cell_type": "code",
      "metadata": {
        "id": "_vb3W4Bj90SY"
      },
      "source": [
        "# drawboard() recibe una lista de 9 elementos donde\n",
        "# los elementos de la lista son cruces, círculos, o espacios\n",
        "\n",
        "def drawboard(board):\n",
        "  print(' ', board[0], ' | ', board[1], ' | ', board[2] ) #Dibujamos el 1er renglón\n",
        "  print('-----------------')\n",
        "  print(' ', board[3], ' | ', board[4], ' | ', board[5] ) #Dibujamos el 2do renglón\n",
        "  print('-----------------')\n",
        "  print(' ', board[6], ' | ', board[7], ' | ', board[8] ) #Dibujamos el 3er renglón"
      ],
      "execution_count": null,
      "outputs": []
    },
    {
      "cell_type": "markdown",
      "metadata": {
        "id": "BDvyOrrPU98H"
      },
      "source": [
        "# Anexo A: Funcionamiento de la memoria\n",
        "La lectura de los Anexos es **100% opcional** y NO es un requisito para continuar con el curso."
      ]
    },
    {
      "cell_type": "markdown",
      "metadata": {
        "id": "cPg3_nytSrCG"
      },
      "source": [
        "\n",
        "En la explicación al principio de la clase representamos la memoria como un conjunto de casilleros que almacenan números, vamos a explicar un poco más en detalle de dónde salen esos números, y por qué es la única manera de almacenar información en la memoria.\n",
        "\n",
        "La memoria de una computadora es un dispositivo que contiene un conjunto de componentes electrónicos que pueden alternar entre 2 estados, un estado de encendido y uno de apagado. La computadora puede dar instrucciones a la memoria para modificar el estado de estos componentes, de forma que determine si cada uno está encendido o apagado, y más tarde puede revisar estos componentes para saber el estado en el que están. De alguna forma tenemos que usar las distintas combinaciones de encendidos y apagados (también llamados 0 y 1) de los distintos componentes para representar toda la información que necesitamos. Cada uno de estos \"pedacitos\" de información que únicamente tienen 2 estados se los llama \"digitos binarios\" o \"bits\", y como dijimos anteriormente cada *bit* puede valer 0 o 1.\n",
        "\n",
        "En los comienzos de la informática se adoptó una convención que es ahora casi universal, esta gran cantidad de *bits* que tiene la memoria se van a separar en grupos de 8. Cada \"casillero\" de la memoria en la imagen de la explicación del inicio, corresponde a un grupo de 8 *bits* de memoria, es decir, a 8 de estos componentes que pueden estar encendidos o apagados.\n",
        "\n",
        "&ensp;*¿Entonces por qué dijimos que cada casillero es un número, cuando es realidad son 8 dígitos binarios?*\n",
        "\n",
        "La respuesta es que es mucho más fácil usar números decimales (los números \"normales\") en lugar de 8 dígitos binarios, entonces interpretamos esos 8 *bits* como un número decimal usando el [sistema binario](https://es.wikipedia.org/wiki/Sistema_binario). Usando este sistema, cada combinación de 8 *bits*, es decir 8 ceros y unos, corresponde a un número decimal.\n",
        "\n",
        "Por ejemplo:\n",
        "\n",
        "| Binario | Decimal   |\n",
        "|----------|-----|\n",
        "| 00000000 | 0   |\n",
        "| 00000001 | 1   |\n",
        "| 00000010 | 2   |\n",
        "| 00000011 | 3   |\n",
        "| ...      | ... |\n",
        "| 11111111 | 255 |\n",
        "\n",
        "<br />\n",
        "\n",
        "Usando 8 *bits* se pueden generar 256 combinaciones distintas, y en el sistema decimal corresponden a los números del 0 al 255. Cada uno de estos paquetes de 8 *bits* se denomina \"byte\", cuando nos referíamos a un \"casillero\" de memoria en realidad estabamos haciendo referencia a un *byte*.\n",
        "\n",
        "Para guardar números mayores a 255, la variable correspondiente deberá ocupar más de 1 *byte* o \"casillero\". Cuándo se utilizan 2 *bytes* para almacenar un número, una estrategia posible es usar un *byte* para almacenar el cociente N/256 y el otro para almacenar el resto N%256 (en donde N es el número que se desea guardar). Luego para recrear el número original se multiplica el cociente por 256 y se suma el resto. Este es sólo un ejemplo, se utilizan diferentes estrategias para almacenar números negativos, números con decimales, y más.\n",
        "\n",
        "Otro tipo de variables como strings, listas, sets, etc. utilizan diferentes técnicas. En algunos casos se reserva una cantidad grande de *bytes* por si el tamaño de la variable crece mucho, en algunos casos se pueden reservar más *bytes* si la cantidad reservada previamente no es suficiente.\n",
        "\n",
        "Hay muchos más detalles acerca de cada una de las cosas que mencionamos, y de cada tema se podrían hacer varias clases enteras, por lo cual si quieren conocer más pueden seguir investigando por su cuenta.\n",
        "\n",
        "Algunos links interesantes:\n",
        "\n",
        "https://es.wikipedia.org/wiki/ASCII\n",
        "\n",
        "https://es.wikipedia.org/wiki/Unicode\n",
        "\n",
        "https://es.wikipedia.org/wiki/Byte\n",
        "\n",
        "https://es.wikipedia.org/wiki/Coma_flotante\n",
        "\n",
        "https://es.wikipedia.org/wiki/Direcci%C3%B3n_de_memoria\n",
        "\n",
        "https://es.wikipedia.org/wiki/Puntero_(inform%C3%A1tica)\n",
        "\n",
        "https://es.wikipedia.org/wiki/Biestable"
      ]
    },
    {
      "cell_type": "markdown",
      "metadata": {
        "id": "KtOaSVom8PDW"
      },
      "source": [
        "# Anexo B: Instalación de Python y uso de IDEs\n",
        "La lectura de los Anexos es **100% opcional** y NO es un requisito para continuar con el curso."
      ]
    },
    {
      "cell_type": "markdown",
      "metadata": {
        "id": "QZGhJr1C8ezN"
      },
      "source": [
        "A continuación les dejamos un fragmento de una transmisión en vivo de años anteriores, en la cual se da una introducción al uso de Entornos de Desarrollo Integrados (IDEs) y cómo utilizar algunas herramientas básicas como un debugger."
      ]
    },
    {
      "cell_type": "code",
      "metadata": {
        "id": "i9o4zdoy8zyf"
      },
      "source": [
        "# Link a Youtube: https://www.youtube.com/watch?v=hpdHpKyxLY4\n",
        "\n",
        "from IPython.display import YouTubeVideo\n",
        "YouTubeVideo('hpdHpKyxLY4', start=400, end=1768, width=800, height=450)"
      ],
      "execution_count": null,
      "outputs": []
    },
    {
      "cell_type": "markdown",
      "metadata": {
        "id": "JvqKPKPn0nVP"
      },
      "source": [
        "# Anexo C: Git (control de versiones)\n",
        "La lectura de los Anexos es **100% opcional** y NO es un requisito para continuar con el curso."
      ]
    },
    {
      "cell_type": "markdown",
      "metadata": {
        "id": "L6jihoba0nVS"
      },
      "source": [
        "A continuación les dejamos un fragmento de una transmisión en vivo de años anteriores, en la cual se da una introducción al control de versiones con Git."
      ]
    },
    {
      "cell_type": "code",
      "metadata": {
        "id": "ExmXeYf00nVT"
      },
      "source": [
        "# Link a Youtube: https://www.youtube.com/watch?v=hpdHpKyxLY4\n",
        "\n",
        "from IPython.display import YouTubeVideo\n",
        "YouTubeVideo('hpdHpKyxLY4', start=1768, end=3295, width=800, height=450)"
      ],
      "execution_count": null,
      "outputs": []
    },
    {
      "cell_type": "markdown",
      "metadata": {
        "id": "OxWzketkHRi3"
      },
      "source": [
        "#Sponsors \n",
        "Agradecemos a nuestros sponsors por facilitarnos la posibilidad de brindar este curso.\n",
        "\n",
        "<img height=\"100\" src=\"https://raw.githubusercontent.com/IEEESBITBA/Curso-python/master/_assets/SPONSOR_JPM.png\">\n",
        "<img height=\"100\" src=\"https://raw.githubusercontent.com/IEEESBITBA/Curso-python/master/_assets/SPONSOR_Flowics.png\">"
      ]
    }
  ]
}
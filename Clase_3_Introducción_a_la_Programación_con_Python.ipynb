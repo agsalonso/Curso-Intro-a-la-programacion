{
  "nbformat": 4,
  "nbformat_minor": 0,
  "metadata": {
    "colab": {
      "name": "Copy of Clase 3 - Introducción a la Programación con Python.ipynb",
      "provenance": [],
      "collapsed_sections": [],
      "include_colab_link": true
    },
    "kernelspec": {
      "name": "python3",
      "display_name": "Python 3"
    }
  },
  "cells": [
    {
      "cell_type": "markdown",
      "metadata": {
        "id": "view-in-github",
        "colab_type": "text"
      },
      "source": [
        "<a href=\"https://colab.research.google.com/github/agsalonso/Curso-Intro-a-la-programacion/blob/main/Clase_3_Introducci%C3%B3n_a_la_Programaci%C3%B3n_con_Python.ipynb\" target=\"_parent\"><img src=\"https://colab.research.google.com/assets/colab-badge.svg\" alt=\"Open In Colab\"/></a>"
      ]
    },
    {
      "cell_type": "markdown",
      "metadata": {
        "id": "nkEzeMI5_QFh"
      },
      "source": [
        "# Clase 3\n",
        "\n",
        "##Introducción \n",
        "\n",
        "En las clases anteriores aprendimos a trabajar con diferentes tipos de variables, funciones, operadores y listas.\n",
        "En esta clase nos vamos a enfocar en otras estructuras de datos, algo más complejas pero de mucha utilidad. Suele pasar que un problema díficil de resolver con cierta estructura, se vuelve mucho más simple utilizando otra distinta. Por eso es importante aprender a aplicar la herramienta correcta para cada problema, y de esa forma organizar nuestros datos y utilizarlos de la manera más práctica y eficiente.\n",
        "\n",
        "\\\n",
        "\n",
        "<img src=\"https://raw.githubusercontent.com/IEEESBITBA/Curso-Python/master/_assets/data_structures_2.png\" alt = \"Diagrama de distintas estructuras de datos\" height = 300>\n",
        "\n"
      ]
    },
    {
      "cell_type": "markdown",
      "metadata": {
        "id": "IOYwNMDr_dE3"
      },
      "source": [
        "## Tuplas\n",
        "\n",
        "Las tuplas son similares a las listas, pero a diferencia de ellas se dice que las tuplas son *inmutables*, esto quiere decir que sus elementos no pueden cambiar una vez definidos. Se pueden crear usando paréntesis de la siguiente manera:\n",
        "\n",
        "> a = **(** $ a_{0}, a_{1}, a_{2},\\dots $ **)**\n",
        "\n",
        "Los elementos de una tupla se pueden acceder usando un índice entre corchetes, y al igual que las listas admiten *slicing*.\n",
        "\n",
        "Cuando creamos una función que devuelve más de un elemento separado por comas, estamos utilizando una tupla inadvertidamente. Cuando intercambiamos 2 elementos de una lista como en los ejemplos de la clase anterior, también aparecen tuplas. Estas son las principales aplicaciones de tuplas, y para concentrarnos en las principales estructuras de datos no ahondaremos en este tema."
      ]
    },
    {
      "cell_type": "code",
      "metadata": {
        "id": "5rloEp-e3p1r",
        "colab": {
          "base_uri": "https://localhost:8080/"
        },
        "outputId": "1c10aad1-51b0-423a-9e97-5d52b25655a7"
      },
      "source": [
        "tupla = (1, 2, 3)\n",
        "print(tupla)\n",
        "print(tupla[0], tupla[1], tupla[2])\n",
        "\n",
        "# Sacando el primer numeral, la siguiente línea produce un error\n",
        "#tupla[0] = 10   # Las tuplas NO admiten la asignación por índice"
      ],
      "execution_count": null,
      "outputs": [
        {
          "output_type": "stream",
          "text": [
            "(1, 2, 3)\n",
            "1 2 3\n"
          ],
          "name": "stdout"
        }
      ]
    },
    {
      "cell_type": "code",
      "metadata": {
        "id": "ti3GG8YQG8oH",
        "colab": {
          "base_uri": "https://localhost:8080/"
        },
        "outputId": "f71b541e-0fad-476c-d70b-d7ba100b8995"
      },
      "source": [
        "def f(x):\n",
        "  return x, 2*x, 3*x\n",
        "\n",
        "print(f(10))\n",
        "\n",
        "x, y, z = f(10)\n",
        "print(x, y, z)"
      ],
      "execution_count": null,
      "outputs": [
        {
          "output_type": "stream",
          "text": [
            "(10, 20, 30)\n",
            "10 20 30\n"
          ],
          "name": "stdout"
        }
      ]
    },
    {
      "cell_type": "code",
      "metadata": {
        "id": "GwkDM3cpHBeD",
        "colab": {
          "base_uri": "https://localhost:8080/"
        },
        "outputId": "bdfe29bb-4fbd-417e-c6f7-1aa8045b2fdf"
      },
      "source": [
        "x, y, z = z, 0, x\n",
        "print(x, y, z)"
      ],
      "execution_count": null,
      "outputs": [
        {
          "output_type": "stream",
          "text": [
            "30 0 10\n"
          ],
          "name": "stdout"
        }
      ]
    },
    {
      "cell_type": "markdown",
      "metadata": {
        "id": "KhV4CUvITVmc"
      },
      "source": [
        "## Diccionarios"
      ]
    },
    {
      "cell_type": "code",
      "metadata": {
        "id": "38XhZAObASaT",
        "colab": {
          "base_uri": "https://localhost:8080/",
          "height": 471
        },
        "outputId": "03ad5ce3-7198-4416-d924-7ca877b14325"
      },
      "source": [
        "# Link a Youtube: https://youtu.be/Y8eTehVX8fg\n",
        "# Tema: Diccionarios, cómo estan construidos, operaciones y métodos.\n",
        "\n",
        "from IPython.display import YouTubeVideo\n",
        "YouTubeVideo('Y8eTehVX8fg', width=800, height=450)"
      ],
      "execution_count": null,
      "outputs": [
        {
          "output_type": "execute_result",
          "data": {
            "text/html": [
              "\n",
              "        <iframe\n",
              "            width=\"800\"\n",
              "            height=\"450\"\n",
              "            src=\"https://www.youtube.com/embed/Y8eTehVX8fg\"\n",
              "            frameborder=\"0\"\n",
              "            allowfullscreen\n",
              "        ></iframe>\n",
              "        "
            ],
            "text/plain": [
              "<IPython.lib.display.YouTubeVideo at 0x7f7959cbff10>"
            ],
            "image/jpeg": "[encoded data removed]"
          },
          "metadata": {
            "tags": []
          },
          "execution_count": 4
        }
      ]
    },
    {
      "cell_type": "markdown",
      "metadata": {
        "id": "tvZJQsblvplY"
      },
      "source": [
        "Un diccionario es otra estructura de datos muy útil y muy utilizada cotidianamente. La analogía directa que se suele hacer es con un diccionario físico. Un diccionario (en el sentido físico) contiene una gran cantidad de información organizada por palabras y contenido asociado a ellas. Más precisamente, cada una ordenadas alfabéticamente tiene asociada una información que describe en profundidad su significado. Lo que nos interesa obtener de un diccionario son las definiciones, y la palabra correspondiente es lo que nos ayuda a encontrarlas.\n",
        "\n",
        "<img src=\"https://raw.githubusercontent.com/IEEESBITBA/Curso-Python/master/_assets/pydict.png\" alt = \"Dictionary PNG\" height = 200 title=\"Diccionario\">\n",
        "\n",
        "En programación los diccionarios no son muy distintos. Un \"diccionario\" en este contexto es una estructura de datos cuya información esta organizada igual que en un diccionario físico; cada bloque de información, es decir, cada elemento, tiene asociada una palabra. La palabra que se utiliza para encontrar el bloque de información se la suele denominar **key** ó **clave**. Mediante la **clave** se puede acceder a dicha informacion, la cual se suele denominar **contenido**. El par **clave,contenido** suele llamarse **elemento**.\n",
        "\n",
        "Es muy importante notar que no pueden existir dos elementos con igual clave, estos serían indistinguibles.\n",
        "\n",
        "La clave suele ser información con tipo de dato **string** (aunque no necesariamente), mientras que el contenido puede tener cualquier tipo de dato, esto será decisión de ustedes.\n",
        "\n",
        "Los diccionarios se crean utilizando la siguiente estructura:\n",
        "\n",
        "> x = **{**  $k_{0}$ **:** $c_{0}$**,** $k_{1}$ **:** $c_{1}$, $\\dots$**}**\n",
        ">\n",
        "> Noten el \"**:**\" que divide el *key* del *contenido*, la \"**,**\" que separa cada par y que se enmarca todo entre llaves: **{ }**\n",
        "\n",
        "Comenzemos por crear un diccionario con la descripción de las palabras:"
      ]
    },
    {
      "cell_type": "code",
      "metadata": {
        "id": "x_M_vy5fUtyd",
        "colab": {
          "base_uri": "https://localhost:8080/"
        },
        "outputId": "e978a9de-1b15-4bd6-cc1c-781f826c4754"
      },
      "source": [
        "d = {\n",
        "    \"trueno\": \"Ruido muy fuerte que sigue al rayo durante una tempestad, \\\n",
        "producido por la expansión del aire al paso de la descarga eléctrica.\",\n",
        "    \"rayo\": \"Chispa eléctrica de gran intensidad producida por la descarga \\\n",
        "entre dos nubes o entre una nube y la tierra.\"\n",
        "} \n",
        "\n",
        "a = {} # Diccionario vacío\n",
        "\n",
        "print(d)\n",
        "print(a)"
      ],
      "execution_count": null,
      "outputs": [
        {
          "output_type": "stream",
          "text": [
            "{'trueno': 'Ruido muy fuerte que sigue al rayo durante una tempestad, producido por la expansión del aire al paso de la descarga eléctrica.', 'rayo': 'Chispa eléctrica de gran intensidad producida por la descarga entre dos nubes o entre una nube y la tierra.'}\n",
            "{}\n"
          ],
          "name": "stdout"
        }
      ]
    },
    {
      "cell_type": "markdown",
      "metadata": {
        "id": "L4qzUGar266U"
      },
      "source": [
        "Para acceder a los datos de un diccionario se utiliza la misma sintaxis que las listas pero en lugar de un *índice* numérico, utilizando la *clave* a la que queremos acceder."
      ]
    },
    {
      "cell_type": "code",
      "metadata": {
        "id": "X4NcAVrb3IOa",
        "colab": {
          "base_uri": "https://localhost:8080/"
        },
        "outputId": "e9ecd380-7a34-418a-b8a2-439e2722f058"
      },
      "source": [
        "d = {\n",
        "    \"trueno\": \"Ruido muy fuerte que sigue al rayo durante una tempestad, \\\n",
        "producido por la expansión del aire al paso de la descarga eléctrica.\",\n",
        "    \"rayo\": \"Chispa eléctrica de gran intensidad producida por la descarga \\\n",
        "entre dos nubes o entre una nube y la tierra.\"\n",
        "}\n",
        "\n",
        "print('rayo:')\n",
        "print(d['rayo'])"
      ],
      "execution_count": null,
      "outputs": [
        {
          "output_type": "stream",
          "text": [
            "rayo:\n",
            "Chispa eléctrica de gran intensidad producida por la descarga entre dos nubes o entre una nube y la tierra.\n"
          ],
          "name": "stdout"
        }
      ]
    },
    {
      "cell_type": "markdown",
      "metadata": {
        "id": "Abnxh6zsuJp9"
      },
      "source": [
        "Tambien podemos usar los diccionarios para acceder de forma sencilla a datos almacenados. Por ejemplo, para acceder a los estudiantes de una universidad a partir de su número de legajo, creamos una base de datos estructurada de la siguiente manera:\n",
        "\n",
        "> **clave**=Legajo **contenido**=Nombre"
      ]
    },
    {
      "cell_type": "code",
      "metadata": {
        "id": "FLfNRSbXVxOr",
        "colab": {
          "base_uri": "https://localhost:8080/"
        },
        "outputId": "36134fa5-76b8-4445-eec0-d5fb05792aba"
      },
      "source": [
        "database = {\n",
        "    50001:\"Karen Fernandez\",\n",
        "    50002:\"Matías Perez\",\n",
        "    50003:\"Julieta Gonzalez\"\n",
        "}\n",
        "print(\"Nombre completo del legajo\", 50002, \":\", database[50002])"
      ],
      "execution_count": null,
      "outputs": [
        {
          "output_type": "stream",
          "text": [
            "Nombre completo del legajo 50002 : Matías Perez\n"
          ],
          "name": "stdout"
        }
      ]
    },
    {
      "cell_type": "markdown",
      "metadata": {
        "id": "XfBwbaJi2Epw"
      },
      "source": [
        "### Operaciones con diccionarios\n",
        "- clave **in** diccionario: Nos permite saber si esa clave se encuentra en el diccionario."
      ]
    },
    {
      "cell_type": "code",
      "metadata": {
        "id": "IXfr9AU0JMMc"
      },
      "source": [
        "database = {\n",
        "    50001:\"Karen Fernandez\",\n",
        "    50002:\"Matías Perez\",\n",
        "    50003:\"Julieta Gonzalez\"\n",
        "}\n",
        "\n",
        "if 50001 in database:\n",
        "    print(\"la clave 50001 se encuentra en el diccionario\")\n",
        "\n",
        "clave = int(input())\n",
        "if clave in database:\n",
        "    print(clave, 'está en el diccionario')\n",
        "else:\n",
        "    print(clave, 'no está en el diccionario')"
      ],
      "execution_count": null,
      "outputs": []
    },
    {
      "cell_type": "markdown",
      "metadata": {
        "id": "ved0xALF2ffS"
      },
      "source": [
        "- **for** clave **in** diccionario: Nos permite iterar por todas las claves del diccionario."
      ]
    },
    {
      "cell_type": "code",
      "metadata": {
        "id": "Vrf_s_F1J7uA"
      },
      "source": [
        "database = {\n",
        "    50001:\"Karen Fernandez\",\n",
        "    50002:\"Matías Perez\",\n",
        "    50003:\"Julieta Gonzalez\"\n",
        "}\n",
        "\n",
        "for clave in database:\n",
        "    print('La clave',clave,'tiene asociado el valor',database[clave])"
      ],
      "execution_count": null,
      "outputs": []
    },
    {
      "cell_type": "markdown",
      "metadata": {
        "id": "xHAzhLywGEvB"
      },
      "source": [
        "- **.items**(): Devuelve la lista de claves y valores almacenadas en el diccionario.\n",
        "\n",
        " Ya que se obtienen 2 datos por elemento, para utilizarlo en un *for* tendremos que indicar 2 nombres de variable separados por coma. En este ejemplo la variable *k* tomará el valor de la *key* de cada elemento y la variable *c* tomará el valor de cada *contenido*."
      ]
    },
    {
      "cell_type": "code",
      "metadata": {
        "id": "e58nY61-J_0D"
      },
      "source": [
        "database = {\n",
        "    50001:\"Karen Fernandez\",\n",
        "    50002:\"Matías Perez\",\n",
        "    50003:\"Julieta Gonzalez\"\n",
        "}\n",
        "\n",
        "# Pueden quitar el comentario de la siguiente línea y ver qué imprime\n",
        "# print(database.items())\n",
        "\n",
        "for k,c in database.items():\n",
        "    print(\"key:\", k,\" content: \",c)\n",
        "\n",
        "# Otra forma\n",
        "\n",
        "for item in database.items():\n",
        "    print(\"key:\", item[0],\" content: \",item[1])"
      ],
      "execution_count": null,
      "outputs": []
    },
    {
      "cell_type": "markdown",
      "metadata": {
        "id": "pr-mdzVqTKYH"
      },
      "source": [
        "\n",
        "\n",
        "* diccionario**[** clave **]** = valor: Agrega un nuevo elemento a un diccionario. Si ya existía un valor asociado a esta clave, será reemplazado por el nuevo valor.\n"
      ]
    },
    {
      "cell_type": "code",
      "metadata": {
        "id": "s0k9_NjxbGFm"
      },
      "source": [
        "x = {\n",
        "    'año':2021,\n",
        "    'mes':12\n",
        "}\n",
        "\n",
        "x['dia'] = 24\n",
        "print(x)\n",
        "\n",
        "x['mes'] = 'Diciembre'\n",
        "x['horas'] = 23\n",
        "x['minutos'] = 59\n",
        "print(x)"
      ],
      "execution_count": null,
      "outputs": []
    },
    {
      "cell_type": "markdown",
      "metadata": {
        "id": "62HlAxaNqWo9"
      },
      "source": [
        "- **.get**( clave, valor_por_defecto ): Devuelve el valor asociado a la clave. Si la clave *no* se encuentra el diccionario, devuelve el valor por defecto indicado. Esto es útil cuando no sabemos si una clave existe o no."
      ]
    },
    {
      "cell_type": "code",
      "metadata": {
        "id": "q7NW97Hbq7AC"
      },
      "source": [
        "texto = \"lorem ipsum dolor sit amet, consectetur adipiscing elit, sed eiusmod \\\n",
        "tempor incidunt ut labore et dolore magna aliqua. Ut enim ad minim veniam, \\\n",
        "quis nostrud exercitation ullamco laboris nisi ut aliquid ex ea commodi \\\n",
        "consequat. Quis aute iure reprehenderit in voluptate velit esse cillum dolore \\\n",
        "eu fugiat nulla pariatur. Excepteur sint obcaecat cupiditat non proident, sunt \\\n",
        "in culpa qui officia deserunt mollit anim id est laborum.\"\n",
        "\n",
        "ocurrencias = {}\n",
        "for letra in texto:\n",
        "  if letra.isalpha(): # Solo importan letras, no comas, puntos, espacios, etc.\n",
        "    letra = letra.upper() # No nos importa si es minúscula o mayúscula\n",
        "    # Suma 1 a las ocurrencias de 'letra', o inicializa el elemento\n",
        "    ocurrencias[letra] = ocurrencias.get(letra, 0) + 1\n",
        "\n",
        "# De esta forma averiguamos la cantidad de ocurrencias de cada letra.\n",
        "for k,c in ocurrencias.items():\n",
        "    print(\"La letra\", k, \"aparece\", c, \"vez/veces\")"
      ],
      "execution_count": null,
      "outputs": []
    },
    {
      "cell_type": "markdown",
      "metadata": {
        "id": "eK4Lm4w9WHfk"
      },
      "source": [
        "#### **Mini-desafío:** Diccionarios\n",
        "1. Realizar un programa que pida al usuario un número de legajo y el nombre completo, luego lo guarde en un diccionario. En caso de que el número de legajo ya se encuentre en el diccionario, se debe mostrar un mensaje de advertencia.\n",
        "\n",
        " Usar dos celdas de código, en una crear el diccionario, y en la otra agregar el nombre y legajo y mostrar el contenido total. La idea es que cuando se ejecute varias veces la segunda celda se agrege un nuevo nombre y legajo a lo que ya había sido almacenado en el diccionario."
      ]
    },
    {
      "cell_type": "code",
      "metadata": {
        "id": "2dcL9YmnWfbv"
      },
      "source": [
        "# Celda 1\n",
        "# Ejecutar esta celda 1 vez para crear el diccionario vacío\n",
        "dic = {}\n",
        "print(dic)"
      ],
      "execution_count": null,
      "outputs": []
    },
    {
      "cell_type": "code",
      "metadata": {
        "id": "6aiGms-8_9T3"
      },
      "source": [
        "# Celda 2\n",
        "# Ejecutar esta celda cada vez que se quiera agregar un elemento\n",
        "\n"
      ],
      "execution_count": null,
      "outputs": []
    },
    {
      "cell_type": "markdown",
      "metadata": {
        "id": "Sq39M0wdq85l"
      },
      "source": [
        "2. Realizar un programa que decodifique [código morse](https://es.wikipedia.org/wiki/C%C3%B3digo_morse). El usuario debe ingresar una palabra en código morse, usando una secuencia de puntos, guiones y espacios como la siguiente:\n",
        "\n",
        "  ```.--. .-. --- --. .-. .- -- .- -.-. .. --- -.```\n",
        "  \n",
        "  Luego separando por espacios, cada letra debe ser convertida de morse a una letra del alfabeto, y por último la traducción se muestra en pantalla como un *string*. Para lo cual, les proponemos definir un *diccionario* que ayude a realizar la traducción. Es importante considerar qué dato será la clave, y cuál el contenido, de forma en que les sea más útil para lograr el objetivo.\n",
        "\n",
        "  **Tips:** Revisar los métodos `.split()` y `.join()` para convertir entre strings y listas."
      ]
    },
    {
      "cell_type": "code",
      "metadata": {
        "id": "4PppgdUsstps"
      },
      "source": [
        "# Parte 2\n"
      ],
      "execution_count": null,
      "outputs": []
    },
    {
      "cell_type": "markdown",
      "metadata": {
        "id": "EbcY0DGr9mwE"
      },
      "source": [
        "### Nota final\n",
        "Es importante ver que un diccionario tiene un cierto orden al igual que las listas, por otro lado también aceptan contenidos repetidos y todo marchará correctamente siempre que tengan distintas claves. Uno de los dilemas más comunes cuando se trabaja con grandes volúmenes de información es qué tomar como clave.\n",
        "\n",
        "En la próxima sección veremos un tipo de datos que ya no organizará la información de manera tal que exista un orden establecido; en algunos casos es provechoso que la información se estructure de manera tal que no exista un orden en los elementos."
      ]
    },
    {
      "cell_type": "markdown",
      "metadata": {
        "id": "otim_uNIDYcm"
      },
      "source": [
        "## Sets\n"
      ]
    },
    {
      "cell_type": "code",
      "metadata": {
        "id": "y3om5XDFAXHr"
      },
      "source": [
        "# Link a Youtube: https://youtu.be/EAyOH2EwI3w\n",
        "# Tema: Sets, cómo estan construidos, operaciones y métodos.\n",
        "\n",
        "from IPython.display import YouTubeVideo\n",
        "YouTubeVideo('EAyOH2EwI3w', width=800, height=450)"
      ],
      "execution_count": null,
      "outputs": []
    },
    {
      "cell_type": "markdown",
      "metadata": {
        "id": "uSUbyYQRAaF9"
      },
      "source": [
        "Un **set** es una estructura de datos más avanzada que las anteriores, la cual nos permite almacenar un grupo de elementos cuyo orden no es relevante. Lo único que tiene importancia cuando utilizamos un **set** es qué elemento está y qué elemento no. \n",
        "\n",
        "<img src=\"https://files.realpython.com/media/t.8b7abb515ae8.png\" height = 200 alt = \"Representación de Set usando diagrama Venn\" title= \"A&B\">\n",
        "\n",
        "\n",
        "Un **set** no admite repetidos, ya que por su funcionamiento interno no tiene la capacidad de determinar cuando un elemento se encuentra más de una vez, tan solo puede saber qué elementos están y qué elementos no.\n",
        "A primera vista parecería entonces que un **set** es muy limitado, ya que no está ordenado y no acepta repetidos, no obstante este es muy práctico para algunos tipos de operaciones, las cuales serían muy tediosas de  programar en listas o diccionarios.\n",
        "\n",
        "Para crear un **set** se utilizan llaves **{ }** y se colocan elementos separados por comas, su sintaxis es similar a la de las listas.\n"
      ]
    },
    {
      "cell_type": "code",
      "metadata": {
        "id": "pGzhs39jEhPl"
      },
      "source": [
        "x = {1, 2, 3, 4, 7, 7, 7, 7, 7, 7}   # Los sets no admiten elementos repetidos\n",
        "print(\"Set x =\", x)"
      ],
      "execution_count": null,
      "outputs": []
    },
    {
      "cell_type": "markdown",
      "metadata": {
        "id": "vwXNR2eLMEHH"
      },
      "source": [
        "### Operaciones con sets\n",
        "- **|** : Es la operacion de $A \\cup B$ llamada \"*unión*\"."
      ]
    },
    {
      "cell_type": "code",
      "metadata": {
        "id": "yUtHifyMgoYc"
      },
      "source": [
        "x = {1, 2, 3, 4, 7, 7, 7, 7, 7, 7}\n",
        "y = {1, 2, 10}\n",
        "z = {15, 20}\n",
        "\n",
        "k = x | y | z\n",
        "print(k)"
      ],
      "execution_count": null,
      "outputs": []
    },
    {
      "cell_type": "markdown",
      "metadata": {
        "id": "d51LnJdhMgxr"
      },
      "source": [
        "\n",
        "-  **&**: Es la operacion de $A \\cap B$ llamada \"*intersección*\"."
      ]
    },
    {
      "cell_type": "code",
      "metadata": {
        "id": "7pXUUZBMMunZ"
      },
      "source": [
        "x = {1, 2, 3, 4, 7, 7, 7, 7, 7, 7}\n",
        "y = {1, 2, 10}\n",
        "w = x & y\n",
        "print(w)"
      ],
      "execution_count": null,
      "outputs": []
    },
    {
      "cell_type": "markdown",
      "metadata": {
        "id": "i-jBKc8rQz2I"
      },
      "source": [
        "- **A-B**: todo elemento de A que también se encuentre en B, será quitado de A. El equivalente logico es $ A\\cap \\neg B$."
      ]
    },
    {
      "cell_type": "code",
      "metadata": {
        "id": "Y-ERvaLKRFbS"
      },
      "source": [
        "x = {1, 2, 3, 4, 7, 7, 7, 7, 7, 7}\n",
        "y = {1, 2, 10}\n",
        "z = x - y\n",
        "print(z)\n",
        "print(y - x)"
      ],
      "execution_count": null,
      "outputs": []
    },
    {
      "cell_type": "markdown",
      "metadata": {
        "id": "bD9Y4BIeQOY2"
      },
      "source": [
        "- **.remove**($valor$): Remueve el valor del set."
      ]
    },
    {
      "cell_type": "code",
      "metadata": {
        "id": "tLd3WIpxGT-o"
      },
      "source": [
        "x = {1, 2, 3, 4, 7}\n",
        "x.remove(1)\n",
        "print(x)"
      ],
      "execution_count": null,
      "outputs": []
    },
    {
      "cell_type": "markdown",
      "metadata": {
        "id": "B7B3zozkQZKe"
      },
      "source": [
        "- **.add**($valor$): Agrega el valor al set."
      ]
    },
    {
      "cell_type": "code",
      "metadata": {
        "id": "04Qm70ySHlEn"
      },
      "source": [
        "x = {1, 2, 3, 4, 7}\n",
        "x.add(\"hola\")\n",
        "print(x)"
      ],
      "execution_count": null,
      "outputs": []
    },
    {
      "cell_type": "markdown",
      "metadata": {
        "id": "4AaFXPmnpH6L"
      },
      "source": [
        "- **len**($set$) Obtiene el tamaño de un set."
      ]
    },
    {
      "cell_type": "code",
      "metadata": {
        "id": "Z2xvvwqXpTRo"
      },
      "source": [
        "conjunto = {1, 2, 1, 3, 1, 6}\n",
        "print(conjunto)\n",
        "print(len(conjunto))"
      ],
      "execution_count": null,
      "outputs": []
    },
    {
      "cell_type": "markdown",
      "metadata": {
        "id": "4A8OGnlZpIfl"
      },
      "source": [
        "- **.issubset**($set$): Analiza si un set está contenido dentro de otro."
      ]
    },
    {
      "cell_type": "code",
      "metadata": {
        "id": "VqmY6KFbpQSG"
      },
      "source": [
        "x = {1, 2, 3, 4, 5, 6, 7, 8, 9}\n",
        "y = {8, 9, 10}\n",
        "z = {4, 8}\n",
        "\n",
        "\n",
        "print(z.issubset(x))\n",
        "print(y.issubset(x))"
      ],
      "execution_count": null,
      "outputs": []
    },
    {
      "cell_type": "markdown",
      "metadata": {
        "id": "GTYqk43YWl_3"
      },
      "source": [
        "#### **Mini-desafío:** Sets\n",
        "1. Se cuentan con varios sets que contienen las personas que les gusta un cierto sabor de helado:\n",
        "\n",
        "  ```python\n",
        "vainilla = { \"Juan\", \"Marina\", \"Tomas\", \"Paula\" }\n",
        "chocolate = { \"Pedro\", \"Paula\", \"Marina\" }\n",
        "dulceDeLeche = { \"Juan\", \"Julian\", \"Pedro\", \"Marina\" }\n",
        "```\n",
        "\n",
        "  Responder usando operaciones de sets:\n",
        "\n",
        "  - ¿Hay alguna persona que le gusten todos los gustos?\n",
        "\n",
        "  - ¿Hay alguna persona que le gusten la vainilla y no el dulce de leche?\n",
        "\n",
        "  - ¿Cuántas personas distintas tenemos?\n",
        "\n",
        "\n",
        "2. Diseñar un programa que analiza si una frase es un [pangrama](https://es.wikipedia.org/wiki/Pangrama) del idioma inglés, es decir, que contiene todas las letras del alfabeto al menos 1 vez. El programa debe ser capaz de ignorar espacios y signos de puntuación. Por ejemplo:\n",
        "```python\n",
        "frase = \"the quick brown fox jumps over the lazy dog\"\n",
        "```\n",
        "  El siguiente set puede serles de utilidad:\n",
        "  ```python\n",
        "  letras = set(\"abcdefghijklmnopqrstuwxyz\")\n",
        "  ```"
      ]
    },
    {
      "cell_type": "code",
      "metadata": {
        "id": "HAqgd_poAZN2"
      },
      "source": [
        "# Parte 1\n"
      ],
      "execution_count": null,
      "outputs": []
    },
    {
      "cell_type": "code",
      "metadata": {
        "id": "W7zlnSVjoWiZ"
      },
      "source": [
        "# Parte 2\n"
      ],
      "execution_count": null,
      "outputs": []
    },
    {
      "cell_type": "markdown",
      "metadata": {
        "id": "Z9i5-cpq2Cxg"
      },
      "source": [
        "## Librerías\n",
        "\n",
        "Como último tópico del curso hablaremos del uso de librerías y mostraremos diversos ejemplos, no para aprender de memoria, sino para que conozcan estas herramientas y puedan aprender a utilizar nuevas librerías en el futuro para sus necesidades particulares.\n"
      ]
    },
    {
      "cell_type": "code",
      "metadata": {
        "id": "ZUCgY1J6GIoI"
      },
      "source": [
        "# Link a Youtube: https://youtu.be/frIIOnzvdHs\n",
        "#Tema: Librerías: concepto, instalación, importación y ejemplos. \n",
        "\n",
        "from IPython.display import YouTubeVideo\n",
        "YouTubeVideo('frIIOnzvdHs', width=800, height=450)       #Video Librerías"
      ],
      "execution_count": null,
      "outputs": []
    },
    {
      "cell_type": "markdown",
      "metadata": {
        "id": "GstwH_NNGHGv"
      },
      "source": [
        "Una *librería* o *biblioteca* es un conjunto de funciones implementadas por otro programador que nos facilitan realizar tareas, principalmente porque no debemos volver a programar este código. \n",
        "\n",
        "<img src=\"http://www.goalexandria.com/wp-content/uploads/2016/02/alt-lib.png\" width=200px>\n",
        "\n",
        "*¿Como usamos una librería?* Primero debemos importarla:\n",
        "\n",
        "> **import** (nombre de la libreria) **as** (nombre abreviado)\n",
        "\n",
        "Las librerías muchas veces están separadas en distintos módulos. Podríamos decir que la librería es como un estante de libros, y en cada libro se encuentran las funciones de un tema en común, incluso un \"libro\" podría estar subdividido en \"capítulos\". Es decir, los distintos módulos de una librería podrían llegar a estar subdivididos en módulos, y cada módulo podría estar nuevamente subdividido.\n",
        "\n",
        "Si no queremos importar la librería completa, podemos importar sólo un módulo de esta forma:\n",
        "\n",
        "> **from** (nombre de la libreria) **import** (nombre de un módulo) **as** (nombre abreviado)\n",
        "\n",
        "También se puede usar un punto para acceder a un módulo, de esta forma:\n",
        "\n",
        "> **import** (nombre de la libreria)**.**(nombre de un módulo) **as** (nombre abreviado)\n",
        "\n",
        "Una vez importada la librería, podremos utilizar las funciones definidas en ella. Para poder ejecutar una función que se encuentra en una librería necesitamos especificarlo usando un punto entre el nombre de la librería y la función. La sintaxis es la siguiente:\n",
        "\n",
        "> (nombre de la libreria)**.**función*(argumentos)*\n",
        "\n",
        "En el caso de importar una librería que se encuentre dividida en módulos, debemos especificar el módulo correspondiente a la función nuevamente con un punto:\n",
        "\n",
        "> (nombre de la libreria)**.**(nombre del módulo)**.**función*(argumentos)*\n",
        "\n",
        "\n",
        "**Notas:**\n",
        "- No es obligatorio especificar un nombre abreviado con **as**, puede utilizarse una librería con su nombre original omitiendo este comando.\n",
        "- No sólo pueden importarse módulos de una librería, sino también funciones sueltas, según lo que necesiten. Siempre tengan cuidado de que los nombres de función sean únicos, si importan una función directamente entonces no podrán definir su propia función con el mismo nombre.\n",
        "- Es una buena práctica que todas las librerías se importen al principio del programa, o sea que las instrucciones de **import** se encuentren arriba de todo."
      ]
    },
    {
      "cell_type": "code",
      "metadata": {
        "id": "iOSDofLD22T4"
      },
      "source": [
        "import math  # Importamos la libreria math\n",
        "\n",
        "print('El seno de 0 es ',math.sin(0),'y el coseno',math.cos(0))"
      ],
      "execution_count": null,
      "outputs": []
    },
    {
      "cell_type": "code",
      "metadata": {
        "id": "NPtBY8VO24B4"
      },
      "source": [
        "from math import sin,cos  # Importamos directamente las funciones que usaremos (separadas por comas)\n",
        "\n",
        "print('El seno de 0 es ',sin(0),'y el coseno',cos(0))"
      ],
      "execution_count": null,
      "outputs": []
    },
    {
      "cell_type": "code",
      "metadata": {
        "id": "PGlMjexW25cw"
      },
      "source": [
        "import math as m  # Importamos la libreria math abreviada como m\n",
        "\n",
        "print('El seno de 0 es ',m.sin(0),'y el coseno',m.cos(0))"
      ],
      "execution_count": null,
      "outputs": []
    },
    {
      "cell_type": "code",
      "metadata": {
        "id": "pvT2S9nJ26rY"
      },
      "source": [
        "# En este caso usamos el módulo 'path' de la librería 'os' y lo apodamos 'pth'\n",
        "from os import path as pth\n",
        "\n",
        "print(pth.join('Carpeta','Archivo.rar'))"
      ],
      "execution_count": null,
      "outputs": []
    },
    {
      "cell_type": "markdown",
      "metadata": {
        "id": "ye6V-CbH4Cu5"
      },
      "source": [
        "Algunas librerías muy conocidas y utilizadas son:\n",
        "\n",
        "\n",
        "*   [numpy](https://numpy.org/) (Cálculo matricial)\n",
        "*   [pandas](https://pandas.pydata.org/) (Lectura de bases de datos)\n",
        "*   [maplotlib](https://matplotlib.org/) (Gráficos)\n",
        "*   [tkinter](https://docs.python.org/3/library/tk.html) (Interfaces gráficas)\n",
        "*   [Qt](https://www.qt.io/qt-for-python) (Interfaces gráficas)\n",
        "*   [scipy](https://www.scipy.org/) (Ciencia de datos)\n",
        "*   [scikit-learn](https://scikit-learn.org) (Machine Learning)\n",
        "*   [TensorFlow](https://www.tensorflow.org/) (Machine Learning avanzado)\n",
        "\n",
        "En IEEE-ITBA ofrecemos un curso más avanzado a continuación de este curso introductorio, en donde se utiliza **Pandas** para analizar archivos de información estructurada, como lo es el formato de hojas de datos de **Excel**, y **Matplotlib** para realizar gráficos y visualizaciones de esta información. Pueden enterarse de novedades respecto a todos nuestros eventos a través de nuestra cuenta de [Instagram](https://www.instagram.com/ieee.itba/).\n",
        "\n",
        "\n",
        "A continuación les ofrecemos un conjunto de ejemplos con diversas librerías. Por supuesto que para cada una de ellas existen muchas más cosas al respecto, pero esperamos que les ayude a tener una mejor idea del tipo de herramientas que existen, y que se animen a buscar nuevas librerías que solucionen sus problemas específicos. Algunas de estas librerías ya vienen incluídas con la instalación de Python mientras que otras deben ser instaladas de forma independiente. En [este link](https://docs.python.org/3/library/) pueden investigar acerca de todas las librerías estándar que trae Python.\n",
        "\n",
        "Si cierta librería no se encuentra instalada en el sistema entonces el comando *import* para esa librería no funcionará. Usando la herramienta **pip** se pueden instalar librerías nuevas, en este caso de ejemplo ejecutar el siguiente bloque de código instala las librerías *numpy* y *pandas* en el entorno de Google Colab."
      ]
    },
    {
      "cell_type": "code",
      "metadata": {
        "id": "zpZURrzGJGBE"
      },
      "source": [
        "! pip install numpy\n",
        "! pip install scipy"
      ],
      "execution_count": null,
      "outputs": []
    },
    {
      "cell_type": "markdown",
      "metadata": {
        "id": "2vUBryEyLeYj"
      },
      "source": [
        "#### [copy](https://docs.python.org/3/library/copy.html)\n",
        "\n",
        "* *Copiado en profundidad de estructuras de datos*"
      ]
    },
    {
      "cell_type": "markdown",
      "metadata": {
        "id": "SR_11oErIofk"
      },
      "source": [
        "Por defecto Python NO copia estructuras de datos, para ahorrar memoria:"
      ]
    },
    {
      "cell_type": "code",
      "metadata": {
        "id": "G7nwn3RoLpsi"
      },
      "source": [
        "A = [1, 2, 3]\n",
        "B = A\n",
        "B += [4, 5, 6]\n",
        "\n",
        "# No modificamos directamente A, sin embargo su valor cambió\n",
        "# En este caso, 'B' es un nombre alternativo de 'A', no es una copia\n",
        "print(A)\n",
        "print(B)"
      ],
      "execution_count": null,
      "outputs": []
    },
    {
      "cell_type": "markdown",
      "metadata": {
        "id": "jAcp-izYItSs"
      },
      "source": [
        "Usando el método **.copy()** realizamos una copia real:"
      ]
    },
    {
      "cell_type": "code",
      "metadata": {
        "id": "M5elhdB9MHRo"
      },
      "source": [
        "A = [1, 2, 3]\n",
        "B = A.copy()\n",
        "B += [4, 5, 6]\n",
        "\n",
        "print(A)\n",
        "print(B)"
      ],
      "execution_count": null,
      "outputs": []
    },
    {
      "cell_type": "markdown",
      "metadata": {
        "id": "RQHPs_nDIzyw"
      },
      "source": [
        "Usando sólo **.copy()** no alcanza para que se copien las estructuras internas. Esto se llama una copia *superficial*, solamente la capa \"externa\" es la que se copia."
      ]
    },
    {
      "cell_type": "code",
      "metadata": {
        "id": "KqkfQVUpMYHH"
      },
      "source": [
        "A = [[1,2,3], [4,5,6], [7,8,9]]\n",
        "B = A.copy()\n",
        "B[0][0] = 999\n",
        "B += [10, 11, 12]\n",
        "\n",
        "print(A)\n",
        "print(B)"
      ],
      "execution_count": null,
      "outputs": []
    },
    {
      "cell_type": "markdown",
      "metadata": {
        "id": "DmaHq9wnKcKn"
      },
      "source": [
        "Con **copy.deepcopy()** realizamos una copia real *en profundidad* tal como queremos:"
      ]
    },
    {
      "cell_type": "code",
      "metadata": {
        "id": "8nYqyG2LM8PL"
      },
      "source": [
        "import copy\n",
        "\n",
        "A = [[1, 2, 3], [4, 5, 6], [7, 8, 9]]\n",
        "B = copy.deepcopy(A)\n",
        "B[0][0] = 999\n",
        "B += [10, 11, 12]\n",
        "\n",
        "# La lista A se mantiene intacta\n",
        "print(A)\n",
        "print(B)"
      ],
      "execution_count": null,
      "outputs": []
    },
    {
      "cell_type": "markdown",
      "metadata": {
        "id": "7ALMENyDOUuN"
      },
      "source": [
        "#### [random](https://docs.python.org/3/library/random.html)\n",
        "\n",
        "* *Generación aleatoria de números*"
      ]
    },
    {
      "cell_type": "code",
      "metadata": {
        "id": "h3NXC4unOcBu"
      },
      "source": [
        "import random\n",
        "\n",
        "# Elige entre elementos de una lista\n",
        "opciones = ['Manzanas', 'Bananas', 'Naranjas']\n",
        "print( random.choice(opciones) )\n",
        "\n",
        "# Número entero entre 10 y 20\n",
        "print( random.randint( 10, 20 ) )\n",
        "\n",
        "# Número real que pertenece al intervalo [0, 1)\n",
        "print( random.random() )\n",
        "\n",
        "# Número real con distribución gaussiana de media 0 y desvío estándar 1\n",
        "print( random.gauss(0, 1) )"
      ],
      "execution_count": null,
      "outputs": []
    },
    {
      "cell_type": "markdown",
      "metadata": {
        "id": "9TaGnqTJKhTJ"
      },
      "source": [
        "#### [time](https://docs.python.org/3/library/time.html)\n",
        "\n",
        "* *Funciones relacionadas al manejo del tiempo*"
      ]
    },
    {
      "cell_type": "code",
      "metadata": {
        "id": "BGEu_UzwKv2M"
      },
      "source": [
        "import time\n",
        "\n",
        "print(1)\n",
        "time.sleep(1)\n",
        "print(2)\n",
        "time.sleep(1)\n",
        "print(3)\n",
        "time.sleep(1)\n",
        "print(4)\n",
        "time.sleep(1)\n",
        "print(5)\n",
        "time.sleep(1)\n",
        "print('Adiós!')"
      ],
      "execution_count": null,
      "outputs": []
    },
    {
      "cell_type": "markdown",
      "metadata": {
        "id": "sqEI3Do1Ip-D"
      },
      "source": [
        "#### [datetime](https://docs.python.org/3/library/datetime.html)\n",
        "\n",
        "* *Manipulación de fechas y horarios*"
      ]
    },
    {
      "cell_type": "code",
      "metadata": {
        "id": "3Tc-QRTdIfzt"
      },
      "source": [
        "from datetime import datetime, timedelta\n",
        "\n",
        "now = datetime.now()\n",
        "print(now)\n",
        "print(now.time())\n",
        "\n",
        "new_time = datetime(2010, 2, 6, 10, 8, 20, 0)\n",
        "print(new_time)\n",
        "new_time += timedelta(days=31, hours=1)\n",
        "print(new_time)"
      ],
      "execution_count": null,
      "outputs": []
    },
    {
      "cell_type": "markdown",
      "metadata": {
        "id": "DkdIHBiiPWUd"
      },
      "source": [
        "#### [csv](https://docs.python.org/3/library/csv.html)\n",
        "\n",
        "* *Manipulación de archivos CSV*"
      ]
    },
    {
      "cell_type": "code",
      "metadata": {
        "id": "8TYxjS27HHEl"
      },
      "source": [
        "! wget \"https://raw.githubusercontent.com/IEEESBITBA/Curso-Python/master/Curso_Introductorio_Datos/datos.csv\""
      ],
      "execution_count": null,
      "outputs": []
    },
    {
      "cell_type": "code",
      "metadata": {
        "id": "Y1xaulcfPWUf"
      },
      "source": [
        "import csv\n",
        "\n",
        "csvfile = open('datos.csv')\n",
        "lector = csv.reader(csvfile)\n",
        "for fila in lector:\n",
        "  print(fila)"
      ],
      "execution_count": null,
      "outputs": []
    },
    {
      "cell_type": "markdown",
      "metadata": {
        "id": "_vOsYmofHtiY"
      },
      "source": [
        "#### [NumPy](https://numpy.org/)\n",
        "* *Cálculo algebraico*\n",
        "\n",
        "NumPy permite crear vectores y matrices multidimensionales, junto con una gran colección de funciones matemáticas de alto nivel para operar con ellos de forma muy eficiente."
      ]
    },
    {
      "cell_type": "code",
      "metadata": {
        "id": "qYNa9QwtGm2d"
      },
      "source": [
        "import numpy as np\n",
        "\n",
        "A = np.array(([1, 2, 3], [4, 5, 6]))\n",
        "B = np.array(([1, 2], [4, 5], [7, 8]))\n",
        "C = np.dot(A, B)\n",
        "\n",
        "print('A =')\n",
        "print(A)\n",
        "print()\n",
        "print('B =')\n",
        "print(B)\n",
        "print()\n",
        "print('A.B =')\n",
        "print(C)"
      ],
      "execution_count": null,
      "outputs": []
    },
    {
      "cell_type": "markdown",
      "metadata": {
        "id": "oAahKWT9fnbl"
      },
      "source": [
        "#### [Matplotlib](https://matplotlib.org)\n",
        "* *Visualización de datos*\n",
        "\n",
        "Matplotlib permite representar datos de forma gráfica y cuenta con una gran cantidad de tipos y formatos de gráficos para utilizar. Permite crear visualizaciones estáticas, animadas ó interactivas."
      ]
    },
    {
      "cell_type": "code",
      "metadata": {
        "id": "Sw-DP4kEgKMi"
      },
      "source": [
        "# Ejemplo provisto por matplotlib para darse una idea del uso de esta herramienta\n",
        "# No es necesario entender cómo funciona\n",
        "\n",
        "import matplotlib\n",
        "import numpy as np\n",
        "import matplotlib.pyplot as plt\n",
        "\n",
        "# example data\n",
        "mu = 100  # mean of distribution\n",
        "sigma = 15  # standard deviation of distribution\n",
        "x = mu + sigma * np.random.randn(437)\n",
        "\n",
        "num_bins = 50\n",
        "\n",
        "fig, ax = plt.subplots(figsize=(10, 5))\n",
        "\n",
        "# the histogram of the data\n",
        "n, bins, patches = ax.hist(x, num_bins, density=True)\n",
        "\n",
        "# add a 'best fit' line\n",
        "y = ((1 / (np.sqrt(2 * np.pi) * sigma)) *\n",
        "     np.exp(-0.5 * (1 / sigma * (bins - mu))**2))\n",
        "ax.plot(bins, y, 'r--')\n",
        "ax.set_xlabel('Value')\n",
        "ax.set_ylabel('Probability density')\n",
        "ax.set_title(r'Histogram of random samples: $\\mu=100$, $\\sigma=15$')\n",
        "\n",
        "# Tweak spacing to prevent clipping of ylabel\n",
        "fig.tight_layout()\n",
        "plt.show()"
      ],
      "execution_count": null,
      "outputs": []
    },
    {
      "cell_type": "markdown",
      "metadata": {
        "id": "0Ic-7evOJVTs"
      },
      "source": [
        "## Para seguir aprendiendo...\n",
        "\n",
        "Como contenido extra, sólo para aquellos interesados en seguir investigando contenido relacionado, incluímos 2 Anexos al final de la clase que se relacionan con el formato *JSON*.\n",
        "\n",
        "Además, al final de la clase podrán encontrar a modo de anexo, fragmentos de transmisiones en vivo de años anteriores que podrían ser de su interés.\n",
        "\n",
        "La lectura de los Anexos es **100% opcional** y NO es un requisito para continuar con el curso."
      ]
    },
    {
      "cell_type": "markdown",
      "metadata": {
        "id": "x8YrnGI8Lf7t"
      },
      "source": [
        "# **¿Cómo seguir después del curso?**\n",
        "\n",
        "En este curso introductorio aprendimos las bases del lenguaje Python y de a poco comenzamos a realizar aplicaciones prácticas. En IEEE-ITBA ofrecemos un curso más avanzado en el cual se explica en profundidad la manipulación de archivos de hojas de datos (Excel) y la visualización de datos mediante Matplotlib, nuestro objetivo es que puedan aprender lo suficiente para crear aplicaciones simples pero de gran utilidad, esperamos que sientan que ya son programadores de Python y que puedan terminar el curso con buenas primeras experiencias, y ganas de realizar proyectos ambiciosos. No está de más recordar que en este mundo el conocimiento no lo es todo, se aprende sobre la marcha y no hay que temer a emprender proyectos que utilicen herramientas novedosas las cuales hasta ahora nunca utilizaron. Si lograron terminar este curso es que supieron adaptarse a nuevos desafíos y no hay razón por la cual no puedan enfrentarse a lo que se propongan.\n",
        "\n",
        "Ya que el universo de cosas para aprender es infinito, y que este curso es introductorio, nos parece oportuno comentar algunas de las cosas que le puede interesar a todo aquel que quiera seguir especializándose en este lenguaje en el futuro:\n",
        "\n",
        "- Clases y Programación Orientada a Objetos:\n",
        " - [A Byte of Python](https://python.swaroopch.com/oop.html)\n",
        " - [RealPython](https://realpython.com/python3-object-oriented-programming/)\n",
        " - [Docs Python](https://docs.python.org/3/tutorial/classes.html)\n",
        " - [Video de Matías Bergerman](https://youtu.be/ZB9brIzJU7c)\n",
        "- Excepciones: instrucciones `try`, `except`, `finally`, `with`:\n",
        " - [A Byte Of Python](https://python.swaroopch.com/exceptions.html)\n",
        " - [RealPython](https://realpython.com/python-exceptions/)\n",
        " - [Docs Python](https://docs.python.org/3/tutorial/errors.html)\n",
        "- Funciones Lambda:\n",
        " - [RealPython](https://realpython.com/python-lambda/)\n",
        " - [W3Schools](https://www.w3schools.com/python/python_lambda.asp)\n",
        " - [Video de Matías Bergerman](https://youtu.be/4jy4ADH_7i0)\n",
        "\n",
        "\\\n",
        "\n",
        "## Propuestas de proyectos\n",
        "En el [último capítulo](https://python.swaroopch.com/what_next.html) del libro A Byte of Python se ofrecen muchos recursos que pueden resultarles muy interesantes: propuestas de proyectos, videos para ver, consejos, tutoriales, recursos para creación de páginas web e interfaces gráficas, y algunas cosas más.\n",
        "\n",
        "Hacer un proyecto de cierta complejidad definitivamente será un desafío, les proponemos intentar dividir su proyecto en partes, sub-tareas, y resolver cada problema por separado antes de unir todas las partes. También es muy recomendable buscar información e investigar acerca de los temas que no conocen, además de pedir ayuda o preguntar en foros cuando lo necesitan, ¡nadie programa solo!\n",
        "\n",
        "Les proponemos a continuación algunas otras ideas de proyectos que se nos ocurrieron por si alguno les llama la atención, que podrían hacer con los conocimientos adquiridos en el curso e investigando algunas herramientas nuevas:\n",
        "\n",
        "- **Pomodoro Timer**\n",
        "\n",
        "  El objetivo del proyecto es crear una aplicación para utilizar la [técnica pomodoro](https://es.wikipedia.org/wiki/T%C3%A9cnica_Pomodoro) de administración de tiempo. El programa debe poder cronometrar bloques de 25 minutos de concentración intercalados con 5 minutos de descanso, si desean estos tiempos podrían ser customizables. Adicionalmente, podrían hacer una interfaz gráfica para la aplicación. Una alternativa para esto es la librería [tkinter](https://docs.python.org/3/library/tkinter.html), para comenzar a usarla les recomendamos empezar por un tutorial como el de [RealPython](https://realpython.com/python-gui-tkinter/).\n",
        "\n",
        "- **Web Scrapping**\n",
        "\n",
        "  El objetivo del proyecto es obtener información de una página en forma sistemática, especialmente cuando esta página no provee una forma fácil de obtener los datos en forma escalable. Por ejemplo, se pueden analizar los precios/reviews/preguntas de cientos de miles de productos en una página de e-commerce en forma automática con Python. Para esto les recomendamos investigar acerca de la librería [Selenium](https://selenium-python.readthedocs.io/) y seguir un tutorial la primera vez que la usan.\n",
        "\n",
        "- **Cálculo del factor de transmisión del coronavirus**\n",
        "\n",
        "  El objetivo es automáticamente descargar los datos actualizados de casos de coronavirus diarios en el país (usando por ejemplo `wget`), abrir el archivo con la librería `csv` o alguna similar, y calcular parámetros de interés como el factor de transmisión R, o la tasa de duplicación de casos. Pueden usar una página como [Our World In Data](https://covid.ourworldindata.org/data/owid-covid-data.csv) para obtener la información.\n",
        "\n",
        "- **Bot de Instagram**\n",
        "\n",
        "  La idea del proyecto es automatizar actividades realizadas en instagram mediante una aplicación de Python. Para esto les recomendamos investigar la librería [InstaPy](https://instapy.org/), también hay una introducción interesante a la librería hecha por [RealPython](https://realpython.com/instagram-bot-python-instapy/).\n",
        "\n",
        "- **Filtro de imágenes personalizado**\n",
        "\n",
        "  Utilizar una librería de manipulación de imágenes para aplicar un filtro especial a las imagenes indicadas, o todas las imagenes dentro de cierta carpeta. Les sugerimos investigar acerca de la librería [Pillow](https://python-pillow.org/). El filtro podría ser un difuminado, blanco y negro, agregar un watermark o ser tan sofisticado como quieran. También podrían darle la opción al usuario de elegir el filtro que quiere aplicar dentro de un listado.\n"
      ]
    },
    {
      "cell_type": "markdown",
      "metadata": {
        "id": "ndPQ2y6zwcnX"
      },
      "source": [
        "# **Casos de aplicación**\n",
        "\n",
        "Como conclusión, les mostramos a continuación algunos ejemplos de aplicación de **Python** realizados por miembros del equipo organizador por si les llegan a interesar:\n",
        "\n",
        "### **Resolución de EDOs - Ejercicio de Reactores I**\n",
        "*Ariel Nowik, Joaquin Mestanza, Tomas Wierzba*\n",
        "\n",
        "Resolvemos una ecuación diferencial de una materia de Química mediante un script de Python en lugar de la manera \"tradicional\" con un excel. Muchas veces utilizar un script es más práctico y versátil ya que se puede integrar con otras funcionalidades del lenguaje.\n",
        "\n",
        "([Código aqui](https://github.com/jmestanza/ideas/tree/master/QuimicaEdos)) \n",
        "\n",
        "\n",
        "### **Web scrapper - página web del itba**\n",
        "*Ariel Nowik*\n",
        "\n",
        "Un scrapper es un script capaz de extraer información y escribir información en una página web (es un bot). Este código de python analiza la página del itba para conseguir información de las distintas materias de forma automática.\n",
        "\n",
        "([Código aqui](https://github.com/elgrandt/CalificaProfesores-Utils/blob/master/scrapping/itba.py))\n",
        "\n",
        "### **CalcuPy**\n",
        "*Matías Bergerman*\n",
        "\n",
        "Una simple calculadora por consola programada en Python. Implementa clases y una [estructura de árbol](https://es.wikipedia.org/wiki/%C3%81rbol_(inform%C3%A1tica)) para representar expresiones matemáticas.\n",
        "\n",
        "([Código aqui](https://github.com/mbergerman/CalcuPy/blob/main/calcu.py))\n",
        "\n",
        "### **Book Selector**\n",
        "*Ignacio Vidaurreta*\n",
        "\n",
        "Este script elige un libro al azar para que el usuario lea uno nuevo.\n",
        "\n",
        "([Código aqui](https://github.com/ignacioVidaurreta/bookSelector))\n",
        "\n",
        "### **Piedra papel o tijera**\n",
        "*Ignacio Vidaurreta*\n",
        "\n",
        "Este script es un juego (por consola) de piedra papel o tijera.\n",
        "\n",
        "([Código aqui](https://github.com/ignacioVidaurreta/rockPaperScissors/blob/master/rps.py))\n",
        "\n",
        "### **Método de los Elementos Finitos**\n",
        "*Patricio Whittingslow*\n",
        "\n",
        "Calcula deformaciones para una estructura reticulada con cargas.\n",
        "\n",
        "([Código aqui](https://colab.research.google.com/drive/12ZVTs7eIwoIAS_IIi68O-YoDzCfQ629u)).\n",
        "\n",
        "### **Herramienta para graficar funciones de transferencia**\n",
        "*Matías Bergerman, Pedro Carranza Vélez, Pablo González*\n",
        "\n",
        "Interfaz gráfica hecha con Qt para comparar curvas de transferencia medidas, simuladas y calculadas de forma teórica.\n",
        "\n",
        "([Código aqui](https://github.com/pabgonzalez/Plot_Tool))\n",
        "\n"
      ]
    },
    {
      "cell_type": "markdown",
      "metadata": {
        "id": "otG1TaD9e47z"
      },
      "source": [
        "# $\\color{\\green}\\blacktriangleright$ Desafío a Entregar: Las Elecciones\n",
        "\n",
        "*Los desafíos se entregan mediante [esta página](https://www.hackerrank.com/2021-2c-curso-introductorio-de-python) de HackerRank. Pueden ver un instructivo acerca del uso de la plataforma en [este link](https://youtu.be/pqYSwABnS_k).*\n",
        "\n",
        "Realizar un programa en el cual se decida el ganador de unas **elecciones**.\n",
        "\n",
        "El programa primero recibe un número $N$, la cantidad de votos totales que se realizaron. Luego recibe $N$ votos en formato string, cada uno consiste en el nombre del candidato seleccionado. El programa debe calcular el ganador e imprimir su nombre, para este ejemplo se asume que no hay empates. Los nombres y la cantidad de candidatos es desconocida.\n",
        "\n",
        "**Ejemplo:**\n",
        "\n",
        "- *Input:*\n",
        "\n",
        " ```python\n",
        "12\n",
        "Mickey\n",
        "Donald\n",
        "Mickey\n",
        "Minnie\n",
        "Mickey\n",
        "Goofy\n",
        "Daisy\n",
        "Goofy\n",
        "Goofy\n",
        "Minnie\n",
        "Goofy\n",
        "Donald\n",
        "```\n",
        "\n",
        "- *Output:*\n",
        "\n",
        " ```\n",
        " Goofy\n",
        " ```\n",
        " El resultado es Goofy ya que este recibe 4 votos, la cual es la mayor cantidad de votos.\n"
      ]
    },
    {
      "cell_type": "code",
      "metadata": {
        "id": "11PwsBwNlqNA",
        "colab": {
          "base_uri": "https://localhost:8080/"
        },
        "outputId": "7dfc1355-ad4f-42d0-fd06-2a1370a405bc"
      },
      "source": [
        "n=int(input(\"Cantidad de votos: \"))\n",
        "dic={}\n",
        "\n",
        "for i in range(n):\n",
        "  voto=str(input(\"Voto?: \"))\n",
        "\n",
        "  if voto in dic:\n",
        "    dic[voto] += 1\n",
        "  else:\n",
        "    dic[voto] = 1\n",
        "\n",
        "max_key = max(dic, key=dic.get)\n",
        "c=0\n",
        "\n",
        "for i in dic:\n",
        "  if dic[i]==dic.get(max_key, 0): c+=1\n",
        "\n",
        "if c==1: print(max_key)\n",
        "\n",
        "\n"
      ],
      "execution_count": null,
      "outputs": [
        {
          "output_type": "stream",
          "text": [
            "Cantidad de votos: 5\n",
            "Voto?: a\n",
            "Voto?: b\n",
            "Voto?: c\n",
            "Voto?: a\n",
            "Voto?: a\n",
            "{'a': 3, 'b': 1, 'c': 1}\n",
            "a\n"
          ],
          "name": "stdout"
        }
      ]
    },
    {
      "cell_type": "markdown",
      "metadata": {
        "id": "J2FkAJt9-h5D"
      },
      "source": [
        "# Ejercitación integradora $\\newcommand{\\dif}{\\bigstar}$$\\newcommand{\\facil}{\\color{\\green}{\\dif}}$ $\\newcommand{\\pieceofcake}{\\color{\\cyan}{\\dif}}$$\\newcommand{\\medio}{\\color{\\yellow}{\\dif\\dif}}$$\\newcommand{\\media}{\\medio}$$\\newcommand{\\normal}{\\medio}$  $\\newcommand{\\dificil}{\\color{\\orange}{\\dif\\dif\\dif}}$ $\\newcommand{\\imposible}{\\color{\\red}{\\dif\\dif\\dif\\dif}}$\n",
        "$\\newcommand{\\tarc}{\\large\\frown}$\n",
        "$\\newcommand{\\arc}[1]{\\stackrel{\\tarc}{#1}}$\n",
        "<head>\n",
        "<style type=\"text/css\">\n",
        "  .img{ \n",
        "    display: block;\n",
        "    margin-left:auto;\n",
        "    margin-right:auto;\n",
        "  }\n",
        "  </style>\n",
        "  </head>\n",
        "\n",
        "A continuación les proponemos resolver algunos ejercicios integradores, este contenido servirá para poder practicar lo aprendido y de a poco acercarse a lo que podría ser una aplicación real. No se preocupen si no llegan a terminar todos, o si les cuestan más que los desafíos de la clase, es cuestión de tomarse el tiempo de leer, pensar, y probar diferentes ideas hasta que encuentren una posible solución al problema.\n",
        "\n",
        "Luego de una semana les enviaremos una copia de las soluciones que se nos ocurrieron a nosotros para resolver estos problemas y poder comparar en caso de que lo deseen."
      ]
    },
    {
      "cell_type": "markdown",
      "metadata": {
        "id": "Rvlf1T7MNTjo"
      },
      "source": [
        "### $\\facil$ El ABC de Python\n",
        "\n",
        "*Aclaración: Este desafío es inventado, es posible que haya errores fácticos en cuanto a los alfabetos reales.*\n",
        "\n",
        "Encontramos una piedra antigua en una plaza de Buenos Aires cuyas inscripciones nos ayudan a decifrar nuevos alfabetos. Gracias a estas inscripciones descubrimos que las letras del [alfabeto latino arcaico](https://es.wikipedia.org/wiki/Alfabeto_latino#Alfabeto_latino_arcaico) tienen una correspondencia con el [alfabeto latino](https://es.wikipedia.org/wiki/Alfabeto_latino) y vamos a crear un programa que nos ayude a traducir palabras de un alfabeto a otro.\n",
        "\n",
        "Crear una función que recibe un *string*, transforma todos los caracteres del *alfabeto latino arcaico*  en caracteres modernos, no modifica el resto de los caracteres (signos de puntuacion, espacios, letras, números, etc.) y devuelve el resultado con *return*.\n",
        "\n",
        "**Ejemplos:**\n",
        "\n",
        "`traducir( \"𐌀𐌋𐌅𐌀𐌁𐌄𐌕𐌏\" )` → `\"ALFABETO\"`\n",
        "\n",
        "`traducir( \"¡𐌐𐌄𐌓𐌃𐌉!\" )` → `\"¡PERDI!\"`\n",
        "\n",
        "`traducir( \"¿𐌔𐌉 𐌏 𐌍𐌏? 𐌌𐌌𐌌... 𐌔𐌉.\" )` → `\"¿SI O NO? MMM... SI.\"`\n",
        "\n",
        "**Correspondencia entre alfabetos:**\n",
        "```python\n",
        "Arcaico : Moderno\n",
        "'𐌀' : 'A',\n",
        "'𐌁' : 'B',\n",
        "'𐌂' : 'C',\n",
        "'𐌃' : 'D',\n",
        "'𐌄' : 'E',\n",
        "'𐌅' : 'F',\n",
        "'𐌆' : 'Z',\n",
        "'𐌇' : 'H',\n",
        "'𐌉' : 'I',\n",
        "'𐌊' : 'K',\n",
        "'𐌋' : 'L',\n",
        "'𐌌' : 'M',\n",
        "'𐌍' : 'N',\n",
        "'𐌏' : 'O',\n",
        "'𐌐' : 'P',\n",
        "'𐌒' : 'Q',\n",
        "'𐌓' : 'R',\n",
        "'𐌔' : 'S',\n",
        "'𐌕' : 'T',\n",
        "'𐌖' : 'V',\n",
        "'𐌗' : 'X'\n",
        "```\n",
        "\n"
      ]
    },
    {
      "cell_type": "code",
      "metadata": {
        "id": "KyqzDnT4e_U2"
      },
      "source": [
        ""
      ],
      "execution_count": null,
      "outputs": []
    },
    {
      "cell_type": "markdown",
      "metadata": {
        "id": "0_lEQuB-fIH4"
      },
      "source": [
        "###$\\facil$ Análisis estadístico de fallas en lotes de producción II\n",
        "\n",
        "Adaptar la solución al ejercicio integrador de la clase pasada para utilizar librerías en lugar de programar todo de forma manual. Pueden usar la librería **csv** para importar el archivo, y las librerías **numpy** o **scipy** para calcular la media, varianza, moda y mediana.\n",
        "\n",
        "**Tip:** Pueden investigar el uso de estos métodos en la documentación de las librerías:\n",
        "\n",
        "* Media: [numpy.mean](https://numpy.org/doc/stable/reference/generated/numpy.mean.html)\n",
        "* Varianza: [numpy.var](https://numpy.org/doc/stable/reference/generated/numpy.var.html)\n",
        "* Moda: [scipy.stats.mode](https://docs.scipy.org/doc/scipy/reference/generated/scipy.stats.mode.html)\n",
        "* Mediana: [numpy.median](https://numpy.org/doc/stable/reference/generated/numpy.median.html)"
      ]
    },
    {
      "cell_type": "markdown",
      "metadata": {
        "id": "XpuHDVjCXkR2"
      },
      "source": [
        "A continuación pueden ver una copia de la consigna:\n",
        "\n",
        "Una planta de producción de botellas plásticas fabrica 1000 lotes de botellas por día. Debido al proceso de fabricación algunas de las botellas salen falladas, estos fallos son detectados automáticamente durante el proceso de control de calidad y se cargan en una base de datos que registra la cantidad de productos fallados que fueron detectados por cada lote. El departamento de control de calidad sospecha que la cantidad de fallos por lote sigue una distribución de *Poisson*, pero todavía no conocen la media y la varianza.\n",
        "\n",
        "Se pide importar los datos de los últimos 30 días (en total son 30000 datos) y calcular la *media*, la *varianza*, la *moda* y la *mediana* de la distribución de datos medidos. Los datos se encuentran en el archivo *ControlCalidadBotellas.csv* bajo la columna *Fallas*.\n",
        "\n",
        "**Definiciones:**\n",
        "- **Media:** El valor promedio:\n",
        "\n",
        "  $\\mu=\\frac{X_1+X_2+X_3+\\cdots+X_n}{n}$\n",
        "\n",
        "- **Varianza:** El promedio de las distancias al cuadrado entre cada valor y la media:\n",
        "\n",
        "  $\\sigma^2=\\frac{(X_1-\\mu)^2+(X_2-\\mu)^2+\\cdots+(X_n-\\mu)^2}{n}$\n",
        "\n",
        "- **Moda:** El valor que ocurre con mayor frecuencia.\n",
        "\n",
        "- **Mediana:** El valor que cumple la propiedad que la mitad de las veces el valor medido es menor a la mediana y la otra mitad de las veces es mayor.\n",
        "\n",
        "Si las sospechas acerca de la distribución fueran correctas, entonces de acuerdo a las propiedades de la distribución de Poisson la media y la varianza deberían ser iguales, además la moda sería $\\lceil{\\mu}\\rceil-1$\n",
        "¿Esta sospecha les parece acertada?"
      ]
    },
    {
      "cell_type": "code",
      "metadata": {
        "id": "H8YZTOZuS8Vg"
      },
      "source": [
        "! wget \"https://raw.githubusercontent.com/IEEESBITBA/Curso-Python/master/Curso_Introductorio_Datos/ControlCalidadBotellas.csv\""
      ],
      "execution_count": null,
      "outputs": []
    },
    {
      "cell_type": "code",
      "metadata": {
        "id": "pRyMUpUMcSWa"
      },
      "source": [
        "# Instalar las librerías en el entorno de Colab\n",
        "! pip install numpy\n",
        "! pip install scipy"
      ],
      "execution_count": null,
      "outputs": []
    },
    {
      "cell_type": "code",
      "metadata": {
        "id": "IJ1WFX5zqvHN"
      },
      "source": [
        "import csv\n",
        "import numpy\n",
        "from scipy import stats"
      ],
      "execution_count": null,
      "outputs": []
    },
    {
      "cell_type": "markdown",
      "metadata": {
        "id": "VWdCPrBJxITk"
      },
      "source": [
        "### $\\facil$ Diccionario²\n",
        "Se recibieron distintos postulantes para un empleo de traductor. Crear un **diccionario** en el cual la *clave* de cada elemento sea el nombre de un candidato y el *contenido* sea un **diccionario** de los idiomas que aprendió. Para armar el diccionario de idiomas de cada candidato, los elementos deben tener como *clave* el nombre del idioma y como *contenido* el valor True o False para los siguientes idiomas: Español, Inglés, Chino, Frances, Italiano.\n",
        "\n",
        "Ejemplo del **diccionario** de idiomas:\n",
        "\n",
        "```python\n",
        "{\"Español\":True, \"Inglés\":True, \"Chino\":False, \"Frances\":False, \"Italiano\":True}\n",
        "```\n",
        "\n",
        "Inventar valores para 5 candidatos.\n",
        "\n",
        "El usuario luego debe poder ingresar el nombre de un idioma y el programa deberá mostrar en pantalla el nombre de aquellos candidatos que aprendieron ese idioma."
      ]
    },
    {
      "cell_type": "code",
      "metadata": {
        "id": "XkTbUn75ABOV"
      },
      "source": [
        ""
      ],
      "execution_count": null,
      "outputs": []
    },
    {
      "cell_type": "markdown",
      "metadata": {
        "id": "0CqTiYpZG-AO"
      },
      "source": [
        "###$\\normal$  Une y triunfarás (continuación de Diccionario²)\n",
        "Se recibieron distintos postulantes para un empleo de traductor. Crear un **diccionario** en el cuál la *key* de cada elemento sea el nombre de un candidato y el *contenido* sea un **set** con los idiomas que aprendió.\n",
        "Inventar valores para 5 candidatos.\n",
        "\n",
        "Ejemplo del **set** de idiomas:\n",
        "\n",
        "```python\n",
        "{\"Español\", \"Inglés\", \"Portugués\", \"Italiano\"}\n",
        "```\n",
        "\n",
        "- Mostrar en pantalla los idiomas que todos los candidatos aprendieron.\n",
        "- Mostrar en pantalla todos los candidatos que aprendieron por lo menos Español e Inglés.\n"
      ]
    },
    {
      "cell_type": "code",
      "metadata": {
        "id": "TKyvJXLZBO1O"
      },
      "source": [
        ""
      ],
      "execution_count": null,
      "outputs": []
    },
    {
      "cell_type": "markdown",
      "metadata": {
        "id": "Z8gmZrau0b4E"
      },
      "source": [
        "### $\\medio$ Análisis de idiomas\n",
        "\n",
        "Importar el archivo **noticia.txt**"
      ]
    },
    {
      "cell_type": "code",
      "metadata": {
        "id": "OVOe9jNU6IQO"
      },
      "source": [
        "! wget \"https://raw.githubusercontent.com/IEEESBITBA/Curso-Python/master/Curso_Introductorio_Datos/noticia.txt\""
      ],
      "execution_count": null,
      "outputs": []
    },
    {
      "cell_type": "markdown",
      "metadata": {
        "id": "upKG43LX0dCt"
      },
      "source": [
        "Calcular la [frecuencia de aparición de letras](https://es.wikipedia.org/wiki/Frecuencia_de_aparici%C3%B3n_de_letras). Compararla con la frecuencia de letras característica del idioma Español (en el articulo de wikipedia pueden encontrarla). ¿Existe alguna relación?\n",
        "\n",
        "**Tips:**\n",
        "- Pasar todas las letras a mayúsculas o todas a  minúsculas.\n",
        "- Reemplazar las vocales con tilde por la misma vocal sin tilde antes de realizar el conteo.\n",
        "- Descartar los números y caracteres no deseados. El método `.isalpha()` les puede ser de utilidad para este propósito."
      ]
    },
    {
      "cell_type": "code",
      "metadata": {
        "id": "OGzlyKkI6Nz3"
      },
      "source": [
        ""
      ],
      "execution_count": null,
      "outputs": []
    },
    {
      "cell_type": "markdown",
      "metadata": {
        "id": "WQK4B7zHjucS"
      },
      "source": [
        "### $\\dificil$ Menta y Dulce de leche\n",
        "\n",
        "**Introducción:**\n",
        "\n",
        "*Una de las muchas ventajas de los sets y los diccionarios es que permiten averiguar si contienen cierto elemento con gran velocidad, sin importar la cantidad de elementos que almacenan (esto se debe a que internamente utilizan una [función hash](https://es.wikipedia.org/wiki/Funci%C3%B3n_hash)). Acceder al valor asociado a cierta clave en un diccionario también es una operación muy veloz.*\n",
        "\n",
        "*En comparación, verificar si un elemento se encuentra dentro de una lista es lento, ya que el tiempo necesario es proporcional a la cantidad de elementos en la lista y para listas muy grandes con miles, millones o billones de elementos (como puede suceder en una base de datos) esto puede ser un problema importante. Sin embargo, una vez que se conoce el índice del elemento, acceder al elemento es una operación tan rápida como en un diccionario.*\n",
        "\n",
        "**Problema:**\n",
        "\n",
        "Volviendo de hacer las compras en el supermercado, pasas cerca de una heladería y decidís comprar helado para tus hermanos, los cuales son amantes de la menta granizada y del dulce de leche con nuez. El negocio ofrece helado en todo tipo de formato, desde mini-cucuruchos hasta potes de 1 kilo, y cada formato cuesta cierta cantidad de dinero. Decidís gastar exactamente todo el dinero que te queda luego de haber ido al supermercado, de forma tal que no sobre ni falte.\n",
        "\n",
        "Programar una función que recibe una lista con los precios de los distintos formatos en que se vende el helado, y además reciba la cantidad de dinero disponible para gastar. La función debe encontrar la manera de comprar cierto formato de helado sabor menta, y cierto formato sabor dulce de leche, de manera de gastar la totalidad del dinero disponible. En consecuencia, la cantidad de formatos seleccionados debe ser exactamente 2. Está permitido seleccionar el mismo formato para ambos sabores de helado. La función debe devolver con *return* una lista de 2 elementos, los cuales serán los precios de los formatos de helado seleccionados. En caso de no existir una combinación que satisface los requisitos se debe devolver ``[-1, -1]``.\n",
        "\n",
        "**Tips:**\n",
        " - Al usar un set o un diccionario como estructura de datos pueden mejorar la velocidad con la que el programa analiza si cierto elemento se encuentra dentro de los datos. La operación ``mi_set = set( mi_lista )`` puede serles de utilidad para este propósito.\n",
        "\n",
        "**Ejemplos:**\n",
        "\n",
        "`buscar_precios( [1, 2, 3, 4, 5] , 8)` → `[3, 5]`\n",
        "\n",
        "`buscar_precios( [7, 4, 2, 6, 7, 7] , 4)` → `[2, 2]`\n",
        "\n",
        "`buscar_precios( [4, 3, 7, 5] , 5)` → `[-1, -1]`\n",
        "\n",
        "\\\n",
        "\n",
        "$\\dificil$ *Challenge*: Modificar la función para que el resultado sea un sólo número: La cantidad de maneras diferentes de conseguir el objetivo (si dos formatos tienen el mismo precio, igualmente califican como formatos diferentes)."
      ]
    },
    {
      "cell_type": "code",
      "metadata": {
        "id": "02-i3GF6BBE1"
      },
      "source": [
        ""
      ],
      "execution_count": null,
      "outputs": []
    },
    {
      "cell_type": "markdown",
      "metadata": {
        "id": "58bbfFzqurNj"
      },
      "source": [
        "### $\\dificil$ Dr. Chaos, el malevolo semiótico\n",
        "\n",
        "\"Chaos es caos en inglés\" te diría Dr. Chaos, charlando con una taza de té Chai en la mano. En verdad no es tán malo como su nombre lo hace aparentar... si es que tenés un buen manejo de los idiomas.\n",
        "\n",
        "Dr. Chaos esta armando un diccionario. Este diccionario tiene la particularidad de no tener definiciones; el diccionario de Dr. Chaos define *una palabra como otra*. Dr. Chaos quiere comenzar a traducir la literatura de todo el mundo usando el diccionario y ha venido a ti, el *Number One* programador de Python. \n",
        "\n",
        "**Objetivo:** Cambiar las palabras de una oración usando el diccionario de Dr. Chaos e imprimir la nueva oración en el lenguaje unificado.\n",
        "\n",
        "**Ejemplos:**\n",
        "\n",
        " - Input 1:\n",
        " ```python \n",
        "diccionario = {\"hola\":\"你好\",\"como\":\"how\",\"estás\":\"estáis\"}\n",
        "oracion = \"hola, como estás?\"\n",
        "```\n",
        "  Output 1:\n",
        "```python \n",
        "\"你好, how estáis?\"\n",
        "```\n",
        "\n",
        " - Input 2:\n",
        " ```python \n",
        "diccionario = {\"ve\":\"regards\",\"bien\":\"bom\",\"se\":\"it\"}\n",
        "oracion = \"se ve bien!\"\n",
        "```\n",
        "\n",
        " Output 2:\n",
        "```python \n",
        "\"it regards bom!\"\n",
        "```\n",
        "\n",
        "\n",
        "**Tips:** \n",
        "\n",
        "* Los símbolos de interrogación, exclamación, los puntos y comas no forman parte de las palabras y no se deben modificar.\n",
        " \n",
        "* Suponer que las letras son todas minúsculas.\n"
      ]
    },
    {
      "cell_type": "code",
      "metadata": {
        "id": "bgmyeQt9BUM0"
      },
      "source": [
        ""
      ],
      "execution_count": null,
      "outputs": []
    },
    {
      "cell_type": "markdown",
      "metadata": {
        "id": "2a0QjbS3QrlX"
      },
      "source": [
        "###$\\imposible$ Quiero Retruco\n",
        "El [Truco](https://es.wikipedia.org/wiki/Truco_argentino) es un juego de cartas muy popular en Argentina. Se suele jugar con naipes españoles de 40 cartas, las cuales tienen 4 palos (basto, oro, espada y copa) y 10 números (1, 2, 3, 4, 5, 6, 7, 10, 11 y 12).\n",
        "Si bien en esta ocasión no vamos a programar un juego de truco, sí vamos a resolver uno de los problemas más usuales que surgen cuando jugamos, el cual es definir qué carta gana y qué carta pierde cuando hay un duelo entre dos cartas. \n",
        "\n",
        "<img src=\"https://raw.githubusercontent.com/IEEESBITBA/Curso-Python/master/_assets/truco_jerarquia.png\" height=300 alt =\"Esquema de hierarquia de cartas para el juego truco argentino\" title=\"Un palo le gana a 7 espadas y ambos pierden ante una espada envainada? What?\">\n",
        "\n",
        "En la imagen podemos observar el orden de importancia de las cartas de izquierda a derecha. El 1 de espada es la más importante (y por lo tanto **siempre** gana) mientras que los 4s son las cartas de menor importancia (casi siempre pierden). Las cartas en la misma columna empatan si se enfrentan.\n",
        "\n",
        "- Programar una función con dos inputs tipo string **carta A** y **carta B** que retorne la carta ganadora (tipo string), o \"empate\" en caso de que lo haya. Ejemplos de como debería funcionar\n",
        "\n",
        " ```\n",
        "   dueloDeCartas(\"1 de espada\", \"1 de basto\")\n",
        "   >>> 1 de espada\n",
        "   dueloDeCartas(\"7 de oro\", \"5 de oro\")\n",
        "   >>> 7 de oro\n",
        "   dueloDeCartas(\"11 de copa\", \"11 de espada\")\n",
        "   >>> empate\n",
        "```\n",
        "\n",
        " **Pista** (el texto a continuación es de color blanco, seleccionar para poder verlo): <font color=\"white\"> Usar un diccionario donde la **clave** sea el nombre de la carta, y su **contenido** su importancia (un tipo **int**). Aprovechen la instrucción *for* para evitar tener que cargar todas las cartas una por una.\n",
        "</font>\n",
        "\n",
        "- A veces se suele jugar al truco con más de dos jugadores. Podría ocurrir duelos en los que participan $n$ cartas. Programar una función cuyo input sea una lista de strings con todas las cartas y retorne la ganadora. (En caso de empate que retorne alguna de las ganadoras, o una lista con las ganadoras).\n",
        "Ejemplos de como podría funcionar:\n",
        "```\n",
        "   dueloDeCartas([\"7 de basto\",\"7 de espada\",\"12 de espada\", \"4 de espada\"])\n",
        "   >>> \"7 de espada\"\n",
        "   dueloDeCartas([\"4 de espada\",\"7 de basto\",\"7 de copa\", \"5 de copa\"]) #también podría haber dado 7 de basto \n",
        "   >>> \"7 de copa\"\n",
        "```"
      ]
    },
    {
      "cell_type": "code",
      "metadata": {
        "id": "CaOibID-Bx_M"
      },
      "source": [
        ""
      ],
      "execution_count": null,
      "outputs": []
    },
    {
      "cell_type": "markdown",
      "metadata": {
        "id": "nAnJeVXQKstS"
      },
      "source": [
        "# Anexo A: JSON\n",
        "La lectura de los Anexos es **100% opcional** y NO es un requisito para continuar con el curso."
      ]
    },
    {
      "cell_type": "markdown",
      "metadata": {
        "id": "5TaNz7sq6_Th"
      },
      "source": [
        "*JSON* es un formato de representación de información estructurada que es de gran utilidad. Su sintaxis es simple y fácil de leer a simple vista, además de que tiene una gran similitud con la sintaxis propia de Python. En la [página web](https://www.json.org/json-es.html) de *JSON* hay explicaciones bastante claras acerca de los detalles de su sintaxis.\n",
        "\n",
        "En *JSON* los objetos se rodean con llaves `{objeto}`, las listas con corchetes `[lista]` y los strings con comillas dobles `\"string\"`. Por el momento se puede pensar que un objeto es igual a un diccionario de Python, pudiendo almacenar datos con claves, por ejemplo:\n",
        "\n",
        "```json\n",
        "{  \n",
        "  \"columna_1\": [1, 8, 4, 6, 2, 8, 5],\n",
        "  \"columna_2\": [99, 56, 223, 301, 56, 2],\n",
        "  \"columna_2\": [0, -1, -66, -210, -333, 334]\n",
        "}\n",
        "```\n",
        "\n",
        "El texto de arriba es código de Python _válido_ y un objeto json! Si quisieramos cargarlo a nuestro código Python bastaría con copiarlo y pegarlo a nuestro código. Pero no siempre vamos a estar nosotros para copiar y pegar el texto json. \n",
        "\n",
        "En el caso presentado a continuación se tiene un string de código json y precisamos [leerlo y procesarlo](https://www.w3schools.com/python/python_json.asp). Para eso usamos el modulo `json` de Python. A continuación se muestra un ejemplo:"
      ]
    },
    {
      "cell_type": "code",
      "metadata": {
        "id": "4zkx4E3FGvol"
      },
      "source": [
        "import json\n",
        "s = '{ \"a\" : [1, 2, 3], \"b\" : [4, 6, 8], \"c\":[99, 98, 97] }'\n",
        "d= json.loads(s)\n",
        "print(d[\"a\"])\n",
        "print(len(d[\"b\"]))\n",
        "print(sum(d[\"c\"]))"
      ],
      "execution_count": null,
      "outputs": []
    },
    {
      "cell_type": "markdown",
      "metadata": {
        "id": "QMi42SOUH_Hp"
      },
      "source": [
        "Verán que se imprimen la lista `\"a\"`, la longitud de la lista `\"b\"` y la suma de los elementos de la lista `\"c\"`.\n",
        "\n",
        "Vamos a utilizar en el próximo desafío **opcional** la librería `json` para leer el texto que nos llega por `input()`, lo cual podría ocurrir si estamos comunicándonos con un servidor."
      ]
    },
    {
      "cell_type": "markdown",
      "metadata": {
        "id": "JmqpWNphG0To"
      },
      "source": [
        "### **Opcional**: Mini-desafío json\n",
        "Estás encargado de un servidor con millones de usuarios. \n",
        "\n",
        "Se pide escribir un programa que reciba el email y contraseña del usuario y se fije si existe el usuario y si coincide la contraseña.\n",
        "\n",
        "Se tienen datos encolumnados en formato json que nos llegan en el siguiente formato:\n",
        "```json\n",
        "{\n",
        "\t\"usuarios\" : [\"mica@mail.co\", \"jerry@gma.com\",\"alber@soup.co\"],\n",
        "\t\"contra\" : [\"abc123\", \"caballitos\", \"yoloswag\"]\n",
        "}\n",
        "```\n",
        "La entrada del programa son tres líneas, el programa entonces va tener tres `input()`. La primer línea contiene el `json`, la segunda el `email` a verificar, y la tercera la `contraseña`. Por ende, las primeras líneas de su programa podrían ser:\n",
        "```python\n",
        "import json\n",
        "usuarios = json.loads(input())\n",
        "email = input()\n",
        "password = input()\n",
        "```\n",
        "\n",
        "La salida del programa será `OK` si el usuario **se encuentra en la base de datos** ***y*** **si coincide la contraseña**, imprimimos `DNE` (does not exist) si el usuario no existe y `NO` en cualquier otro caso.\n",
        "\n",
        "#### Caso ejemplo\n",
        "**Entrada**:\n",
        "```json\n",
        "{\"usuarios\": [\"mica@mail.co\",\"jerry@gma.com\",\"alber@soup.co\"],\"contra\": [\"abc123\",\"caballitos\",\"yoloswag\"]}\n",
        "mica@mail.co\n",
        "caballitos\n",
        "```\n",
        "El usuario existe y la contraseña también... pero no le corresponde la contraseña `caballitos` al usuario `mica@mail.co` (la contraseña de `mica@mail.co` sería `abc123`) por ende imprimimos:\n",
        "\n",
        "**Salida**\n",
        "```\n",
        "NO\n",
        "```\n",
        "\n",
        "_Considere que no hay usuarios repetidos_."
      ]
    },
    {
      "cell_type": "code",
      "metadata": {
        "id": "mE1_kS-HCB7d"
      },
      "source": [
        ""
      ],
      "execution_count": null,
      "outputs": []
    },
    {
      "cell_type": "markdown",
      "metadata": {
        "id": "ZzwH4JZkKm5N"
      },
      "source": [
        "# Anexo B: API's\n",
        "La lectura de los Anexos es **100% opcional** y NO es un requisito para continuar con el curso."
      ]
    },
    {
      "cell_type": "markdown",
      "metadata": {
        "id": "MD7B9lqk7C9p"
      },
      "source": [
        "En este curso, uno de los objetivos es poder automatizar tareas comunes. Ya empezamos a ver cómo podemos interactuar con archivos de datos desde nuestro programa en Python, pero esto puede no ser suficiente. Es usual tener que interactuar con una aplicación desde nuestro programa, por ejemplo, nuestro programa podría querer acceder a una página web, o al servidor de nuestra empresa. \n",
        "\n",
        "Para lograr la interacción entre una aplicación y nuestro programa se utilizan API's (Application Programming Interface), las cuales permiten estandarizar el formato de la información que se intercambia. Para lograr esta comunicación una de las herramientas más comunes es el uso de archivos *JSON* ya que de manera simple y concisa pueden representar estructuras de datos relativamente complejas. \n",
        "\n",
        "No todas las aplicaciones tendrán API's ya que depende de su creador programar esta interfaz o no, además, no todas las API's proveen el acceso a todos los datos deseados por lo cual es posible que haya que recurrir a otros métodos menos elegantes para obtener la información deseada.\n",
        "\n",
        "[Este video](https://youtu.be/BxV14h0kFs0) hecho por Tom Scott puede ayudar para comprender un poco más acerca de qué se tratan las API's.\n",
        "\n",
        "Para mostrar un ejemplo práctico del uso de API's, utilizamos uno de los códigos de ejemplo en la documentación de la API de YouTube que pueden ver en [este link](https://developers.google.com/youtube/reporting/v1/code_samples/python?hl=es#retrieve_daily_channel_statistics). Las aplicaciones de Google (Maps, Youtube, etc.) suelen tener API's relativamente buenas y completas. En este caso el ejemplo obtiene ciertas estadísticas del [Canal de YouTube de IEEE-ITBA](https://www.youtube.com/channel/UCpWHvOSiPtDIwIw8Tb_9g6A/featured) entre los días 1 y 13 del mes de octubre 2020. Los resultados **reales** de este programa se muestran a continuación tal cual como fueron enviados por la API de YouTube y recibidos por nuestro programa en Python:\n",
        "\n",
        "```json\n",
        "{\n",
        "    \"columnHeaders\": [\n",
        "        {\n",
        "            \"columnType\": \"DIMENSION\",\n",
        "            \"dataType\": \"STRING\",\n",
        "            \"name\": \"day\"\n",
        "        },\n",
        "        {\n",
        "            \"columnType\": \"METRIC\",\n",
        "            \"dataType\": \"INTEGER\",\n",
        "            \"name\": \"estimatedMinutesWatched\"\n",
        "        },\n",
        "        {\n",
        "            \"columnType\": \"METRIC\",\n",
        "            \"dataType\": \"INTEGER\",\n",
        "            \"name\": \"views\"\n",
        "        },\n",
        "        {\n",
        "            \"columnType\": \"METRIC\",\n",
        "            \"dataType\": \"INTEGER\",\n",
        "            \"name\": \"likes\"\n",
        "        },\n",
        "        {\n",
        "            \"columnType\": \"METRIC\",\n",
        "            \"dataType\": \"INTEGER\",\n",
        "            \"name\": \"subscribersGained\"\n",
        "        }\n",
        "    ],\n",
        "    \"kind\": \"youtubeAnalytics#resultTable\",\n",
        "    \"rows\": [\n",
        "        [\n",
        "            \"2020-10-01\",\n",
        "            26,\n",
        "            19,\n",
        "            0,\n",
        "            0\n",
        "        ],\n",
        "        [\n",
        "            \"2020-10-02\",\n",
        "            2,\n",
        "            14,\n",
        "            0,\n",
        "            0\n",
        "        ],\n",
        "        [\n",
        "            \"2020-10-03\",\n",
        "            120,\n",
        "            78,\n",
        "            0,\n",
        "            1\n",
        "        ],\n",
        "        [\n",
        "            \"2020-10-04\",\n",
        "            3280,\n",
        "            1203,\n",
        "            75,\n",
        "            88\n",
        "        ],\n",
        "        [\n",
        "            \"2020-10-05\",\n",
        "            2064,\n",
        "            747,\n",
        "            22,\n",
        "            44\n",
        "        ],\n",
        "        [\n",
        "            \"2020-10-06\",\n",
        "            2290,\n",
        "            824,\n",
        "            28,\n",
        "            26\n",
        "        ],\n",
        "        [\n",
        "            \"2020-10-07\",\n",
        "            2817,\n",
        "            950,\n",
        "            13,\n",
        "            20\n",
        "        ],\n",
        "        [\n",
        "            \"2020-10-08\",\n",
        "            4594,\n",
        "            1491,\n",
        "            9,\n",
        "            14\n",
        "        ],\n",
        "        [\n",
        "            \"2020-10-09\",\n",
        "            4238,\n",
        "            1254,\n",
        "            17,\n",
        "            19\n",
        "        ],\n",
        "        [\n",
        "            \"2020-10-10\",\n",
        "            31783,\n",
        "            3231,\n",
        "            126,\n",
        "            102\n",
        "        ],\n",
        "        [\n",
        "            \"2020-10-11\",\n",
        "            6233,\n",
        "            1529,\n",
        "            18,\n",
        "            22\n",
        "        ],\n",
        "        [\n",
        "            \"2020-10-12\",\n",
        "            4786,\n",
        "            1138,\n",
        "            9,\n",
        "            7\n",
        "        ],\n",
        "        [\n",
        "            \"2020-10-13\",\n",
        "            3977,\n",
        "            761,\n",
        "            17,\n",
        "            13\n",
        "        ]\n",
        "    ]\n",
        "}\n",
        "```\n",
        "\n",
        "Como se puede observar, el formato de los datos está definido por la API de YouTube, y consiste en una lista ```columnHeaders``` con los datos de cada columna, como por ejemplo el nombre de la columna, y luego una lista ```rows``` con los datos de cada fila en el mismo orden en que se indicaron las columnas.\n",
        "\n",
        "Usando la API de YouTube, por ejemplo, se puede automatizar el análisis de las estadísticas de videos e incluso realizar cambios acordemente para mejorar su rendimiento. Por ejemplo: cambiar el título, la imagen de portada, los subtítulos, etc. Usando la API de Google Maps se puede llegar a incorporar funcionalidad de mapas o de geolocalización a nuestra aplicación.\n",
        "\n",
        "En conclusión, las API's nos permiten interactuar desde nuestro programa con otras aplicaciones de forma simple y estandarizada para aprovechar todas las herramientas que nos ofrecen, y podemos automatizar este proceso utilizando Python.\n",
        "\n"
      ]
    },
    {
      "cell_type": "markdown",
      "metadata": {
        "id": "07Woo6P88xaC"
      },
      "source": [
        "# Anexo C: Algunos Tips extra para Python\n",
        "La lectura de los Anexos es **100% opcional** y NO es un requisito para continuar con el curso."
      ]
    },
    {
      "cell_type": "markdown",
      "metadata": {
        "id": "OEYA5gQv8-9d"
      },
      "source": [
        "A continuación les dejamos un fragmento de una transmisión en vivo de años anteriores, en la cual se explican diversos trucos y funciones que tiene Python, algunos de los cuales no fueron explicados en la clase pero que pueden serles de utilidad en ciertos casos.\n",
        "\n",
        "Temas:\n",
        "* min( ) y max( )\n",
        "* enumerate\n",
        "* valor vs. referencia\n",
        "* tipos mutables e inmutables\n",
        "* Copiado superficial y en profundidad"
      ]
    },
    {
      "cell_type": "code",
      "metadata": {
        "id": "GrgT__hs8-9f"
      },
      "source": [
        "# Link a Youtube: https://www.youtube.com/watch?v=YzLOST80M6M\n",
        "\n",
        "from IPython.display import YouTubeVideo\n",
        "YouTubeVideo('YzLOST80M6M', start=562, end=2580, width=800, height=450)"
      ],
      "execution_count": null,
      "outputs": []
    },
    {
      "cell_type": "markdown",
      "metadata": {
        "id": "uOqhxKDYHZQn"
      },
      "source": [
        "#Sponsors \n",
        "Agradecemos a nuestros sponsors por facilitarnos la posibilidad de brindar este curso.\n",
        "\n",
        "<img height=\"100\" src=\"https://raw.githubusercontent.com/IEEESBITBA/Curso-python/master/_assets/SPONSOR_JPM.png\">\n",
        "<img height=\"100\" src=\"https://raw.githubusercontent.com/IEEESBITBA/Curso-python/master/_assets/SPONSOR_Flowics.png\">"
      ]
    }
  ]
}